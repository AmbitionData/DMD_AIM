{
 "cells": [
  {
   "cell_type": "code",
   "execution_count": 1,
   "metadata": {
    "collapsed": false
   },
   "outputs": [],
   "source": [
    "%matplotlib inline\n",
    "from __future__ import division\n",
    "from __future__ import print_function\n",
    "\n",
    "import pandas as pd\n",
    "import matplotlib.pyplot as plt\n",
    "plt.style.use('ggplot')\n",
    "import utils\n",
    "from collections import Counter\n",
    "from sklearn.feature_extraction.text import CountVectorizer\n",
    "from sklearn.cluster import KMeans, MiniBatchKMeans\n",
    "from sklearn import metrics\n",
    "from time import time"
   ]
  },
  {
   "cell_type": "code",
   "execution_count": 2,
   "metadata": {
    "collapsed": false
   },
   "outputs": [
    {
     "name": "stderr",
     "output_type": "stream",
     "text": [
      "/usr/local/lib/python2.7/site-packages/IPython/core/interactiveshell.py:2821: DtypeWarning: Columns (5,6,7,8,11,12,13,14,17,18) have mixed types. Specify dtype option on import or set low_memory=False.\n",
      "  if self.run_code(code, result):\n",
      "/usr/local/lib/python2.7/site-packages/IPython/core/interactiveshell.py:2821: DtypeWarning: Columns (15) have mixed types. Specify dtype option on import or set low_memory=False.\n",
      "  if self.run_code(code, result):\n"
     ]
    }
   ],
   "source": [
    "visitors, events, devices, url_categories = utils.load_data(event_categories=True)\n",
    "#categorized_events = utils.categorize_events(events, url_categories)"
   ]
  },
  {
   "cell_type": "markdown",
   "metadata": {},
   "source": [
    "### Use Cases\n",
    "- ok\n",
    "#### Pharma/Device Branded Research\n",
    "- Visits a pharma or medical device site for a specific brand\n",
    "#### Pharma/Device Unbranded Research\n",
    "- Visits a pharma or medical device unbranded education site\n",
    "#### Publication Research\n",
    "- Visits a publication site\n",
    "#### Professional Social Media / Career\n",
    "- Visits a professional social media or recruitment site\n",
    "#### Education / Tools\n",
    "- Visits a site focused on educational resources and tools to better serve patients\n",
    "#### Mixed Visits\n",
    "- A combination of anything above; can flesh out specific combinations if they are frequent enough (ex: social + publication)"
   ]
  },
  {
   "cell_type": "code",
   "execution_count": 18,
   "metadata": {
    "collapsed": true
   },
   "outputs": [],
   "source": [
    "def define_use_case(event):\n",
    "    if event.site_category == 'Publisher':\n",
    "        return 'Publication Research'\n",
    "    elif event.site_category in ['Reference Tool', 'Medical Education', 'Multi-Channel Marketing']:\n",
    "        return 'Education/Tools'\n",
    "    elif event.site_category in ['Pharma', 'Med Device']:\n",
    "        if event.site_sub_category.strip() in ['Branded HCP', 'Branded Consumer']:\n",
    "            return 'Branded Pharma'\n",
    "        elif event.site_sub_category.strip() in ['Unbranded HCP', 'Unbranded Consumer']:\n",
    "            return 'Unbranded Pharma'\n",
    "    elif event.site_category in ['Professional Social', 'Medical Association', 'Recruiter']:\n",
    "        return 'Professional/Social Media'\n",
    "    else:\n",
    "        return 'Other'"
   ]
  },
  {
   "cell_type": "code",
   "execution_count": 364,
   "metadata": {
    "collapsed": false
   },
   "outputs": [],
   "source": [
    "def define_use_case_limited(event):\n",
    "    if event.site_category in ['Publisher', 'Reference Tool', 'Medical Education', 'Multi-Channel Marketing']:\n",
    "        return 'publications_ed_tools'\n",
    "    elif event.site_category in ['Pharma', 'Med Device']:\n",
    "        return 'pharma_device'\n",
    "    elif event.site_category in ['Professional Social', 'Medical Association', 'Recruiter']:\n",
    "        return 'professional_social_media'\n",
    "    else:\n",
    "        return 'other'"
   ]
  },
  {
   "cell_type": "code",
   "execution_count": 3,
   "metadata": {
    "collapsed": true
   },
   "outputs": [],
   "source": [
    "publisher_tools = ['Publisher', 'Reference Tool', 'Medical Education', 'Multi-Channel Marketing']\n",
    "pharma = ['Pharma', 'Med Device']\n",
    "social = ['Professional Social', 'Medical Association', 'Recruiter']"
   ]
  },
  {
   "cell_type": "code",
   "execution_count": 4,
   "metadata": {
    "collapsed": true
   },
   "outputs": [],
   "source": [
    "events['use_case'] = ''\n",
    "events.loc[events.site_category.isin(publisher_tools), 'use_case'] = 'publications_ed_tools'\n",
    "events.loc[events.site_category.isin(pharma), 'use_case'] = 'pharma_device'\n",
    "events.loc[events.site_category.isin(social), 'use_case'] = 'professional_social_media'\n",
    "events.loc[events.use_case=='', 'use_case'] = 'other'"
   ]
  },
  {
   "cell_type": "code",
   "execution_count": 332,
   "metadata": {
    "collapsed": false
   },
   "outputs": [],
   "source": [
    "events['use_case'] = events.apply(lambda x: define_use_case_limited(x), axis=1)"
   ]
  },
  {
   "cell_type": "code",
   "execution_count": 5,
   "metadata": {
    "collapsed": false,
    "scrolled": true
   },
   "outputs": [
    {
     "data": {
      "text/plain": [
       "publications_ed_tools        1603272\n",
       "pharma_device                 140356\n",
       "professional_social_media      83496\n",
       "other                          35462\n",
       "Name: use_case, dtype: int64"
      ]
     },
     "execution_count": 5,
     "metadata": {},
     "output_type": "execute_result"
    }
   ],
   "source": [
    "events.use_case.value_counts()"
   ]
  },
  {
   "cell_type": "code",
   "execution_count": 6,
   "metadata": {
    "collapsed": false
   },
   "outputs": [
    {
     "data": {
      "text/plain": [
       "<matplotlib.axes._subplots.AxesSubplot at 0x10937e790>"
      ]
     },
     "execution_count": 6,
     "metadata": {},
     "output_type": "execute_result"
    },
    {
     "data": {
      "image/png": "[encoded data removed]",
      "text/plain": [
       "<matplotlib.figure.Figure at 0x15e91db90>"
      ]
     },
     "metadata": {},
     "output_type": "display_data"
    }
   ],
   "source": [
    "events[events.use_case<>'publication_research'].groupby('use_case').session_id.nunique().plot.bar(rot=45, alpha=0.5)"
   ]
  },
  {
   "cell_type": "code",
   "execution_count": 7,
   "metadata": {
    "collapsed": false
   },
   "outputs": [
    {
     "data": {
      "text/html": [
       "<div>\n",
       "<style>\n",
       "    .dataframe thead tr:only-child th {\n",
       "        text-align: right;\n",
       "    }\n",
       "\n",
       "    .dataframe thead th {\n",
       "        text-align: left;\n",
       "    }\n",
       "\n",
       "    .dataframe tbody tr th {\n",
       "        vertical-align: top;\n",
       "    }\n",
       "</style>\n",
       "<table border=\"1\" class=\"dataframe\">\n",
       "  <thead>\n",
       "    <tr style=\"text-align: right;\">\n",
       "      <th></th>\n",
       "      <th>visitor_id</th>\n",
       "      <th>dg_id</th>\n",
       "      <th>identity_type</th>\n",
       "      <th>professional_designation</th>\n",
       "      <th>npi_number</th>\n",
       "      <th>primary_specialty</th>\n",
       "      <th>primary_specialty_group</th>\n",
       "      <th>secondary_specialty</th>\n",
       "      <th>secondary_specialty_group</th>\n",
       "      <th>first_name</th>\n",
       "      <th>...</th>\n",
       "      <th>fragment</th>\n",
       "      <th>reason</th>\n",
       "      <th>category_url</th>\n",
       "      <th>site_category</th>\n",
       "      <th>site_sub_category</th>\n",
       "      <th>disease_category</th>\n",
       "      <th>disease</th>\n",
       "      <th>pharma_firm</th>\n",
       "      <th>use_case</th>\n",
       "      <th>page_views</th>\n",
       "    </tr>\n",
       "  </thead>\n",
       "  <tbody>\n",
       "    <tr>\n",
       "      <th>0</th>\n",
       "      <td>140</td>\n",
       "      <td>0000124213</td>\n",
       "      <td>POI</td>\n",
       "      <td>POI</td>\n",
       "      <td>NaN</td>\n",
       "      <td>NaN</td>\n",
       "      <td>NaN</td>\n",
       "      <td>NaN</td>\n",
       "      <td>NaN</td>\n",
       "      <td>KIMBERLY</td>\n",
       "      <td>...</td>\n",
       "      <td>NaN</td>\n",
       "      <td>NaN</td>\n",
       "      <td>NaN</td>\n",
       "      <td>NaN</td>\n",
       "      <td>NaN</td>\n",
       "      <td>NaN</td>\n",
       "      <td>NaN</td>\n",
       "      <td>NaN</td>\n",
       "      <td>other</td>\n",
       "      <td>1</td>\n",
       "    </tr>\n",
       "    <tr>\n",
       "      <th>1</th>\n",
       "      <td>3538</td>\n",
       "      <td>R0000000026</td>\n",
       "      <td>POI</td>\n",
       "      <td>Nurse</td>\n",
       "      <td>NaN</td>\n",
       "      <td>NaN</td>\n",
       "      <td>NaN</td>\n",
       "      <td>NaN</td>\n",
       "      <td>NaN</td>\n",
       "      <td>SHARON</td>\n",
       "      <td>...</td>\n",
       "      <td>NaN</td>\n",
       "      <td>NaN</td>\n",
       "      <td>www.ReachMD.com</td>\n",
       "      <td>Multi-Channel Marketing</td>\n",
       "      <td>Multi Topic</td>\n",
       "      <td>Multiple</td>\n",
       "      <td>NaN</td>\n",
       "      <td>NaN</td>\n",
       "      <td>publications_ed_tools</td>\n",
       "      <td>1</td>\n",
       "    </tr>\n",
       "    <tr>\n",
       "      <th>2</th>\n",
       "      <td>3562</td>\n",
       "      <td>R0000000098</td>\n",
       "      <td>POI</td>\n",
       "      <td>Nurse</td>\n",
       "      <td>NaN</td>\n",
       "      <td>NaN</td>\n",
       "      <td>NaN</td>\n",
       "      <td>NaN</td>\n",
       "      <td>NaN</td>\n",
       "      <td>KAREN</td>\n",
       "      <td>...</td>\n",
       "      <td>NaN</td>\n",
       "      <td>NaN</td>\n",
       "      <td>www.medicalnewstoday.com</td>\n",
       "      <td>Publisher</td>\n",
       "      <td>Multi Topic</td>\n",
       "      <td>Multiple</td>\n",
       "      <td>NaN</td>\n",
       "      <td>NaN</td>\n",
       "      <td>publications_ed_tools</td>\n",
       "      <td>1</td>\n",
       "    </tr>\n",
       "    <tr>\n",
       "      <th>3</th>\n",
       "      <td>3653</td>\n",
       "      <td>R0000000358</td>\n",
       "      <td>POI</td>\n",
       "      <td>Nurse</td>\n",
       "      <td>NaN</td>\n",
       "      <td>NaN</td>\n",
       "      <td>NaN</td>\n",
       "      <td>NaN</td>\n",
       "      <td>NaN</td>\n",
       "      <td>PROSPECTIVE STUDENT</td>\n",
       "      <td>...</td>\n",
       "      <td>NaN</td>\n",
       "      <td>NaN</td>\n",
       "      <td>www.healthjobsnationwide.com</td>\n",
       "      <td>Recruiter</td>\n",
       "      <td>Multi Topic</td>\n",
       "      <td>Multiple</td>\n",
       "      <td>NaN</td>\n",
       "      <td>NaN</td>\n",
       "      <td>professional_social_media</td>\n",
       "      <td>1</td>\n",
       "    </tr>\n",
       "    <tr>\n",
       "      <th>4</th>\n",
       "      <td>3783</td>\n",
       "      <td>R0000000651</td>\n",
       "      <td>POI</td>\n",
       "      <td>Nurse</td>\n",
       "      <td>NaN</td>\n",
       "      <td>NaN</td>\n",
       "      <td>NaN</td>\n",
       "      <td>NaN</td>\n",
       "      <td>NaN</td>\n",
       "      <td>PROSPECTIVE STUDENT</td>\n",
       "      <td>...</td>\n",
       "      <td>NaN</td>\n",
       "      <td>NaN</td>\n",
       "      <td>www.consultant360.com</td>\n",
       "      <td>Publisher</td>\n",
       "      <td>Multi Topic</td>\n",
       "      <td>Multiple</td>\n",
       "      <td>NaN</td>\n",
       "      <td>NaN</td>\n",
       "      <td>publications_ed_tools</td>\n",
       "      <td>2</td>\n",
       "    </tr>\n",
       "  </tbody>\n",
       "</table>\n",
       "<p>5 rows × 44 columns</p>\n",
       "</div>"
      ],
      "text/plain": [
       "   visitor_id        dg_id identity_type professional_designation  npi_number  \\\n",
       "0         140   0000124213           POI                      POI         NaN   \n",
       "1        3538  R0000000026           POI                    Nurse         NaN   \n",
       "2        3562  R0000000098           POI                    Nurse         NaN   \n",
       "3        3653  R0000000358           POI                    Nurse         NaN   \n",
       "4        3783  R0000000651           POI                    Nurse         NaN   \n",
       "\n",
       "  primary_specialty primary_specialty_group secondary_specialty  \\\n",
       "0               NaN                     NaN                 NaN   \n",
       "1               NaN                     NaN                 NaN   \n",
       "2               NaN                     NaN                 NaN   \n",
       "3               NaN                     NaN                 NaN   \n",
       "4               NaN                     NaN                 NaN   \n",
       "\n",
       "  secondary_specialty_group           first_name    ...     fragment reason  \\\n",
       "0                       NaN             KIMBERLY    ...          NaN    NaN   \n",
       "1                       NaN               SHARON    ...          NaN    NaN   \n",
       "2                       NaN                KAREN    ...          NaN    NaN   \n",
       "3                       NaN  PROSPECTIVE STUDENT    ...          NaN    NaN   \n",
       "4                       NaN  PROSPECTIVE STUDENT    ...          NaN    NaN   \n",
       "\n",
       "                   category_url            site_category site_sub_category  \\\n",
       "0                           NaN                      NaN               NaN   \n",
       "1               www.ReachMD.com  Multi-Channel Marketing       Multi Topic   \n",
       "2      www.medicalnewstoday.com                Publisher       Multi Topic   \n",
       "3  www.healthjobsnationwide.com                Recruiter       Multi Topic   \n",
       "4         www.consultant360.com                Publisher       Multi Topic   \n",
       "\n",
       "   disease_category  disease pharma_firm                   use_case page_views  \n",
       "0               NaN      NaN         NaN                      other          1  \n",
       "1          Multiple      NaN         NaN      publications_ed_tools          1  \n",
       "2          Multiple      NaN         NaN      publications_ed_tools          1  \n",
       "3          Multiple      NaN         NaN  professional_social_media          1  \n",
       "4          Multiple      NaN         NaN      publications_ed_tools          2  \n",
       "\n",
       "[5 rows x 44 columns]"
      ]
     },
     "execution_count": 7,
     "metadata": {},
     "output_type": "execute_result"
    }
   ],
   "source": [
    "sessions = events[events.use_case <> 'Other'].groupby('session_id').event_id.count().reset_index()\n",
    "sessions = sessions.rename(columns={'event_id':'page_views'})\n",
    "event_sessions = events.drop_duplicates('session_id')\n",
    "event_sessions = pd.merge(event_sessions, sessions, on='session_id')\n",
    "event_sessions = pd.merge(visitors, event_sessions, on='dg_id')\n",
    "event_sessions.head()"
   ]
  },
  {
   "cell_type": "code",
   "execution_count": 34,
   "metadata": {
    "collapsed": false
   },
   "outputs": [],
   "source": [
    "tableau_sessions = event_sessions[['timestamp', 'dg_id', 'npi_number', 'primary_specialty', 'site_category', 'site_sub_category', 'disease_category', 'disease', 'pharma_firm', 'use_case', 'page_views']]"
   ]
  },
  {
   "cell_type": "code",
   "execution_count": 38,
   "metadata": {
    "collapsed": false
   },
   "outputs": [],
   "source": [
    "tableau_sessions.to_csv('../data/use_case_sessions.csv')"
   ]
  },
  {
   "cell_type": "code",
   "execution_count": 230,
   "metadata": {
    "collapsed": false
   },
   "outputs": [
    {
     "data": {
      "text/html": [
       "<div>\n",
       "<style>\n",
       "    .dataframe thead tr:only-child th {\n",
       "        text-align: right;\n",
       "    }\n",
       "\n",
       "    .dataframe thead th {\n",
       "        text-align: left;\n",
       "    }\n",
       "\n",
       "    .dataframe tbody tr th {\n",
       "        vertical-align: top;\n",
       "    }\n",
       "</style>\n",
       "<table border=\"1\" class=\"dataframe\">\n",
       "  <thead>\n",
       "    <tr style=\"text-align: right;\">\n",
       "      <th></th>\n",
       "      <th>timestamp</th>\n",
       "      <th>dg_id</th>\n",
       "      <th>npi_number</th>\n",
       "      <th>primary_specialty</th>\n",
       "      <th>site_category</th>\n",
       "      <th>site_sub_category</th>\n",
       "      <th>disease_category</th>\n",
       "      <th>disease</th>\n",
       "      <th>pharma_firm</th>\n",
       "      <th>use_case</th>\n",
       "      <th>page_views</th>\n",
       "    </tr>\n",
       "  </thead>\n",
       "  <tbody>\n",
       "    <tr>\n",
       "      <th>0</th>\n",
       "      <td>2017-02-14 23:29:52.100</td>\n",
       "      <td>0000124213</td>\n",
       "      <td>NaN</td>\n",
       "      <td>NaN</td>\n",
       "      <td>NaN</td>\n",
       "      <td>NaN</td>\n",
       "      <td>NaN</td>\n",
       "      <td>NaN</td>\n",
       "      <td>NaN</td>\n",
       "      <td>Other</td>\n",
       "      <td>1</td>\n",
       "    </tr>\n",
       "    <tr>\n",
       "      <th>1</th>\n",
       "      <td>2017-02-04 12:44:07.660</td>\n",
       "      <td>R0000000026</td>\n",
       "      <td>NaN</td>\n",
       "      <td>NaN</td>\n",
       "      <td>Multi-Channel Marketing</td>\n",
       "      <td>Multi Topic</td>\n",
       "      <td>Multiple</td>\n",
       "      <td>NaN</td>\n",
       "      <td>NaN</td>\n",
       "      <td>Education/Tools</td>\n",
       "      <td>1</td>\n",
       "    </tr>\n",
       "    <tr>\n",
       "      <th>2</th>\n",
       "      <td>2017-03-17 13:20:51.610</td>\n",
       "      <td>R0000000098</td>\n",
       "      <td>NaN</td>\n",
       "      <td>NaN</td>\n",
       "      <td>Publisher</td>\n",
       "      <td>Multi Topic</td>\n",
       "      <td>Multiple</td>\n",
       "      <td>NaN</td>\n",
       "      <td>NaN</td>\n",
       "      <td>Publication Research</td>\n",
       "      <td>1</td>\n",
       "    </tr>\n",
       "    <tr>\n",
       "      <th>3</th>\n",
       "      <td>2017-04-09 12:11:33.693</td>\n",
       "      <td>R0000000358</td>\n",
       "      <td>NaN</td>\n",
       "      <td>NaN</td>\n",
       "      <td>Recruiter</td>\n",
       "      <td>Multi Topic</td>\n",
       "      <td>Multiple</td>\n",
       "      <td>NaN</td>\n",
       "      <td>NaN</td>\n",
       "      <td>Professional/Social Media</td>\n",
       "      <td>1</td>\n",
       "    </tr>\n",
       "    <tr>\n",
       "      <th>4</th>\n",
       "      <td>2017-05-03 15:40:07.033</td>\n",
       "      <td>R0000000651</td>\n",
       "      <td>NaN</td>\n",
       "      <td>NaN</td>\n",
       "      <td>Publisher</td>\n",
       "      <td>Multi Topic</td>\n",
       "      <td>Multiple</td>\n",
       "      <td>NaN</td>\n",
       "      <td>NaN</td>\n",
       "      <td>Publication Research</td>\n",
       "      <td>2</td>\n",
       "    </tr>\n",
       "  </tbody>\n",
       "</table>\n",
       "</div>"
      ],
      "text/plain": [
       "                timestamp        dg_id  npi_number primary_specialty  \\\n",
       "0 2017-02-14 23:29:52.100   0000124213         NaN               NaN   \n",
       "1 2017-02-04 12:44:07.660  R0000000026         NaN               NaN   \n",
       "2 2017-03-17 13:20:51.610  R0000000098         NaN               NaN   \n",
       "3 2017-04-09 12:11:33.693  R0000000358         NaN               NaN   \n",
       "4 2017-05-03 15:40:07.033  R0000000651         NaN               NaN   \n",
       "\n",
       "             site_category site_sub_category disease_category disease  \\\n",
       "0                      NaN               NaN              NaN     NaN   \n",
       "1  Multi-Channel Marketing       Multi Topic         Multiple     NaN   \n",
       "2                Publisher       Multi Topic         Multiple     NaN   \n",
       "3                Recruiter       Multi Topic         Multiple     NaN   \n",
       "4                Publisher       Multi Topic         Multiple     NaN   \n",
       "\n",
       "  pharma_firm                   use_case  page_views  \n",
       "0         NaN                      Other           1  \n",
       "1         NaN            Education/Tools           1  \n",
       "2         NaN       Publication Research           1  \n",
       "3         NaN  Professional/Social Media           1  \n",
       "4         NaN       Publication Research           2  "
      ]
     },
     "execution_count": 230,
     "metadata": {},
     "output_type": "execute_result"
    }
   ],
   "source": [
    "tableau_sessions.head()"
   ]
  },
  {
   "cell_type": "code",
   "execution_count": 8,
   "metadata": {
    "collapsed": false
   },
   "outputs": [],
   "source": [
    "personas = event_sessions.groupby('dg_id').use_case.apply(list).reset_index()\n",
    "personas['total_sessions'] = personas.use_case.apply(lambda x: len(x))\n",
    "personas['use_case_counts'] = personas.use_case.apply(lambda x: Counter(x))"
   ]
  },
  {
   "cell_type": "code",
   "execution_count": 268,
   "metadata": {
    "collapsed": false
   },
   "outputs": [],
   "source": [
    "single_use_case = personas[personas.use_case_counts.apply(lambda x: len(x))==1]\n",
    "multi_use_case = personas[personas.use_case_counts.apply(lambda x: len(x))>1]"
   ]
  },
  {
   "cell_type": "code",
   "execution_count": 9,
   "metadata": {
    "collapsed": true
   },
   "outputs": [],
   "source": [
    "many_or_done = personas[personas.total_sessions>=5]"
   ]
  },
  {
   "cell_type": "code",
   "execution_count": 10,
   "metadata": {
    "collapsed": false
   },
   "outputs": [
    {
     "data": {
      "text/plain": [
       "0.21018889428959323"
      ]
     },
     "execution_count": 10,
     "metadata": {},
     "output_type": "execute_result"
    }
   ],
   "source": [
    "len(many_or_done)/len(personas)"
   ]
  },
  {
   "cell_type": "code",
   "execution_count": 11,
   "metadata": {
    "collapsed": false
   },
   "outputs": [
    {
     "data": {
      "text/plain": [
       "<matplotlib.axes._subplots.AxesSubplot at 0x11c472d10>"
      ]
     },
     "execution_count": 11,
     "metadata": {},
     "output_type": "execute_result"
    },
    {
     "data": {
      "image/png": "[encoded data removed]",
      "text/plain": [
       "<matplotlib.figure.Figure at 0x113b075d0>"
      ]
     },
     "metadata": {},
     "output_type": "display_data"
    }
   ],
   "source": [
    "many_or_done.total_sessions.hist(bins=20)"
   ]
  },
  {
   "cell_type": "code",
   "execution_count": 258,
   "metadata": {
    "collapsed": false
   },
   "outputs": [
    {
     "data": {
      "text/plain": [
       "count    91102.000000\n",
       "mean         3.105311\n",
       "std         11.014518\n",
       "min          1.000000\n",
       "25%          1.000000\n",
       "50%          1.000000\n",
       "75%          2.000000\n",
       "max        801.000000\n",
       "Name: total_sessions, dtype: float64"
      ]
     },
     "execution_count": 258,
     "metadata": {},
     "output_type": "execute_result"
    }
   ],
   "source": [
    "single_use_case.total_sessions.describe()"
   ]
  },
  {
   "cell_type": "code",
   "execution_count": 269,
   "metadata": {
    "collapsed": false
   },
   "outputs": [
    {
     "name": "stderr",
     "output_type": "stream",
     "text": [
      "/usr/local/lib/python2.7/site-packages/ipykernel/__main__.py:1: SettingWithCopyWarning: \n",
      "A value is trying to be set on a copy of a slice from a DataFrame.\n",
      "Try using .loc[row_indexer,col_indexer] = value instead\n",
      "\n",
      "See the caveats in the documentation: http://pandas.pydata.org/pandas-docs/stable/indexing.html#indexing-view-versus-copy\n",
      "  if __name__ == '__main__':\n"
     ]
    }
   ],
   "source": [
    "single_use_case['single_use_case'] = single_use_case.use_case_counts.apply(lambda x: x.items()[0][0])"
   ]
  },
  {
   "cell_type": "code",
   "execution_count": 270,
   "metadata": {
    "collapsed": false
   },
   "outputs": [
    {
     "data": {
      "text/plain": [
       "publication_research    44003\n",
       "education_tools         32908\n",
       "social_media             6588\n",
       "branded                  5515\n",
       "other                    1984\n",
       "unbranded                 104\n",
       "Name: single_use_case, dtype: int64"
      ]
     },
     "execution_count": 270,
     "metadata": {},
     "output_type": "execute_result"
    }
   ],
   "source": [
    "single_use_case.single_use_case.value_counts()"
   ]
  },
  {
   "cell_type": "code",
   "execution_count": 195,
   "metadata": {
    "collapsed": true
   },
   "outputs": [],
   "source": [
    "personas['pharma'] = personas.use_case_counts.apply(lambda x: x['branded'] + x['unbranded'])"
   ]
  },
  {
   "cell_type": "code",
   "execution_count": 209,
   "metadata": {
    "collapsed": false
   },
   "outputs": [],
   "source": [
    "personas = pd.merge(personas, dg_phirms[['dg_id', 'phirm_counts']], on='dg_id', how='left')"
   ]
  },
  {
   "cell_type": "code",
   "execution_count": 231,
   "metadata": {
    "collapsed": false
   },
   "outputs": [],
   "source": [
    "personas['number_use_cases'] = personas.use_case_counts.apply(lambda x: len(x))"
   ]
  },
  {
   "cell_type": "code",
   "execution_count": 312,
   "metadata": {
    "collapsed": false
   },
   "outputs": [
    {
     "data": {
      "text/plain": [
       "0.7293510324483776"
      ]
     },
     "execution_count": 312,
     "metadata": {},
     "output_type": "execute_result"
    }
   ],
   "source": [
    "len(personas[personas.total_sessions<=3])/len(personas)"
   ]
  },
  {
   "cell_type": "code",
   "execution_count": 327,
   "metadata": {
    "collapsed": false
   },
   "outputs": [
    {
     "data": {
      "text/plain": [
       "<matplotlib.axes._subplots.AxesSubplot at 0x1631d1c50>"
      ]
     },
     "execution_count": 327,
     "metadata": {},
     "output_type": "execute_result"
    },
    {
     "data": {
      "image/png": "[encoded data removed]",
      "text/plain": [
       "<matplotlib.figure.Figure at 0x1623f9350>"
      ]
     },
     "metadata": {},
     "output_type": "display_data"
    }
   ],
   "source": [
    "personas[(personas.total_sessions>=10)&(personas.total_sessions <= 100)].total_sessions.hist(bins=20)"
   ]
  },
  {
   "cell_type": "code",
   "execution_count": 316,
   "metadata": {
    "collapsed": false
   },
   "outputs": [
    {
     "data": {
      "text/html": [
       "<div>\n",
       "<style>\n",
       "    .dataframe thead tr:only-child th {\n",
       "        text-align: right;\n",
       "    }\n",
       "\n",
       "    .dataframe thead th {\n",
       "        text-align: left;\n",
       "    }\n",
       "\n",
       "    .dataframe tbody tr th {\n",
       "        vertical-align: top;\n",
       "    }\n",
       "</style>\n",
       "<table border=\"1\" class=\"dataframe\">\n",
       "  <thead>\n",
       "    <tr style=\"text-align: right;\">\n",
       "      <th></th>\n",
       "      <th>session_id</th>\n",
       "      <th>timestamp</th>\n",
       "    </tr>\n",
       "  </thead>\n",
       "  <tbody>\n",
       "    <tr>\n",
       "      <th>1577057</th>\n",
       "      <td>3661872c-b9f3-45ee-b7a6-6b7d7f46de71</td>\n",
       "      <td>2017-03-16 18:26:21.873</td>\n",
       "    </tr>\n",
       "    <tr>\n",
       "      <th>1577058</th>\n",
       "      <td>3661872c-b9f3-45ee-b7a6-6b7d7f46de71</td>\n",
       "      <td>2017-03-16 18:26:32.067</td>\n",
       "    </tr>\n",
       "    <tr>\n",
       "      <th>1577059</th>\n",
       "      <td>f7f31c2f-3bc5-4b15-82df-9fee479eae9b</td>\n",
       "      <td>2017-04-11 14:26:23.963</td>\n",
       "    </tr>\n",
       "    <tr>\n",
       "      <th>1577060</th>\n",
       "      <td>f7f31c2f-3bc5-4b15-82df-9fee479eae9b</td>\n",
       "      <td>2017-04-11 14:26:29.223</td>\n",
       "    </tr>\n",
       "  </tbody>\n",
       "</table>\n",
       "</div>"
      ],
      "text/plain": [
       "                                   session_id               timestamp\n",
       "1577057  3661872c-b9f3-45ee-b7a6-6b7d7f46de71 2017-03-16 18:26:21.873\n",
       "1577058  3661872c-b9f3-45ee-b7a6-6b7d7f46de71 2017-03-16 18:26:32.067\n",
       "1577059  f7f31c2f-3bc5-4b15-82df-9fee479eae9b 2017-04-11 14:26:23.963\n",
       "1577060  f7f31c2f-3bc5-4b15-82df-9fee479eae9b 2017-04-11 14:26:29.223"
      ]
     },
     "execution_count": 316,
     "metadata": {},
     "output_type": "execute_result"
    }
   ],
   "source": [
    "events[events.dg_id=='U082239426'][['session_id', 'timestamp']]"
   ]
  },
  {
   "cell_type": "code",
   "execution_count": 373,
   "metadata": {
    "collapsed": false
   },
   "outputs": [
    {
     "name": "stdout",
     "output_type": "stream",
     "text": [
      "Initialization complete\n",
      "Iteration  0, inertia 43570067.000\n",
      "Iteration  1, inertia 43142255.163\n",
      "Iteration  2, inertia 43030816.718\n",
      "Iteration  3, inertia 42842137.476\n",
      "Iteration  4, inertia 42752009.685\n",
      "Iteration  5, inertia 42742954.892\n",
      "Iteration  6, inertia 42742066.413\n",
      "Iteration  7, inertia 42741587.711\n",
      "Iteration  8, inertia 42741516.904\n",
      "Converged at iteration 8: center shift 0.000000e+00 within tolerance 1.611878e-01\n",
      "done in 0.393s\n",
      "\n"
     ]
    },
    {
     "name": "stderr",
     "output_type": "stream",
     "text": [
      "/usr/local/lib/python2.7/site-packages/ipykernel/__main__.py:13: SettingWithCopyWarning: \n",
      "A value is trying to be set on a copy of a slice from a DataFrame.\n",
      "Try using .loc[row_indexer,col_indexer] = value instead\n",
      "\n",
      "See the caveats in the documentation: http://pandas.pydata.org/pandas-docs/stable/indexing.html#indexing-view-versus-copy\n"
     ]
    }
   ],
   "source": [
    "vectorizer = CountVectorizer(min_df=1)\n",
    "#X = vectorizer.fit_transform(personas.use_case.apply(lambda x: ', '.join(x)).as_matrix())\n",
    "#Xs = vectorizer.fit_transform(single_use_case.use_case.apply(lambda x: ', '.join(x)).as_matrix())\n",
    "#Xt = vectorizer.fit_transform(personas[personas.number_use_cases>1].use_case.apply(lambda x: ', '.join(x)).as_matrix())\n",
    "Xm = vectorizer.fit_transform(many_or_done.use_case.apply(lambda x: ', '.join(x)).as_matrix())\n",
    "km = KMeans(n_clusters=3, init='k-means++', max_iter=100, n_init=1, verbose=1)\n",
    "\n",
    "t0 = time()\n",
    "km.fit(Xm)\n",
    "print (\"done in %0.3fs\" % (time() - t0))\n",
    "print()\n",
    "\n",
    "many_or_done['cluster'] = km.labels_"
   ]
  },
  {
   "cell_type": "code",
   "execution_count": 374,
   "metadata": {
    "collapsed": false,
    "scrolled": true
   },
   "outputs": [
    {
     "data": {
      "text/plain": [
       "0    24645\n",
       "2      410\n",
       "1       26\n",
       "Name: cluster, dtype: int64"
      ]
     },
     "execution_count": 374,
     "metadata": {},
     "output_type": "execute_result"
    }
   ],
   "source": [
    "many_or_done.cluster.value_counts()"
   ]
  },
  {
   "cell_type": "code",
   "execution_count": 376,
   "metadata": {
    "collapsed": false,
    "scrolled": true
   },
   "outputs": [
    {
     "name": "stdout",
     "output_type": "stream",
     "text": [
      "Counter({'publications_ed_tools': 1064, 'other': 48, 'pharma_device': 16, 'professional_social_media': 5})\n",
      "Counter({'publications_ed_tools': 1238, 'pharma_device': 47, 'professional_social_media': 21, 'other': 5})\n",
      "Counter({'publications_ed_tools': 1424, 'pharma_device': 65, 'professional_social_media': 12, 'other': 10})\n",
      "Counter({'publications_ed_tools': 1064, 'other': 48, 'pharma_device': 16, 'professional_social_media': 5})\n",
      "Counter({'publications_ed_tools': 1565, 'pharma_device': 36, 'professional_social_media': 32, 'other': 24})\n",
      "Counter({'publications_ed_tools': 4295, 'other': 61, 'pharma_device': 25, 'professional_social_media': 7})\n",
      "Counter({'publications_ed_tools': 2498, 'pharma_device': 12, 'professional_social_media': 1, 'other': 1})\n",
      "Counter({'publications_ed_tools': 1082, 'pharma_device': 12, 'professional_social_media': 2})\n",
      "Counter({'publications_ed_tools': 1258, 'other': 21, 'pharma_device': 4})\n",
      "Counter({'publications_ed_tools': 1183, 'pharma_device': 43, 'professional_social_media': 17, 'other': 8})\n"
     ]
    }
   ],
   "source": [
    "i = 0\n",
    "while i < 10:\n",
    "    print(many_or_done[many_or_done.cluster==1].sample().use_case_counts.item())\n",
    "    i+=1"
   ]
  },
  {
   "cell_type": "code",
   "execution_count": 279,
   "metadata": {
    "collapsed": false
   },
   "outputs": [
    {
     "data": {
      "text/html": [
       "<div>\n",
       "<style>\n",
       "    .dataframe thead tr:only-child th {\n",
       "        text-align: right;\n",
       "    }\n",
       "\n",
       "    .dataframe thead th {\n",
       "        text-align: left;\n",
       "    }\n",
       "\n",
       "    .dataframe tbody tr th {\n",
       "        vertical-align: top;\n",
       "    }\n",
       "</style>\n",
       "<table border=\"1\" class=\"dataframe\">\n",
       "  <thead>\n",
       "    <tr style=\"text-align: right;\">\n",
       "      <th></th>\n",
       "      <th>mean</th>\n",
       "      <th>count</th>\n",
       "    </tr>\n",
       "    <tr>\n",
       "      <th>cluster</th>\n",
       "      <th></th>\n",
       "      <th></th>\n",
       "    </tr>\n",
       "  </thead>\n",
       "  <tbody>\n",
       "    <tr>\n",
       "      <th>0</th>\n",
       "      <td>2.461435</td>\n",
       "      <td>90329</td>\n",
       "    </tr>\n",
       "    <tr>\n",
       "      <th>1</th>\n",
       "      <td>241.068966</td>\n",
       "      <td>87</td>\n",
       "    </tr>\n",
       "    <tr>\n",
       "      <th>2</th>\n",
       "      <td>801.000000</td>\n",
       "      <td>1</td>\n",
       "    </tr>\n",
       "    <tr>\n",
       "      <th>3</th>\n",
       "      <td>56.623358</td>\n",
       "      <td>685</td>\n",
       "    </tr>\n",
       "  </tbody>\n",
       "</table>\n",
       "</div>"
      ],
      "text/plain": [
       "               mean  count\n",
       "cluster                   \n",
       "0          2.461435  90329\n",
       "1        241.068966     87\n",
       "2        801.000000      1\n",
       "3         56.623358    685"
      ]
     },
     "execution_count": 279,
     "metadata": {},
     "output_type": "execute_result"
    }
   ],
   "source": [
    "single_use_case.groupby('cluster').total_sessions.agg(['mean', 'count'])"
   ]
  },
  {
   "cell_type": "code",
   "execution_count": 280,
   "metadata": {
    "collapsed": false
   },
   "outputs": [],
   "source": [
    "from sklearn.decomposition import PCA\n",
    "pca = PCA(n_components=2).fit_transform(Xs.toarray())"
   ]
  },
  {
   "cell_type": "code",
   "execution_count": 94,
   "metadata": {
    "collapsed": false
   },
   "outputs": [
    {
     "data": {
      "text/plain": [
       "[36895]"
      ]
     },
     "execution_count": 94,
     "metadata": {},
     "output_type": "execute_result"
    }
   ],
   "source": [
    "import random\n",
    "random.sample(range(pca.shape[0]), 1)"
   ]
  },
  {
   "cell_type": "code",
   "execution_count": 281,
   "metadata": {
    "collapsed": false,
    "scrolled": true
   },
   "outputs": [
    {
     "data": {
      "image/png": "[encoded data removed]",
      "text/plain": [
       "<matplotlib.figure.Figure at 0x133892450>"
      ]
     },
     "metadata": {},
     "output_type": "display_data"
    },
    {
     "data": {
      "text/plain": [
       "<matplotlib.figure.Figure at 0x128d7d650>"
      ]
     },
     "metadata": {},
     "output_type": "display_data"
    }
   ],
   "source": [
    "import matplotlib.pyplot as plt\n",
    "for i in random.sample(range(pca.shape[0]), 10000):\n",
    "    if km.labels_[i] == 0:\n",
    "        c1 = plt.scatter(pca[i,0],pca[i,1],c='r', marker='+')\n",
    "    elif km.labels_[i] == 1:\n",
    "        c2 = plt.scatter(pca[i,0],pca[i,1],c='g', marker='o')\n",
    "    elif km.labels_[i] == 3:\n",
    "        c3 = plt.scatter(pca[i,0],pca[i,1],c='b',marker='*') \n",
    "plt.legend([c1, c2, c3], ['0', '2', '5'])\n",
    "plt.figure(figsize=(20,10))\n",
    "plt.show()"
   ]
  },
  {
   "cell_type": "code",
   "execution_count": 12,
   "metadata": {
    "collapsed": false
   },
   "outputs": [],
   "source": [
    "import plotly.plotly as py"
   ]
  },
  {
   "cell_type": "code",
   "execution_count": 14,
   "metadata": {
    "collapsed": false
   },
   "outputs": [
    {
     "name": "stderr",
     "output_type": "stream",
     "text": [
      "/usr/local/lib/python2.7/site-packages/ipykernel/__main__.py:1: SettingWithCopyWarning:\n",
      "\n",
      "\n",
      "A value is trying to be set on a copy of a slice from a DataFrame.\n",
      "Try using .loc[row_indexer,col_indexer] = value instead\n",
      "\n",
      "See the caveats in the documentation: http://pandas.pydata.org/pandas-docs/stable/indexing.html#indexing-view-versus-copy\n",
      "\n",
      "/usr/local/lib/python2.7/site-packages/ipykernel/__main__.py:2: SettingWithCopyWarning:\n",
      "\n",
      "\n",
      "A value is trying to be set on a copy of a slice from a DataFrame.\n",
      "Try using .loc[row_indexer,col_indexer] = value instead\n",
      "\n",
      "See the caveats in the documentation: http://pandas.pydata.org/pandas-docs/stable/indexing.html#indexing-view-versus-copy\n",
      "\n",
      "/usr/local/lib/python2.7/site-packages/ipykernel/__main__.py:3: SettingWithCopyWarning:\n",
      "\n",
      "\n",
      "A value is trying to be set on a copy of a slice from a DataFrame.\n",
      "Try using .loc[row_indexer,col_indexer] = value instead\n",
      "\n",
      "See the caveats in the documentation: http://pandas.pydata.org/pandas-docs/stable/indexing.html#indexing-view-versus-copy\n",
      "\n"
     ]
    }
   ],
   "source": [
    "many_or_done['pharma'] = many_or_done.use_case_counts.apply(lambda x: x['pharma_device'])\n",
    "many_or_done['publications'] = many_or_done.use_case_counts.apply(lambda x: x['publications_ed_tools'])\n",
    "many_or_done['social'] = many_or_done.use_case_counts.apply(lambda x: x['professional_social_media'])"
   ]
  },
  {
   "cell_type": "code",
   "execution_count": 18,
   "metadata": {
    "collapsed": true
   },
   "outputs": [],
   "source": [
    "df = many_or_done[many_or_done.total_sessions<=50][['pharma', 'publications', 'social']]"
   ]
  },
  {
   "cell_type": "code",
   "execution_count": 21,
   "metadata": {
    "collapsed": false
   },
   "outputs": [
    {
     "data": {
      "text/html": [
       "<iframe id=\"igraph\" scrolling=\"no\" style=\"border:none;\" seamless=\"seamless\" src=\"https://plot.ly/~abbystvns/7.embed\" height=\"525px\" width=\"100%\"></iframe>"
      ],
      "text/plain": [
       "<plotly.tools.PlotlyDisplay object>"
      ]
     },
     "execution_count": 21,
     "metadata": {},
     "output_type": "execute_result"
    }
   ],
   "source": [
    "scatter = dict(\n",
    "    mode = \"markers\",\n",
    "    name = \"y\",\n",
    "    type = \"scatter3d\",    \n",
    "    x = df['pharma'], y = df['publications'], z = df['social'],\n",
    "    marker = dict( size=2, color=\"rgb(23, 190, 207)\" )\n",
    ")\n",
    "clusters = dict(\n",
    "    alphahull = 7,\n",
    "    name = \"y\",\n",
    "    opacity = 0.1,\n",
    "    type = \"mesh3d\",    \n",
    "    x = df['pharma'], y = df['publications'], z = df['social']\n",
    ")\n",
    "layout = dict(\n",
    "    title = '3d point clustering',\n",
    "    scene = dict(\n",
    "        xaxis = dict( zeroline=False ),\n",
    "        yaxis = dict( zeroline=False ),\n",
    "        zaxis = dict( zeroline=False ),\n",
    "    )\n",
    ")\n",
    "fig = dict( data=[scatter, clusters], layout=layout )\n",
    "# Use py.iplot() for IPython notebook\n",
    "py.iplot(fig, filename='3d point clustering')"
   ]
  },
  {
   "cell_type": "code",
   "execution_count": 423,
   "metadata": {
    "collapsed": false
   },
   "outputs": [],
   "source": [
    "Xm = vectorizer.fit_transform(many_or_done[many_or_done.total_sessions <= 40].use_case.apply(lambda x: ', '.join(x)).as_matrix())"
   ]
  },
  {
   "cell_type": "code",
   "execution_count": 424,
   "metadata": {
    "collapsed": false
   },
   "outputs": [],
   "source": [
    "Xmt = Xm.transpose()"
   ]
  },
  {
   "cell_type": "code",
   "execution_count": 427,
   "metadata": {
    "collapsed": false
   },
   "outputs": [],
   "source": [
    "%matplotlib osx\n",
    "\n",
    "from mpl_toolkits.mplot3d import Axes3D\n",
    "import matplotlib.pyplot as plt\n",
    "\n",
    "\n",
    "\n",
    "fig = plt.figure(figsize=(12,8))\n",
    "ax = fig.add_subplot(111, projection='3d')\n",
    "\n",
    "x =Xmt[3].toarray()\n",
    "y =Xmt[1].toarray()\n",
    "z =Xmt[2].toarray()\n",
    "\n",
    "\n",
    "\n",
    "ax.scatter(x, y, z, c='r', marker='o')\n",
    "\n",
    "ax.set_xlabel('Publisher')\n",
    "ax.set_ylabel('Pharma')\n",
    "ax.set_zlabel('Social/Professional')\n",
    "\n",
    "plt.show()"
   ]
  },
  {
   "cell_type": "code",
   "execution_count": null,
   "metadata": {
    "collapsed": true
   },
   "outputs": [],
   "source": []
  }
 ],
 "metadata": {
  "kernelspec": {
   "display_name": "Python 2",
   "language": "python",
   "name": "python2"
  },
  "language_info": {
   "codemirror_mode": {
    "name": "ipython",
    "version": 2
   },
   "file_extension": ".py",
   "mimetype": "text/x-python",
   "name": "python",
   "nbconvert_exporter": "python",
   "pygments_lexer": "ipython2",
   "version": "2.7.13"
  }
 },
 "nbformat": 4,
 "nbformat_minor": 0
}
