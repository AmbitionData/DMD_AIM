{
 "cells": [
  {
   "cell_type": "code",
   "execution_count": 83,
   "metadata": {
    "collapsed": false
   },
   "outputs": [],
   "source": [
    "%matplotlib inline\n",
    "from __future__ import division\n",
    "from __future__ import print_function\n",
    "\n",
    "import pandas as pd\n",
    "import matplotlib.pyplot as plt\n",
    "plt.style.use('ggplot')\n",
    "import utils\n",
    "from collections import Counter\n",
    "from sklearn.feature_extraction.text import CountVectorizer\n",
    "from sklearn.cluster import KMeans, MiniBatchKMeans\n",
    "from sklearn import metrics\n",
    "from time import time"
   ]
  },
  {
   "cell_type": "code",
   "execution_count": 2,
   "metadata": {
    "collapsed": false
   },
   "outputs": [
    {
     "name": "stderr",
     "output_type": "stream",
     "text": [
      "/usr/local/lib/python2.7/site-packages/IPython/core/interactiveshell.py:2821: DtypeWarning: Columns (5,6,7,8,11,12,13,14,17,18) have mixed types. Specify dtype option on import or set low_memory=False.\n",
      "  if self.run_code(code, result):\n",
      "/usr/local/lib/python2.7/site-packages/IPython/core/interactiveshell.py:2821: DtypeWarning: Columns (15) have mixed types. Specify dtype option on import or set low_memory=False.\n",
      "  if self.run_code(code, result):\n"
     ]
    }
   ],
   "source": [
    "visitors, events, devices, url_categories = utils.load_data(event_categories=True)\n",
    "#categorized_events = utils.categorize_events(events, url_categories)"
   ]
  },
  {
   "cell_type": "markdown",
   "metadata": {},
   "source": [
    "### Use Cases\n",
    "- ok\n",
    "#### Pharma/Device Branded Research\n",
    "- Visits a pharma or medical device site for a specific brand\n",
    "#### Pharma/Device Unbranded Research\n",
    "- Visits a pharma or medical device unbranded education site\n",
    "#### Publication Research\n",
    "- Visits a publication site\n",
    "#### Professional Social Media / Career\n",
    "- Visits a professional social media or recruitment site\n",
    "#### Education / Tools\n",
    "- Visits a site focused on educational resources and tools to better serve patients\n",
    "#### Mixed Visits\n",
    "- A combination of anything above; can flesh out specific combinations if they are frequent enough (ex: social + publication)"
   ]
  },
  {
   "cell_type": "code",
   "execution_count": 18,
   "metadata": {
    "collapsed": true
   },
   "outputs": [],
   "source": [
    "def define_use_case(event):\n",
    "    if event.site_category == 'Publisher':\n",
    "        return 'Publication Research'\n",
    "    elif event.site_category in ['Reference Tool', 'Medical Education', 'Multi-Channel Marketing']:\n",
    "        return 'Education/Tools'\n",
    "    elif event.site_category in ['Pharma', 'Med Device']:\n",
    "        if event.site_sub_category.strip() in ['Branded HCP', 'Branded Consumer']:\n",
    "            return 'Branded Pharma'\n",
    "        elif event.site_sub_category.strip() in ['Unbranded HCP', 'Unbranded Consumer']:\n",
    "            return 'Unbranded Pharma'\n",
    "    elif event.site_category in ['Professional Social', 'Medical Association', 'Recruiter']:\n",
    "        return 'Professional/Social Media'\n",
    "    else:\n",
    "        return 'Other'"
   ]
  },
  {
   "cell_type": "code",
   "execution_count": 364,
   "metadata": {
    "collapsed": false
   },
   "outputs": [],
   "source": [
    "def define_use_case_limited(event):\n",
    "    if event.site_category in ['Publisher', 'Reference Tool', 'Medical Education', 'Multi-Channel Marketing']:\n",
    "        return 'publications_ed_tools'\n",
    "    elif event.site_category in ['Pharma', 'Med Device']:\n",
    "        return 'pharma_device'\n",
    "    elif event.site_category in ['Professional Social', 'Medical Association', 'Recruiter']:\n",
    "        return 'professional_social_media'\n",
    "    else:\n",
    "        return 'other'"
   ]
  },
  {
   "cell_type": "code",
   "execution_count": 335,
   "metadata": {
    "collapsed": true
   },
   "outputs": [],
   "source": [
    "publisher_tools = ['Publisher', 'Reference Tool', 'Medical Education', 'Multi-Channel Marketing']\n",
    "pharma = ['Pharma', 'Med Device']\n",
    "social = ['Professional Social', 'Medical Association', 'Recruiter']"
   ]
  },
  {
   "cell_type": "code",
   "execution_count": 365,
   "metadata": {
    "collapsed": true
   },
   "outputs": [],
   "source": [
    "events['use_case'] = ''\n",
    "events.loc[events.site_category.isin(publisher_tools), 'use_case'] = 'publications_ed_tools'\n",
    "events.loc[events.site_category.isin(pharma), 'use_case'] = 'pharma_device'\n",
    "events.loc[events.site_category.isin(social), 'use_case'] = 'professional_social_media'\n",
    "events.loc[events.use_case=='', 'use_case'] = 'other'"
   ]
  },
  {
   "cell_type": "code",
   "execution_count": 332,
   "metadata": {
    "collapsed": false
   },
   "outputs": [],
   "source": [
    "events['use_case'] = events.apply(lambda x: define_use_case_limited(x), axis=1)"
   ]
  },
  {
   "cell_type": "code",
   "execution_count": 340,
   "metadata": {
    "collapsed": false,
    "scrolled": true
   },
   "outputs": [
    {
     "data": {
      "text/plain": [
       "Publication/Education/Tools    1603272\n",
       "Pharma/Device                   140356\n",
       "Professional/Social Media        83496\n",
       "Other                            35462\n",
       "Name: use_case, dtype: int64"
      ]
     },
     "execution_count": 340,
     "metadata": {},
     "output_type": "execute_result"
    }
   ],
   "source": [
    "events.use_case.value_counts()"
   ]
  },
  {
   "cell_type": "code",
   "execution_count": 12,
   "metadata": {
    "collapsed": false
   },
   "outputs": [
    {
     "data": {
      "text/plain": [
       "<matplotlib.axes._subplots.AxesSubplot at 0x12ace62d0>"
      ]
     },
     "execution_count": 12,
     "metadata": {},
     "output_type": "execute_result"
    },
    {
     "data": {
      "image/png": "[encoded data removed]",
      "text/plain": [
       "<matplotlib.figure.Figure at 0x12ace8710>"
      ]
     },
     "metadata": {},
     "output_type": "display_data"
    }
   ],
   "source": [
    "events[events.use_case<>'publication_research'].groupby('use_case').session_id.nunique().plot.bar(rot=45, alpha=0.5)"
   ]
  },
  {
   "cell_type": "code",
   "execution_count": 366,
   "metadata": {
    "collapsed": false
   },
   "outputs": [],
   "source": [
    "sessions = events[events.use_case <> 'Other'].groupby('session_id').event_id.count().reset_index()\n",
    "sessions = sessions.rename(columns={'event_id':'page_views'})"
   ]
  },
  {
   "cell_type": "code",
   "execution_count": 367,
   "metadata": {
    "collapsed": false
   },
   "outputs": [],
   "source": [
    "event_sessions = events.drop_duplicates('session_id')"
   ]
  },
  {
   "cell_type": "code",
   "execution_count": 368,
   "metadata": {
    "collapsed": false
   },
   "outputs": [],
   "source": [
    "event_sessions = pd.merge(event_sessions, sessions, on='session_id')"
   ]
  },
  {
   "cell_type": "code",
   "execution_count": 369,
   "metadata": {
    "collapsed": false
   },
   "outputs": [],
   "source": [
    "event_sessions = pd.merge(visitors, event_sessions, on='dg_id')"
   ]
  },
  {
   "cell_type": "code",
   "execution_count": 370,
   "metadata": {
    "collapsed": false
   },
   "outputs": [
    {
     "data": {
      "text/html": [
       "<div>\n",
       "<style>\n",
       "    .dataframe thead tr:only-child th {\n",
       "        text-align: right;\n",
       "    }\n",
       "\n",
       "    .dataframe thead th {\n",
       "        text-align: left;\n",
       "    }\n",
       "\n",
       "    .dataframe tbody tr th {\n",
       "        vertical-align: top;\n",
       "    }\n",
       "</style>\n",
       "<table border=\"1\" class=\"dataframe\">\n",
       "  <thead>\n",
       "    <tr style=\"text-align: right;\">\n",
       "      <th></th>\n",
       "      <th>visitor_id</th>\n",
       "      <th>dg_id</th>\n",
       "      <th>identity_type</th>\n",
       "      <th>professional_designation</th>\n",
       "      <th>npi_number</th>\n",
       "      <th>primary_specialty</th>\n",
       "      <th>primary_specialty_group</th>\n",
       "      <th>secondary_specialty</th>\n",
       "      <th>secondary_specialty_group</th>\n",
       "      <th>first_name</th>\n",
       "      <th>...</th>\n",
       "      <th>reason</th>\n",
       "      <th>category_url</th>\n",
       "      <th>site_category</th>\n",
       "      <th>site_sub_category</th>\n",
       "      <th>disease_category</th>\n",
       "      <th>disease</th>\n",
       "      <th>pharma_firm</th>\n",
       "      <th>use_case</th>\n",
       "      <th>user_case</th>\n",
       "      <th>page_views</th>\n",
       "    </tr>\n",
       "  </thead>\n",
       "  <tbody>\n",
       "    <tr>\n",
       "      <th>0</th>\n",
       "      <td>140</td>\n",
       "      <td>0000124213</td>\n",
       "      <td>POI</td>\n",
       "      <td>POI</td>\n",
       "      <td>NaN</td>\n",
       "      <td>NaN</td>\n",
       "      <td>NaN</td>\n",
       "      <td>NaN</td>\n",
       "      <td>NaN</td>\n",
       "      <td>KIMBERLY</td>\n",
       "      <td>...</td>\n",
       "      <td>NaN</td>\n",
       "      <td>NaN</td>\n",
       "      <td>NaN</td>\n",
       "      <td>NaN</td>\n",
       "      <td>NaN</td>\n",
       "      <td>NaN</td>\n",
       "      <td>NaN</td>\n",
       "      <td>other</td>\n",
       "      <td></td>\n",
       "      <td>1</td>\n",
       "    </tr>\n",
       "    <tr>\n",
       "      <th>1</th>\n",
       "      <td>3538</td>\n",
       "      <td>R0000000026</td>\n",
       "      <td>POI</td>\n",
       "      <td>Nurse</td>\n",
       "      <td>NaN</td>\n",
       "      <td>NaN</td>\n",
       "      <td>NaN</td>\n",
       "      <td>NaN</td>\n",
       "      <td>NaN</td>\n",
       "      <td>SHARON</td>\n",
       "      <td>...</td>\n",
       "      <td>NaN</td>\n",
       "      <td>www.ReachMD.com</td>\n",
       "      <td>Multi-Channel Marketing</td>\n",
       "      <td>Multi Topic</td>\n",
       "      <td>Multiple</td>\n",
       "      <td>NaN</td>\n",
       "      <td>NaN</td>\n",
       "      <td>publications_ed_tools</td>\n",
       "      <td></td>\n",
       "      <td>1</td>\n",
       "    </tr>\n",
       "    <tr>\n",
       "      <th>2</th>\n",
       "      <td>3562</td>\n",
       "      <td>R0000000098</td>\n",
       "      <td>POI</td>\n",
       "      <td>Nurse</td>\n",
       "      <td>NaN</td>\n",
       "      <td>NaN</td>\n",
       "      <td>NaN</td>\n",
       "      <td>NaN</td>\n",
       "      <td>NaN</td>\n",
       "      <td>KAREN</td>\n",
       "      <td>...</td>\n",
       "      <td>NaN</td>\n",
       "      <td>www.medicalnewstoday.com</td>\n",
       "      <td>Publisher</td>\n",
       "      <td>Multi Topic</td>\n",
       "      <td>Multiple</td>\n",
       "      <td>NaN</td>\n",
       "      <td>NaN</td>\n",
       "      <td>publications_ed_tools</td>\n",
       "      <td></td>\n",
       "      <td>1</td>\n",
       "    </tr>\n",
       "    <tr>\n",
       "      <th>3</th>\n",
       "      <td>3653</td>\n",
       "      <td>R0000000358</td>\n",
       "      <td>POI</td>\n",
       "      <td>Nurse</td>\n",
       "      <td>NaN</td>\n",
       "      <td>NaN</td>\n",
       "      <td>NaN</td>\n",
       "      <td>NaN</td>\n",
       "      <td>NaN</td>\n",
       "      <td>PROSPECTIVE STUDENT</td>\n",
       "      <td>...</td>\n",
       "      <td>NaN</td>\n",
       "      <td>www.healthjobsnationwide.com</td>\n",
       "      <td>Recruiter</td>\n",
       "      <td>Multi Topic</td>\n",
       "      <td>Multiple</td>\n",
       "      <td>NaN</td>\n",
       "      <td>NaN</td>\n",
       "      <td>professional_social_media</td>\n",
       "      <td></td>\n",
       "      <td>1</td>\n",
       "    </tr>\n",
       "    <tr>\n",
       "      <th>4</th>\n",
       "      <td>3783</td>\n",
       "      <td>R0000000651</td>\n",
       "      <td>POI</td>\n",
       "      <td>Nurse</td>\n",
       "      <td>NaN</td>\n",
       "      <td>NaN</td>\n",
       "      <td>NaN</td>\n",
       "      <td>NaN</td>\n",
       "      <td>NaN</td>\n",
       "      <td>PROSPECTIVE STUDENT</td>\n",
       "      <td>...</td>\n",
       "      <td>NaN</td>\n",
       "      <td>www.consultant360.com</td>\n",
       "      <td>Publisher</td>\n",
       "      <td>Multi Topic</td>\n",
       "      <td>Multiple</td>\n",
       "      <td>NaN</td>\n",
       "      <td>NaN</td>\n",
       "      <td>publications_ed_tools</td>\n",
       "      <td></td>\n",
       "      <td>2</td>\n",
       "    </tr>\n",
       "  </tbody>\n",
       "</table>\n",
       "<p>5 rows × 45 columns</p>\n",
       "</div>"
      ],
      "text/plain": [
       "   visitor_id        dg_id identity_type professional_designation  npi_number  \\\n",
       "0         140   0000124213           POI                      POI         NaN   \n",
       "1        3538  R0000000026           POI                    Nurse         NaN   \n",
       "2        3562  R0000000098           POI                    Nurse         NaN   \n",
       "3        3653  R0000000358           POI                    Nurse         NaN   \n",
       "4        3783  R0000000651           POI                    Nurse         NaN   \n",
       "\n",
       "  primary_specialty primary_specialty_group secondary_specialty  \\\n",
       "0               NaN                     NaN                 NaN   \n",
       "1               NaN                     NaN                 NaN   \n",
       "2               NaN                     NaN                 NaN   \n",
       "3               NaN                     NaN                 NaN   \n",
       "4               NaN                     NaN                 NaN   \n",
       "\n",
       "  secondary_specialty_group           first_name    ...     reason  \\\n",
       "0                       NaN             KIMBERLY    ...        NaN   \n",
       "1                       NaN               SHARON    ...        NaN   \n",
       "2                       NaN                KAREN    ...        NaN   \n",
       "3                       NaN  PROSPECTIVE STUDENT    ...        NaN   \n",
       "4                       NaN  PROSPECTIVE STUDENT    ...        NaN   \n",
       "\n",
       "                   category_url            site_category site_sub_category  \\\n",
       "0                           NaN                      NaN               NaN   \n",
       "1               www.ReachMD.com  Multi-Channel Marketing       Multi Topic   \n",
       "2      www.medicalnewstoday.com                Publisher       Multi Topic   \n",
       "3  www.healthjobsnationwide.com                Recruiter       Multi Topic   \n",
       "4         www.consultant360.com                Publisher       Multi Topic   \n",
       "\n",
       "  disease_category  disease  pharma_firm                   use_case user_case  \\\n",
       "0              NaN      NaN          NaN                      other             \n",
       "1         Multiple      NaN          NaN      publications_ed_tools             \n",
       "2         Multiple      NaN          NaN      publications_ed_tools             \n",
       "3         Multiple      NaN          NaN  professional_social_media             \n",
       "4         Multiple      NaN          NaN      publications_ed_tools             \n",
       "\n",
       "  page_views  \n",
       "0          1  \n",
       "1          1  \n",
       "2          1  \n",
       "3          1  \n",
       "4          2  \n",
       "\n",
       "[5 rows x 45 columns]"
      ]
     },
     "execution_count": 370,
     "metadata": {},
     "output_type": "execute_result"
    }
   ],
   "source": [
    "event_sessions.head()"
   ]
  },
  {
   "cell_type": "code",
   "execution_count": 34,
   "metadata": {
    "collapsed": false
   },
   "outputs": [],
   "source": [
    "tableau_sessions = event_sessions[['timestamp', 'dg_id', 'npi_number', 'primary_specialty', 'site_category', 'site_sub_category', 'disease_category', 'disease', 'pharma_firm', 'use_case', 'page_views']]"
   ]
  },
  {
   "cell_type": "code",
   "execution_count": 38,
   "metadata": {
    "collapsed": false
   },
   "outputs": [],
   "source": [
    "tableau_sessions.to_csv('../data/use_case_sessions.csv')"
   ]
  },
  {
   "cell_type": "code",
   "execution_count": 230,
   "metadata": {
    "collapsed": false
   },
   "outputs": [
    {
     "data": {
      "text/html": [
       "<div>\n",
       "<style>\n",
       "    .dataframe thead tr:only-child th {\n",
       "        text-align: right;\n",
       "    }\n",
       "\n",
       "    .dataframe thead th {\n",
       "        text-align: left;\n",
       "    }\n",
       "\n",
       "    .dataframe tbody tr th {\n",
       "        vertical-align: top;\n",
       "    }\n",
       "</style>\n",
       "<table border=\"1\" class=\"dataframe\">\n",
       "  <thead>\n",
       "    <tr style=\"text-align: right;\">\n",
       "      <th></th>\n",
       "      <th>timestamp</th>\n",
       "      <th>dg_id</th>\n",
       "      <th>npi_number</th>\n",
       "      <th>primary_specialty</th>\n",
       "      <th>site_category</th>\n",
       "      <th>site_sub_category</th>\n",
       "      <th>disease_category</th>\n",
       "      <th>disease</th>\n",
       "      <th>pharma_firm</th>\n",
       "      <th>use_case</th>\n",
       "      <th>page_views</th>\n",
       "    </tr>\n",
       "  </thead>\n",
       "  <tbody>\n",
       "    <tr>\n",
       "      <th>0</th>\n",
       "      <td>2017-02-14 23:29:52.100</td>\n",
       "      <td>0000124213</td>\n",
       "      <td>NaN</td>\n",
       "      <td>NaN</td>\n",
       "      <td>NaN</td>\n",
       "      <td>NaN</td>\n",
       "      <td>NaN</td>\n",
       "      <td>NaN</td>\n",
       "      <td>NaN</td>\n",
       "      <td>Other</td>\n",
       "      <td>1</td>\n",
       "    </tr>\n",
       "    <tr>\n",
       "      <th>1</th>\n",
       "      <td>2017-02-04 12:44:07.660</td>\n",
       "      <td>R0000000026</td>\n",
       "      <td>NaN</td>\n",
       "      <td>NaN</td>\n",
       "      <td>Multi-Channel Marketing</td>\n",
       "      <td>Multi Topic</td>\n",
       "      <td>Multiple</td>\n",
       "      <td>NaN</td>\n",
       "      <td>NaN</td>\n",
       "      <td>Education/Tools</td>\n",
       "      <td>1</td>\n",
       "    </tr>\n",
       "    <tr>\n",
       "      <th>2</th>\n",
       "      <td>2017-03-17 13:20:51.610</td>\n",
       "      <td>R0000000098</td>\n",
       "      <td>NaN</td>\n",
       "      <td>NaN</td>\n",
       "      <td>Publisher</td>\n",
       "      <td>Multi Topic</td>\n",
       "      <td>Multiple</td>\n",
       "      <td>NaN</td>\n",
       "      <td>NaN</td>\n",
       "      <td>Publication Research</td>\n",
       "      <td>1</td>\n",
       "    </tr>\n",
       "    <tr>\n",
       "      <th>3</th>\n",
       "      <td>2017-04-09 12:11:33.693</td>\n",
       "      <td>R0000000358</td>\n",
       "      <td>NaN</td>\n",
       "      <td>NaN</td>\n",
       "      <td>Recruiter</td>\n",
       "      <td>Multi Topic</td>\n",
       "      <td>Multiple</td>\n",
       "      <td>NaN</td>\n",
       "      <td>NaN</td>\n",
       "      <td>Professional/Social Media</td>\n",
       "      <td>1</td>\n",
       "    </tr>\n",
       "    <tr>\n",
       "      <th>4</th>\n",
       "      <td>2017-05-03 15:40:07.033</td>\n",
       "      <td>R0000000651</td>\n",
       "      <td>NaN</td>\n",
       "      <td>NaN</td>\n",
       "      <td>Publisher</td>\n",
       "      <td>Multi Topic</td>\n",
       "      <td>Multiple</td>\n",
       "      <td>NaN</td>\n",
       "      <td>NaN</td>\n",
       "      <td>Publication Research</td>\n",
       "      <td>2</td>\n",
       "    </tr>\n",
       "  </tbody>\n",
       "</table>\n",
       "</div>"
      ],
      "text/plain": [
       "                timestamp        dg_id  npi_number primary_specialty  \\\n",
       "0 2017-02-14 23:29:52.100   0000124213         NaN               NaN   \n",
       "1 2017-02-04 12:44:07.660  R0000000026         NaN               NaN   \n",
       "2 2017-03-17 13:20:51.610  R0000000098         NaN               NaN   \n",
       "3 2017-04-09 12:11:33.693  R0000000358         NaN               NaN   \n",
       "4 2017-05-03 15:40:07.033  R0000000651         NaN               NaN   \n",
       "\n",
       "             site_category site_sub_category disease_category disease  \\\n",
       "0                      NaN               NaN              NaN     NaN   \n",
       "1  Multi-Channel Marketing       Multi Topic         Multiple     NaN   \n",
       "2                Publisher       Multi Topic         Multiple     NaN   \n",
       "3                Recruiter       Multi Topic         Multiple     NaN   \n",
       "4                Publisher       Multi Topic         Multiple     NaN   \n",
       "\n",
       "  pharma_firm                   use_case  page_views  \n",
       "0         NaN                      Other           1  \n",
       "1         NaN            Education/Tools           1  \n",
       "2         NaN       Publication Research           1  \n",
       "3         NaN  Professional/Social Media           1  \n",
       "4         NaN       Publication Research           2  "
      ]
     },
     "execution_count": 230,
     "metadata": {},
     "output_type": "execute_result"
    }
   ],
   "source": [
    "tableau_sessions.head()"
   ]
  },
  {
   "cell_type": "code",
   "execution_count": 371,
   "metadata": {
    "collapsed": false
   },
   "outputs": [],
   "source": [
    "personas = event_sessions.groupby('dg_id').use_case.apply(list).reset_index()\n",
    "personas['total_sessions'] = personas.use_case.apply(lambda x: len(x))\n",
    "personas['use_case_counts'] = personas.use_case.apply(lambda x: Counter(x))"
   ]
  },
  {
   "cell_type": "code",
   "execution_count": 268,
   "metadata": {
    "collapsed": false
   },
   "outputs": [],
   "source": [
    "single_use_case = personas[personas.use_case_counts.apply(lambda x: len(x))==1]\n",
    "multi_use_case = personas[personas.use_case_counts.apply(lambda x: len(x))>1]"
   ]
  },
  {
   "cell_type": "code",
   "execution_count": 372,
   "metadata": {
    "collapsed": true
   },
   "outputs": [],
   "source": [
    "many_or_done = personas[personas.total_sessions>=5]"
   ]
  },
  {
   "cell_type": "code",
   "execution_count": 255,
   "metadata": {
    "collapsed": false
   },
   "outputs": [
    {
     "data": {
      "text/plain": [
       "0.23654129793510326"
      ]
     },
     "execution_count": 255,
     "metadata": {},
     "output_type": "execute_result"
    }
   ],
   "source": [
    "len(multi_use_case)/len(personas)"
   ]
  },
  {
   "cell_type": "code",
   "execution_count": 256,
   "metadata": {
    "collapsed": false
   },
   "outputs": [
    {
     "data": {
      "text/plain": [
       "<matplotlib.axes._subplots.AxesSubplot at 0x128b60a50>"
      ]
     },
     "execution_count": 256,
     "metadata": {},
     "output_type": "execute_result"
    },
    {
     "data": {
      "image/png": "[encoded data removed]",
      "text/plain": [
       "<matplotlib.figure.Figure at 0x128b60310>"
      ]
     },
     "metadata": {},
     "output_type": "display_data"
    }
   ],
   "source": [
    "multi_use_case.total_sessions.hist(bins=20)"
   ]
  },
  {
   "cell_type": "code",
   "execution_count": 75,
   "metadata": {
    "collapsed": false
   },
   "outputs": [
    {
     "data": {
      "text/plain": [
       "0.5591395146151783"
      ]
     },
     "execution_count": 75,
     "metadata": {},
     "output_type": "execute_result"
    }
   ],
   "source": [
    "len(personas[personas.total_sessions>1])/len(personas)"
   ]
  },
  {
   "cell_type": "code",
   "execution_count": 81,
   "metadata": {
    "collapsed": false
   },
   "outputs": [
    {
     "data": {
      "text/plain": [
       "0.7634587020648967"
      ]
     },
     "execution_count": 81,
     "metadata": {},
     "output_type": "execute_result"
    }
   ],
   "source": [
    "len(single_use_case)/len(personas)"
   ]
  },
  {
   "cell_type": "code",
   "execution_count": 258,
   "metadata": {
    "collapsed": false
   },
   "outputs": [
    {
     "data": {
      "text/plain": [
       "count    91102.000000\n",
       "mean         3.105311\n",
       "std         11.014518\n",
       "min          1.000000\n",
       "25%          1.000000\n",
       "50%          1.000000\n",
       "75%          2.000000\n",
       "max        801.000000\n",
       "Name: total_sessions, dtype: float64"
      ]
     },
     "execution_count": 258,
     "metadata": {},
     "output_type": "execute_result"
    }
   ],
   "source": [
    "single_use_case.total_sessions.describe()"
   ]
  },
  {
   "cell_type": "code",
   "execution_count": 263,
   "metadata": {
    "collapsed": false
   },
   "outputs": [
    {
     "data": {
      "text/plain": [
       "u'other'"
      ]
     },
     "execution_count": 263,
     "metadata": {},
     "output_type": "execute_result"
    }
   ],
   "source": [
    "Counter({u'other': 1}).items()[0][0]"
   ]
  },
  {
   "cell_type": "code",
   "execution_count": 269,
   "metadata": {
    "collapsed": false
   },
   "outputs": [
    {
     "name": "stderr",
     "output_type": "stream",
     "text": [
      "/usr/local/lib/python2.7/site-packages/ipykernel/__main__.py:1: SettingWithCopyWarning: \n",
      "A value is trying to be set on a copy of a slice from a DataFrame.\n",
      "Try using .loc[row_indexer,col_indexer] = value instead\n",
      "\n",
      "See the caveats in the documentation: http://pandas.pydata.org/pandas-docs/stable/indexing.html#indexing-view-versus-copy\n",
      "  if __name__ == '__main__':\n"
     ]
    }
   ],
   "source": [
    "single_use_case['single_use_case'] = single_use_case.use_case_counts.apply(lambda x: x.items()[0][0])"
   ]
  },
  {
   "cell_type": "code",
   "execution_count": 270,
   "metadata": {
    "collapsed": false
   },
   "outputs": [
    {
     "data": {
      "text/plain": [
       "publication_research    44003\n",
       "education_tools         32908\n",
       "social_media             6588\n",
       "branded                  5515\n",
       "other                    1984\n",
       "unbranded                 104\n",
       "Name: single_use_case, dtype: int64"
      ]
     },
     "execution_count": 270,
     "metadata": {},
     "output_type": "execute_result"
    }
   ],
   "source": [
    "single_use_case.single_use_case.value_counts()"
   ]
  },
  {
   "cell_type": "code",
   "execution_count": 195,
   "metadata": {
    "collapsed": true
   },
   "outputs": [],
   "source": [
    "personas['pharma'] = personas.use_case_counts.apply(lambda x: x['branded'] + x['unbranded'])"
   ]
  },
  {
   "cell_type": "code",
   "execution_count": 198,
   "metadata": {
    "collapsed": false
   },
   "outputs": [
    {
     "data": {
      "text/html": [
       "<div>\n",
       "<style>\n",
       "    .dataframe thead tr:only-child th {\n",
       "        text-align: right;\n",
       "    }\n",
       "\n",
       "    .dataframe thead th {\n",
       "        text-align: left;\n",
       "    }\n",
       "\n",
       "    .dataframe tbody tr th {\n",
       "        vertical-align: top;\n",
       "    }\n",
       "</style>\n",
       "<table border=\"1\" class=\"dataframe\">\n",
       "  <thead>\n",
       "    <tr style=\"text-align: right;\">\n",
       "      <th></th>\n",
       "      <th>dg_id</th>\n",
       "      <th>use_case</th>\n",
       "      <th>total_sessions</th>\n",
       "      <th>use_case_counts</th>\n",
       "      <th>cluster</th>\n",
       "      <th>pharma</th>\n",
       "    </tr>\n",
       "  </thead>\n",
       "  <tbody>\n",
       "    <tr>\n",
       "      <th>9</th>\n",
       "      <td>R0000002268</td>\n",
       "      <td>[branded, education_tools]</td>\n",
       "      <td>2</td>\n",
       "      <td>{u'education_tools': 1, u'branded': 1}</td>\n",
       "      <td>0</td>\n",
       "      <td>1</td>\n",
       "    </tr>\n",
       "    <tr>\n",
       "      <th>18</th>\n",
       "      <td>R0000006692</td>\n",
       "      <td>[branded]</td>\n",
       "      <td>1</td>\n",
       "      <td>{u'branded': 1}</td>\n",
       "      <td>0</td>\n",
       "      <td>1</td>\n",
       "    </tr>\n",
       "    <tr>\n",
       "      <th>25</th>\n",
       "      <td>R0000008040</td>\n",
       "      <td>[branded, publication_research]</td>\n",
       "      <td>2</td>\n",
       "      <td>{u'branded': 1, u'publication_research': 1}</td>\n",
       "      <td>0</td>\n",
       "      <td>1</td>\n",
       "    </tr>\n",
       "    <tr>\n",
       "      <th>28</th>\n",
       "      <td>R0000010415</td>\n",
       "      <td>[social_media, social_media, branded]</td>\n",
       "      <td>3</td>\n",
       "      <td>{u'branded': 1, u'social_media': 2}</td>\n",
       "      <td>0</td>\n",
       "      <td>1</td>\n",
       "    </tr>\n",
       "    <tr>\n",
       "      <th>30</th>\n",
       "      <td>R0000011735</td>\n",
       "      <td>[branded]</td>\n",
       "      <td>1</td>\n",
       "      <td>{u'branded': 1}</td>\n",
       "      <td>0</td>\n",
       "      <td>1</td>\n",
       "    </tr>\n",
       "    <tr>\n",
       "      <th>34</th>\n",
       "      <td>R0000013730</td>\n",
       "      <td>[branded]</td>\n",
       "      <td>1</td>\n",
       "      <td>{u'branded': 1}</td>\n",
       "      <td>0</td>\n",
       "      <td>1</td>\n",
       "    </tr>\n",
       "    <tr>\n",
       "      <th>41</th>\n",
       "      <td>R0000016806</td>\n",
       "      <td>[branded]</td>\n",
       "      <td>1</td>\n",
       "      <td>{u'branded': 1}</td>\n",
       "      <td>0</td>\n",
       "      <td>1</td>\n",
       "    </tr>\n",
       "    <tr>\n",
       "      <th>49</th>\n",
       "      <td>R0000021815</td>\n",
       "      <td>[social_media, other, branded, social_media, p...</td>\n",
       "      <td>5</td>\n",
       "      <td>{u'branded': 1, u'other': 1, u'social_media': ...</td>\n",
       "      <td>0</td>\n",
       "      <td>1</td>\n",
       "    </tr>\n",
       "    <tr>\n",
       "      <th>51</th>\n",
       "      <td>R0000023662</td>\n",
       "      <td>[branded]</td>\n",
       "      <td>1</td>\n",
       "      <td>{u'branded': 1}</td>\n",
       "      <td>0</td>\n",
       "      <td>1</td>\n",
       "    </tr>\n",
       "    <tr>\n",
       "      <th>52</th>\n",
       "      <td>R0000023733</td>\n",
       "      <td>[social_media, branded, publication_research]</td>\n",
       "      <td>3</td>\n",
       "      <td>{u'branded': 1, u'social_media': 1, u'publicat...</td>\n",
       "      <td>0</td>\n",
       "      <td>1</td>\n",
       "    </tr>\n",
       "    <tr>\n",
       "      <th>68</th>\n",
       "      <td>R0000031920</td>\n",
       "      <td>[publication_research, publication_research, b...</td>\n",
       "      <td>3</td>\n",
       "      <td>{u'branded': 1, u'publication_research': 2}</td>\n",
       "      <td>0</td>\n",
       "      <td>1</td>\n",
       "    </tr>\n",
       "    <tr>\n",
       "      <th>69</th>\n",
       "      <td>R0000032280</td>\n",
       "      <td>[publication_research, social_media, branded]</td>\n",
       "      <td>3</td>\n",
       "      <td>{u'branded': 1, u'social_media': 1, u'publicat...</td>\n",
       "      <td>0</td>\n",
       "      <td>1</td>\n",
       "    </tr>\n",
       "    <tr>\n",
       "      <th>70</th>\n",
       "      <td>R0000032988</td>\n",
       "      <td>[branded, education_tools, education_tools, ed...</td>\n",
       "      <td>9</td>\n",
       "      <td>{u'education_tools': 5, u'branded': 3, u'publi...</td>\n",
       "      <td>0</td>\n",
       "      <td>3</td>\n",
       "    </tr>\n",
       "    <tr>\n",
       "      <th>72</th>\n",
       "      <td>R0000034287</td>\n",
       "      <td>[branded]</td>\n",
       "      <td>1</td>\n",
       "      <td>{u'branded': 1}</td>\n",
       "      <td>0</td>\n",
       "      <td>1</td>\n",
       "    </tr>\n",
       "    <tr>\n",
       "      <th>82</th>\n",
       "      <td>R0000038459</td>\n",
       "      <td>[branded, branded]</td>\n",
       "      <td>2</td>\n",
       "      <td>{u'branded': 2}</td>\n",
       "      <td>0</td>\n",
       "      <td>2</td>\n",
       "    </tr>\n",
       "    <tr>\n",
       "      <th>84</th>\n",
       "      <td>R0000040496</td>\n",
       "      <td>[branded]</td>\n",
       "      <td>1</td>\n",
       "      <td>{u'branded': 1}</td>\n",
       "      <td>0</td>\n",
       "      <td>1</td>\n",
       "    </tr>\n",
       "    <tr>\n",
       "      <th>87</th>\n",
       "      <td>R0000042030</td>\n",
       "      <td>[branded]</td>\n",
       "      <td>1</td>\n",
       "      <td>{u'branded': 1}</td>\n",
       "      <td>0</td>\n",
       "      <td>1</td>\n",
       "    </tr>\n",
       "    <tr>\n",
       "      <th>88</th>\n",
       "      <td>R0000042155</td>\n",
       "      <td>[branded]</td>\n",
       "      <td>1</td>\n",
       "      <td>{u'branded': 1}</td>\n",
       "      <td>0</td>\n",
       "      <td>1</td>\n",
       "    </tr>\n",
       "    <tr>\n",
       "      <th>90</th>\n",
       "      <td>R0000044695</td>\n",
       "      <td>[branded, branded]</td>\n",
       "      <td>2</td>\n",
       "      <td>{u'branded': 2}</td>\n",
       "      <td>0</td>\n",
       "      <td>2</td>\n",
       "    </tr>\n",
       "    <tr>\n",
       "      <th>96</th>\n",
       "      <td>R0000046285</td>\n",
       "      <td>[publication_research, publication_research, p...</td>\n",
       "      <td>7</td>\n",
       "      <td>{u'branded': 1, u'publication_research': 6}</td>\n",
       "      <td>0</td>\n",
       "      <td>1</td>\n",
       "    </tr>\n",
       "    <tr>\n",
       "      <th>97</th>\n",
       "      <td>R0000046419</td>\n",
       "      <td>[publication_research, publication_research, p...</td>\n",
       "      <td>26</td>\n",
       "      <td>{u'branded': 1, u'publication_research': 25}</td>\n",
       "      <td>0</td>\n",
       "      <td>1</td>\n",
       "    </tr>\n",
       "    <tr>\n",
       "      <th>101</th>\n",
       "      <td>R0000049118</td>\n",
       "      <td>[publication_research, publication_research, p...</td>\n",
       "      <td>36</td>\n",
       "      <td>{u'branded': 1, u'publication_research': 35}</td>\n",
       "      <td>0</td>\n",
       "      <td>1</td>\n",
       "    </tr>\n",
       "    <tr>\n",
       "      <th>106</th>\n",
       "      <td>R0000052561</td>\n",
       "      <td>[branded, branded, branded, branded, branded, ...</td>\n",
       "      <td>27</td>\n",
       "      <td>{u'branded': 27}</td>\n",
       "      <td>0</td>\n",
       "      <td>27</td>\n",
       "    </tr>\n",
       "    <tr>\n",
       "      <th>108</th>\n",
       "      <td>R0000054329</td>\n",
       "      <td>[branded]</td>\n",
       "      <td>1</td>\n",
       "      <td>{u'branded': 1}</td>\n",
       "      <td>0</td>\n",
       "      <td>1</td>\n",
       "    </tr>\n",
       "    <tr>\n",
       "      <th>116</th>\n",
       "      <td>R0000056766</td>\n",
       "      <td>[branded]</td>\n",
       "      <td>1</td>\n",
       "      <td>{u'branded': 1}</td>\n",
       "      <td>0</td>\n",
       "      <td>1</td>\n",
       "    </tr>\n",
       "    <tr>\n",
       "      <th>118</th>\n",
       "      <td>R0000057116</td>\n",
       "      <td>[publication_research, branded, publication_re...</td>\n",
       "      <td>5</td>\n",
       "      <td>{u'branded': 2, u'publication_research': 3}</td>\n",
       "      <td>0</td>\n",
       "      <td>2</td>\n",
       "    </tr>\n",
       "    <tr>\n",
       "      <th>123</th>\n",
       "      <td>R0000059542</td>\n",
       "      <td>[branded, social_media]</td>\n",
       "      <td>2</td>\n",
       "      <td>{u'branded': 1, u'social_media': 1}</td>\n",
       "      <td>0</td>\n",
       "      <td>1</td>\n",
       "    </tr>\n",
       "    <tr>\n",
       "      <th>137</th>\n",
       "      <td>R0000066510</td>\n",
       "      <td>[social_media, branded, social_media, social_m...</td>\n",
       "      <td>5</td>\n",
       "      <td>{u'branded': 1, u'social_media': 4}</td>\n",
       "      <td>0</td>\n",
       "      <td>1</td>\n",
       "    </tr>\n",
       "    <tr>\n",
       "      <th>139</th>\n",
       "      <td>R0000066908</td>\n",
       "      <td>[publication_research, branded, branded, publi...</td>\n",
       "      <td>4</td>\n",
       "      <td>{u'branded': 2, u'publication_research': 2}</td>\n",
       "      <td>0</td>\n",
       "      <td>2</td>\n",
       "    </tr>\n",
       "    <tr>\n",
       "      <th>151</th>\n",
       "      <td>R0000074307</td>\n",
       "      <td>[branded]</td>\n",
       "      <td>1</td>\n",
       "      <td>{u'branded': 1}</td>\n",
       "      <td>0</td>\n",
       "      <td>1</td>\n",
       "    </tr>\n",
       "    <tr>\n",
       "      <th>...</th>\n",
       "      <td>...</td>\n",
       "      <td>...</td>\n",
       "      <td>...</td>\n",
       "      <td>...</td>\n",
       "      <td>...</td>\n",
       "      <td>...</td>\n",
       "    </tr>\n",
       "    <tr>\n",
       "      <th>119114</th>\n",
       "      <td>X95317</td>\n",
       "      <td>[publication_research, publication_research, b...</td>\n",
       "      <td>13</td>\n",
       "      <td>{u'branded': 7, u'other': 1, u'publication_res...</td>\n",
       "      <td>0</td>\n",
       "      <td>7</td>\n",
       "    </tr>\n",
       "    <tr>\n",
       "      <th>119119</th>\n",
       "      <td>X95549</td>\n",
       "      <td>[branded, branded]</td>\n",
       "      <td>2</td>\n",
       "      <td>{u'branded': 2}</td>\n",
       "      <td>0</td>\n",
       "      <td>2</td>\n",
       "    </tr>\n",
       "    <tr>\n",
       "      <th>119151</th>\n",
       "      <td>X97353</td>\n",
       "      <td>[publication_research, publication_research, p...</td>\n",
       "      <td>9</td>\n",
       "      <td>{u'education_tools': 2, u'branded': 1, u'publi...</td>\n",
       "      <td>0</td>\n",
       "      <td>1</td>\n",
       "    </tr>\n",
       "    <tr>\n",
       "      <th>119156</th>\n",
       "      <td>X97435</td>\n",
       "      <td>[social_media, publication_research, branded, ...</td>\n",
       "      <td>4</td>\n",
       "      <td>{u'branded': 1, u'social_media': 1, u'publicat...</td>\n",
       "      <td>0</td>\n",
       "      <td>1</td>\n",
       "    </tr>\n",
       "    <tr>\n",
       "      <th>119160</th>\n",
       "      <td>X97495</td>\n",
       "      <td>[publication_research, publication_research, p...</td>\n",
       "      <td>12</td>\n",
       "      <td>{u'branded': 2, u'publication_research': 10}</td>\n",
       "      <td>0</td>\n",
       "      <td>2</td>\n",
       "    </tr>\n",
       "    <tr>\n",
       "      <th>119166</th>\n",
       "      <td>X97666</td>\n",
       "      <td>[publication_research, branded, education_tool...</td>\n",
       "      <td>36</td>\n",
       "      <td>{u'education_tools': 10, u'branded': 4, u'soci...</td>\n",
       "      <td>0</td>\n",
       "      <td>4</td>\n",
       "    </tr>\n",
       "    <tr>\n",
       "      <th>119167</th>\n",
       "      <td>X97809</td>\n",
       "      <td>[publication_research, publication_research, p...</td>\n",
       "      <td>15</td>\n",
       "      <td>{u'branded': 1, u'publication_research': 14}</td>\n",
       "      <td>0</td>\n",
       "      <td>1</td>\n",
       "    </tr>\n",
       "    <tr>\n",
       "      <th>119174</th>\n",
       "      <td>X98007</td>\n",
       "      <td>[publication_research, publication_research, p...</td>\n",
       "      <td>62</td>\n",
       "      <td>{u'education_tools': 20, u'branded': 1, u'unbr...</td>\n",
       "      <td>0</td>\n",
       "      <td>4</td>\n",
       "    </tr>\n",
       "    <tr>\n",
       "      <th>119182</th>\n",
       "      <td>X98139</td>\n",
       "      <td>[publication_research, publication_research, p...</td>\n",
       "      <td>8</td>\n",
       "      <td>{u'education_tools': 1, u'branded': 1, u'publi...</td>\n",
       "      <td>0</td>\n",
       "      <td>1</td>\n",
       "    </tr>\n",
       "    <tr>\n",
       "      <th>119187</th>\n",
       "      <td>X98393</td>\n",
       "      <td>[branded, other]</td>\n",
       "      <td>2</td>\n",
       "      <td>{u'branded': 1, u'other': 1}</td>\n",
       "      <td>0</td>\n",
       "      <td>1</td>\n",
       "    </tr>\n",
       "    <tr>\n",
       "      <th>119188</th>\n",
       "      <td>X98426</td>\n",
       "      <td>[publication_research, publication_research, p...</td>\n",
       "      <td>13</td>\n",
       "      <td>{u'unbranded': 1, u'publication_research': 12}</td>\n",
       "      <td>0</td>\n",
       "      <td>1</td>\n",
       "    </tr>\n",
       "    <tr>\n",
       "      <th>119192</th>\n",
       "      <td>X98545</td>\n",
       "      <td>[publication_research, publication_research, p...</td>\n",
       "      <td>8</td>\n",
       "      <td>{u'branded': 1, u'publication_research': 7}</td>\n",
       "      <td>0</td>\n",
       "      <td>1</td>\n",
       "    </tr>\n",
       "    <tr>\n",
       "      <th>119194</th>\n",
       "      <td>X98552</td>\n",
       "      <td>[branded, publication_research, branded, publi...</td>\n",
       "      <td>5</td>\n",
       "      <td>{u'branded': 2, u'publication_research': 3}</td>\n",
       "      <td>0</td>\n",
       "      <td>2</td>\n",
       "    </tr>\n",
       "    <tr>\n",
       "      <th>119195</th>\n",
       "      <td>X98554</td>\n",
       "      <td>[publication_research, branded, publication_re...</td>\n",
       "      <td>4</td>\n",
       "      <td>{u'branded': 2, u'publication_research': 2}</td>\n",
       "      <td>0</td>\n",
       "      <td>2</td>\n",
       "    </tr>\n",
       "    <tr>\n",
       "      <th>119208</th>\n",
       "      <td>X98766</td>\n",
       "      <td>[publication_research, branded]</td>\n",
       "      <td>2</td>\n",
       "      <td>{u'branded': 1, u'publication_research': 1}</td>\n",
       "      <td>0</td>\n",
       "      <td>1</td>\n",
       "    </tr>\n",
       "    <tr>\n",
       "      <th>119209</th>\n",
       "      <td>X98803</td>\n",
       "      <td>[publication_research, publication_research, p...</td>\n",
       "      <td>10</td>\n",
       "      <td>{u'branded': 2, u'publication_research': 8}</td>\n",
       "      <td>0</td>\n",
       "      <td>2</td>\n",
       "    </tr>\n",
       "    <tr>\n",
       "      <th>119231</th>\n",
       "      <td>X98967</td>\n",
       "      <td>[branded, branded, branded, branded, branded, ...</td>\n",
       "      <td>12</td>\n",
       "      <td>{u'branded': 10, u'publication_research': 2}</td>\n",
       "      <td>0</td>\n",
       "      <td>10</td>\n",
       "    </tr>\n",
       "    <tr>\n",
       "      <th>119236</th>\n",
       "      <td>X98998</td>\n",
       "      <td>[branded, branded, publication_research, brand...</td>\n",
       "      <td>13</td>\n",
       "      <td>{u'education_tools': 1, u'branded': 5, u'publi...</td>\n",
       "      <td>0</td>\n",
       "      <td>5</td>\n",
       "    </tr>\n",
       "    <tr>\n",
       "      <th>119257</th>\n",
       "      <td>X99227</td>\n",
       "      <td>[publication_research, publication_research, p...</td>\n",
       "      <td>8</td>\n",
       "      <td>{u'branded': 3, u'publication_research': 5}</td>\n",
       "      <td>0</td>\n",
       "      <td>3</td>\n",
       "    </tr>\n",
       "    <tr>\n",
       "      <th>119278</th>\n",
       "      <td>X99573</td>\n",
       "      <td>[publication_research, social_media, publicati...</td>\n",
       "      <td>1096</td>\n",
       "      <td>{u'education_tools': 960, u'branded': 12, u'so...</td>\n",
       "      <td>3</td>\n",
       "      <td>12</td>\n",
       "    </tr>\n",
       "    <tr>\n",
       "      <th>119279</th>\n",
       "      <td>X99575</td>\n",
       "      <td>[branded, branded, branded, branded, branded, ...</td>\n",
       "      <td>9</td>\n",
       "      <td>{u'education_tools': 1, u'branded': 8}</td>\n",
       "      <td>0</td>\n",
       "      <td>8</td>\n",
       "    </tr>\n",
       "    <tr>\n",
       "      <th>119291</th>\n",
       "      <td>X99679</td>\n",
       "      <td>[publication_research, branded, branded]</td>\n",
       "      <td>3</td>\n",
       "      <td>{u'branded': 2, u'publication_research': 1}</td>\n",
       "      <td>0</td>\n",
       "      <td>2</td>\n",
       "    </tr>\n",
       "    <tr>\n",
       "      <th>119295</th>\n",
       "      <td>X99705</td>\n",
       "      <td>[branded, publication_research]</td>\n",
       "      <td>2</td>\n",
       "      <td>{u'branded': 1, u'publication_research': 1}</td>\n",
       "      <td>0</td>\n",
       "      <td>1</td>\n",
       "    </tr>\n",
       "    <tr>\n",
       "      <th>119299</th>\n",
       "      <td>X99738</td>\n",
       "      <td>[publication_research, education_tools, educat...</td>\n",
       "      <td>7</td>\n",
       "      <td>{u'education_tools': 2, u'branded': 1, u'publi...</td>\n",
       "      <td>0</td>\n",
       "      <td>1</td>\n",
       "    </tr>\n",
       "    <tr>\n",
       "      <th>119302</th>\n",
       "      <td>X99769</td>\n",
       "      <td>[publication_research, publication_research, s...</td>\n",
       "      <td>1647</td>\n",
       "      <td>{u'publication_research': 322, u'other': 7, u'...</td>\n",
       "      <td>3</td>\n",
       "      <td>39</td>\n",
       "    </tr>\n",
       "    <tr>\n",
       "      <th>119307</th>\n",
       "      <td>X99854</td>\n",
       "      <td>[branded, branded, publication_research, publi...</td>\n",
       "      <td>11</td>\n",
       "      <td>{u'branded': 4, u'social_media': 1, u'publicat...</td>\n",
       "      <td>0</td>\n",
       "      <td>4</td>\n",
       "    </tr>\n",
       "    <tr>\n",
       "      <th>119314</th>\n",
       "      <td>X99899</td>\n",
       "      <td>[publication_research, branded, branded, brand...</td>\n",
       "      <td>8</td>\n",
       "      <td>{u'branded': 4, u'publication_research': 4}</td>\n",
       "      <td>0</td>\n",
       "      <td>4</td>\n",
       "    </tr>\n",
       "    <tr>\n",
       "      <th>119316</th>\n",
       "      <td>X99906</td>\n",
       "      <td>[publication_research, social_media, social_me...</td>\n",
       "      <td>24</td>\n",
       "      <td>{u'education_tools': 2, u'branded': 2, u'socia...</td>\n",
       "      <td>0</td>\n",
       "      <td>2</td>\n",
       "    </tr>\n",
       "    <tr>\n",
       "      <th>119320</th>\n",
       "      <td>X99941</td>\n",
       "      <td>[publication_research, publication_research, p...</td>\n",
       "      <td>5</td>\n",
       "      <td>{u'branded': 2, u'publication_research': 3}</td>\n",
       "      <td>0</td>\n",
       "      <td>2</td>\n",
       "    </tr>\n",
       "    <tr>\n",
       "      <th>119323</th>\n",
       "      <td>X99982</td>\n",
       "      <td>[unbranded]</td>\n",
       "      <td>1</td>\n",
       "      <td>{u'unbranded': 1}</td>\n",
       "      <td>0</td>\n",
       "      <td>1</td>\n",
       "    </tr>\n",
       "  </tbody>\n",
       "</table>\n",
       "<p>16504 rows × 6 columns</p>\n",
       "</div>"
      ],
      "text/plain": [
       "              dg_id                                           use_case  \\\n",
       "9       R0000002268                         [branded, education_tools]   \n",
       "18      R0000006692                                          [branded]   \n",
       "25      R0000008040                    [branded, publication_research]   \n",
       "28      R0000010415              [social_media, social_media, branded]   \n",
       "30      R0000011735                                          [branded]   \n",
       "34      R0000013730                                          [branded]   \n",
       "41      R0000016806                                          [branded]   \n",
       "49      R0000021815  [social_media, other, branded, social_media, p...   \n",
       "51      R0000023662                                          [branded]   \n",
       "52      R0000023733      [social_media, branded, publication_research]   \n",
       "68      R0000031920  [publication_research, publication_research, b...   \n",
       "69      R0000032280      [publication_research, social_media, branded]   \n",
       "70      R0000032988  [branded, education_tools, education_tools, ed...   \n",
       "72      R0000034287                                          [branded]   \n",
       "82      R0000038459                                 [branded, branded]   \n",
       "84      R0000040496                                          [branded]   \n",
       "87      R0000042030                                          [branded]   \n",
       "88      R0000042155                                          [branded]   \n",
       "90      R0000044695                                 [branded, branded]   \n",
       "96      R0000046285  [publication_research, publication_research, p...   \n",
       "97      R0000046419  [publication_research, publication_research, p...   \n",
       "101     R0000049118  [publication_research, publication_research, p...   \n",
       "106     R0000052561  [branded, branded, branded, branded, branded, ...   \n",
       "108     R0000054329                                          [branded]   \n",
       "116     R0000056766                                          [branded]   \n",
       "118     R0000057116  [publication_research, branded, publication_re...   \n",
       "123     R0000059542                            [branded, social_media]   \n",
       "137     R0000066510  [social_media, branded, social_media, social_m...   \n",
       "139     R0000066908  [publication_research, branded, branded, publi...   \n",
       "151     R0000074307                                          [branded]   \n",
       "...             ...                                                ...   \n",
       "119114       X95317  [publication_research, publication_research, b...   \n",
       "119119       X95549                                 [branded, branded]   \n",
       "119151       X97353  [publication_research, publication_research, p...   \n",
       "119156       X97435  [social_media, publication_research, branded, ...   \n",
       "119160       X97495  [publication_research, publication_research, p...   \n",
       "119166       X97666  [publication_research, branded, education_tool...   \n",
       "119167       X97809  [publication_research, publication_research, p...   \n",
       "119174       X98007  [publication_research, publication_research, p...   \n",
       "119182       X98139  [publication_research, publication_research, p...   \n",
       "119187       X98393                                   [branded, other]   \n",
       "119188       X98426  [publication_research, publication_research, p...   \n",
       "119192       X98545  [publication_research, publication_research, p...   \n",
       "119194       X98552  [branded, publication_research, branded, publi...   \n",
       "119195       X98554  [publication_research, branded, publication_re...   \n",
       "119208       X98766                    [publication_research, branded]   \n",
       "119209       X98803  [publication_research, publication_research, p...   \n",
       "119231       X98967  [branded, branded, branded, branded, branded, ...   \n",
       "119236       X98998  [branded, branded, publication_research, brand...   \n",
       "119257       X99227  [publication_research, publication_research, p...   \n",
       "119278       X99573  [publication_research, social_media, publicati...   \n",
       "119279       X99575  [branded, branded, branded, branded, branded, ...   \n",
       "119291       X99679           [publication_research, branded, branded]   \n",
       "119295       X99705                    [branded, publication_research]   \n",
       "119299       X99738  [publication_research, education_tools, educat...   \n",
       "119302       X99769  [publication_research, publication_research, s...   \n",
       "119307       X99854  [branded, branded, publication_research, publi...   \n",
       "119314       X99899  [publication_research, branded, branded, brand...   \n",
       "119316       X99906  [publication_research, social_media, social_me...   \n",
       "119320       X99941  [publication_research, publication_research, p...   \n",
       "119323       X99982                                        [unbranded]   \n",
       "\n",
       "        total_sessions                                    use_case_counts  \\\n",
       "9                    2             {u'education_tools': 1, u'branded': 1}   \n",
       "18                   1                                    {u'branded': 1}   \n",
       "25                   2        {u'branded': 1, u'publication_research': 1}   \n",
       "28                   3                {u'branded': 1, u'social_media': 2}   \n",
       "30                   1                                    {u'branded': 1}   \n",
       "34                   1                                    {u'branded': 1}   \n",
       "41                   1                                    {u'branded': 1}   \n",
       "49                   5  {u'branded': 1, u'other': 1, u'social_media': ...   \n",
       "51                   1                                    {u'branded': 1}   \n",
       "52                   3  {u'branded': 1, u'social_media': 1, u'publicat...   \n",
       "68                   3        {u'branded': 1, u'publication_research': 2}   \n",
       "69                   3  {u'branded': 1, u'social_media': 1, u'publicat...   \n",
       "70                   9  {u'education_tools': 5, u'branded': 3, u'publi...   \n",
       "72                   1                                    {u'branded': 1}   \n",
       "82                   2                                    {u'branded': 2}   \n",
       "84                   1                                    {u'branded': 1}   \n",
       "87                   1                                    {u'branded': 1}   \n",
       "88                   1                                    {u'branded': 1}   \n",
       "90                   2                                    {u'branded': 2}   \n",
       "96                   7        {u'branded': 1, u'publication_research': 6}   \n",
       "97                  26       {u'branded': 1, u'publication_research': 25}   \n",
       "101                 36       {u'branded': 1, u'publication_research': 35}   \n",
       "106                 27                                   {u'branded': 27}   \n",
       "108                  1                                    {u'branded': 1}   \n",
       "116                  1                                    {u'branded': 1}   \n",
       "118                  5        {u'branded': 2, u'publication_research': 3}   \n",
       "123                  2                {u'branded': 1, u'social_media': 1}   \n",
       "137                  5                {u'branded': 1, u'social_media': 4}   \n",
       "139                  4        {u'branded': 2, u'publication_research': 2}   \n",
       "151                  1                                    {u'branded': 1}   \n",
       "...                ...                                                ...   \n",
       "119114              13  {u'branded': 7, u'other': 1, u'publication_res...   \n",
       "119119               2                                    {u'branded': 2}   \n",
       "119151               9  {u'education_tools': 2, u'branded': 1, u'publi...   \n",
       "119156               4  {u'branded': 1, u'social_media': 1, u'publicat...   \n",
       "119160              12       {u'branded': 2, u'publication_research': 10}   \n",
       "119166              36  {u'education_tools': 10, u'branded': 4, u'soci...   \n",
       "119167              15       {u'branded': 1, u'publication_research': 14}   \n",
       "119174              62  {u'education_tools': 20, u'branded': 1, u'unbr...   \n",
       "119182               8  {u'education_tools': 1, u'branded': 1, u'publi...   \n",
       "119187               2                       {u'branded': 1, u'other': 1}   \n",
       "119188              13     {u'unbranded': 1, u'publication_research': 12}   \n",
       "119192               8        {u'branded': 1, u'publication_research': 7}   \n",
       "119194               5        {u'branded': 2, u'publication_research': 3}   \n",
       "119195               4        {u'branded': 2, u'publication_research': 2}   \n",
       "119208               2        {u'branded': 1, u'publication_research': 1}   \n",
       "119209              10        {u'branded': 2, u'publication_research': 8}   \n",
       "119231              12       {u'branded': 10, u'publication_research': 2}   \n",
       "119236              13  {u'education_tools': 1, u'branded': 5, u'publi...   \n",
       "119257               8        {u'branded': 3, u'publication_research': 5}   \n",
       "119278            1096  {u'education_tools': 960, u'branded': 12, u'so...   \n",
       "119279               9             {u'education_tools': 1, u'branded': 8}   \n",
       "119291               3        {u'branded': 2, u'publication_research': 1}   \n",
       "119295               2        {u'branded': 1, u'publication_research': 1}   \n",
       "119299               7  {u'education_tools': 2, u'branded': 1, u'publi...   \n",
       "119302            1647  {u'publication_research': 322, u'other': 7, u'...   \n",
       "119307              11  {u'branded': 4, u'social_media': 1, u'publicat...   \n",
       "119314               8        {u'branded': 4, u'publication_research': 4}   \n",
       "119316              24  {u'education_tools': 2, u'branded': 2, u'socia...   \n",
       "119320               5        {u'branded': 2, u'publication_research': 3}   \n",
       "119323               1                                  {u'unbranded': 1}   \n",
       "\n",
       "        cluster  pharma  \n",
       "9             0       1  \n",
       "18            0       1  \n",
       "25            0       1  \n",
       "28            0       1  \n",
       "30            0       1  \n",
       "34            0       1  \n",
       "41            0       1  \n",
       "49            0       1  \n",
       "51            0       1  \n",
       "52            0       1  \n",
       "68            0       1  \n",
       "69            0       1  \n",
       "70            0       3  \n",
       "72            0       1  \n",
       "82            0       2  \n",
       "84            0       1  \n",
       "87            0       1  \n",
       "88            0       1  \n",
       "90            0       2  \n",
       "96            0       1  \n",
       "97            0       1  \n",
       "101           0       1  \n",
       "106           0      27  \n",
       "108           0       1  \n",
       "116           0       1  \n",
       "118           0       2  \n",
       "123           0       1  \n",
       "137           0       1  \n",
       "139           0       2  \n",
       "151           0       1  \n",
       "...         ...     ...  \n",
       "119114        0       7  \n",
       "119119        0       2  \n",
       "119151        0       1  \n",
       "119156        0       1  \n",
       "119160        0       2  \n",
       "119166        0       4  \n",
       "119167        0       1  \n",
       "119174        0       4  \n",
       "119182        0       1  \n",
       "119187        0       1  \n",
       "119188        0       1  \n",
       "119192        0       1  \n",
       "119194        0       2  \n",
       "119195        0       2  \n",
       "119208        0       1  \n",
       "119209        0       2  \n",
       "119231        0      10  \n",
       "119236        0       5  \n",
       "119257        0       3  \n",
       "119278        3      12  \n",
       "119279        0       8  \n",
       "119291        0       2  \n",
       "119295        0       1  \n",
       "119299        0       1  \n",
       "119302        3      39  \n",
       "119307        0       4  \n",
       "119314        0       4  \n",
       "119316        0       2  \n",
       "119320        0       2  \n",
       "119323        0       1  \n",
       "\n",
       "[16504 rows x 6 columns]"
      ]
     },
     "execution_count": 198,
     "metadata": {},
     "output_type": "execute_result"
    }
   ],
   "source": [
    "personas[personas.pharma>0]"
   ]
  },
  {
   "cell_type": "code",
   "execution_count": 206,
   "metadata": {
    "collapsed": false
   },
   "outputs": [],
   "source": [
    "dg_phirms = event_sessions[event_sessions.site_category=='Pharma'].groupby('dg_id').pharma_firm.apply(list).reset_index()\n",
    "dg_phirms['phirm_counts'] = dg_phirms.pharma_firm.apply(lambda x: Counter(x))"
   ]
  },
  {
   "cell_type": "code",
   "execution_count": 209,
   "metadata": {
    "collapsed": false
   },
   "outputs": [],
   "source": [
    "personas = pd.merge(personas, dg_phirms[['dg_id', 'phirm_counts']], on='dg_id', how='left')"
   ]
  },
  {
   "cell_type": "code",
   "execution_count": 231,
   "metadata": {
    "collapsed": false
   },
   "outputs": [],
   "source": [
    "personas['number_use_cases'] = personas.use_case_counts.apply(lambda x: len(x))"
   ]
  },
  {
   "cell_type": "code",
   "execution_count": 312,
   "metadata": {
    "collapsed": false
   },
   "outputs": [
    {
     "data": {
      "text/plain": [
       "0.7293510324483776"
      ]
     },
     "execution_count": 312,
     "metadata": {},
     "output_type": "execute_result"
    }
   ],
   "source": [
    "len(personas[personas.total_sessions<=3])/len(personas)"
   ]
  },
  {
   "cell_type": "code",
   "execution_count": 327,
   "metadata": {
    "collapsed": false
   },
   "outputs": [
    {
     "data": {
      "text/plain": [
       "<matplotlib.axes._subplots.AxesSubplot at 0x1631d1c50>"
      ]
     },
     "execution_count": 327,
     "metadata": {},
     "output_type": "execute_result"
    },
    {
     "data": {
      "image/png": "[encoded data removed]",
      "text/plain": [
       "<matplotlib.figure.Figure at 0x1623f9350>"
      ]
     },
     "metadata": {},
     "output_type": "display_data"
    }
   ],
   "source": [
    "personas[(personas.total_sessions>=10)&(personas.total_sessions <= 100)].total_sessions.hist(bins=20)"
   ]
  },
  {
   "cell_type": "code",
   "execution_count": 316,
   "metadata": {
    "collapsed": false
   },
   "outputs": [
    {
     "data": {
      "text/html": [
       "<div>\n",
       "<style>\n",
       "    .dataframe thead tr:only-child th {\n",
       "        text-align: right;\n",
       "    }\n",
       "\n",
       "    .dataframe thead th {\n",
       "        text-align: left;\n",
       "    }\n",
       "\n",
       "    .dataframe tbody tr th {\n",
       "        vertical-align: top;\n",
       "    }\n",
       "</style>\n",
       "<table border=\"1\" class=\"dataframe\">\n",
       "  <thead>\n",
       "    <tr style=\"text-align: right;\">\n",
       "      <th></th>\n",
       "      <th>session_id</th>\n",
       "      <th>timestamp</th>\n",
       "    </tr>\n",
       "  </thead>\n",
       "  <tbody>\n",
       "    <tr>\n",
       "      <th>1577057</th>\n",
       "      <td>3661872c-b9f3-45ee-b7a6-6b7d7f46de71</td>\n",
       "      <td>2017-03-16 18:26:21.873</td>\n",
       "    </tr>\n",
       "    <tr>\n",
       "      <th>1577058</th>\n",
       "      <td>3661872c-b9f3-45ee-b7a6-6b7d7f46de71</td>\n",
       "      <td>2017-03-16 18:26:32.067</td>\n",
       "    </tr>\n",
       "    <tr>\n",
       "      <th>1577059</th>\n",
       "      <td>f7f31c2f-3bc5-4b15-82df-9fee479eae9b</td>\n",
       "      <td>2017-04-11 14:26:23.963</td>\n",
       "    </tr>\n",
       "    <tr>\n",
       "      <th>1577060</th>\n",
       "      <td>f7f31c2f-3bc5-4b15-82df-9fee479eae9b</td>\n",
       "      <td>2017-04-11 14:26:29.223</td>\n",
       "    </tr>\n",
       "  </tbody>\n",
       "</table>\n",
       "</div>"
      ],
      "text/plain": [
       "                                   session_id               timestamp\n",
       "1577057  3661872c-b9f3-45ee-b7a6-6b7d7f46de71 2017-03-16 18:26:21.873\n",
       "1577058  3661872c-b9f3-45ee-b7a6-6b7d7f46de71 2017-03-16 18:26:32.067\n",
       "1577059  f7f31c2f-3bc5-4b15-82df-9fee479eae9b 2017-04-11 14:26:23.963\n",
       "1577060  f7f31c2f-3bc5-4b15-82df-9fee479eae9b 2017-04-11 14:26:29.223"
      ]
     },
     "execution_count": 316,
     "metadata": {},
     "output_type": "execute_result"
    }
   ],
   "source": [
    "events[events.dg_id=='U082239426'][['session_id', 'timestamp']]"
   ]
  },
  {
   "cell_type": "code",
   "execution_count": 373,
   "metadata": {
    "collapsed": false
   },
   "outputs": [
    {
     "name": "stdout",
     "output_type": "stream",
     "text": [
      "Initialization complete\n",
      "Iteration  0, inertia 43570067.000\n",
      "Iteration  1, inertia 43142255.163\n",
      "Iteration  2, inertia 43030816.718\n",
      "Iteration  3, inertia 42842137.476\n",
      "Iteration  4, inertia 42752009.685\n",
      "Iteration  5, inertia 42742954.892\n",
      "Iteration  6, inertia 42742066.413\n",
      "Iteration  7, inertia 42741587.711\n",
      "Iteration  8, inertia 42741516.904\n",
      "Converged at iteration 8: center shift 0.000000e+00 within tolerance 1.611878e-01\n",
      "done in 0.393s\n",
      "\n"
     ]
    },
    {
     "name": "stderr",
     "output_type": "stream",
     "text": [
      "/usr/local/lib/python2.7/site-packages/ipykernel/__main__.py:13: SettingWithCopyWarning: \n",
      "A value is trying to be set on a copy of a slice from a DataFrame.\n",
      "Try using .loc[row_indexer,col_indexer] = value instead\n",
      "\n",
      "See the caveats in the documentation: http://pandas.pydata.org/pandas-docs/stable/indexing.html#indexing-view-versus-copy\n"
     ]
    }
   ],
   "source": [
    "vectorizer = CountVectorizer(min_df=1)\n",
    "#X = vectorizer.fit_transform(personas.use_case.apply(lambda x: ', '.join(x)).as_matrix())\n",
    "#Xs = vectorizer.fit_transform(single_use_case.use_case.apply(lambda x: ', '.join(x)).as_matrix())\n",
    "#Xt = vectorizer.fit_transform(personas[personas.number_use_cases>1].use_case.apply(lambda x: ', '.join(x)).as_matrix())\n",
    "Xm = vectorizer.fit_transform(many_or_done.use_case.apply(lambda x: ', '.join(x)).as_matrix())\n",
    "km = KMeans(n_clusters=3, init='k-means++', max_iter=100, n_init=1, verbose=1)\n",
    "\n",
    "t0 = time()\n",
    "km.fit(Xm)\n",
    "print (\"done in %0.3fs\" % (time() - t0))\n",
    "print()\n",
    "\n",
    "many_or_done['cluster'] = km.labels_"
   ]
  },
  {
   "cell_type": "code",
   "execution_count": 374,
   "metadata": {
    "collapsed": false,
    "scrolled": true
   },
   "outputs": [
    {
     "data": {
      "text/plain": [
       "0    24645\n",
       "2      410\n",
       "1       26\n",
       "Name: cluster, dtype: int64"
      ]
     },
     "execution_count": 374,
     "metadata": {},
     "output_type": "execute_result"
    }
   ],
   "source": [
    "many_or_done.cluster.value_counts()"
   ]
  },
  {
   "cell_type": "code",
   "execution_count": 376,
   "metadata": {
    "collapsed": false,
    "scrolled": true
   },
   "outputs": [
    {
     "name": "stdout",
     "output_type": "stream",
     "text": [
      "Counter({'publications_ed_tools': 1064, 'other': 48, 'pharma_device': 16, 'professional_social_media': 5})\n",
      "Counter({'publications_ed_tools': 1238, 'pharma_device': 47, 'professional_social_media': 21, 'other': 5})\n",
      "Counter({'publications_ed_tools': 1424, 'pharma_device': 65, 'professional_social_media': 12, 'other': 10})\n",
      "Counter({'publications_ed_tools': 1064, 'other': 48, 'pharma_device': 16, 'professional_social_media': 5})\n",
      "Counter({'publications_ed_tools': 1565, 'pharma_device': 36, 'professional_social_media': 32, 'other': 24})\n",
      "Counter({'publications_ed_tools': 4295, 'other': 61, 'pharma_device': 25, 'professional_social_media': 7})\n",
      "Counter({'publications_ed_tools': 2498, 'pharma_device': 12, 'professional_social_media': 1, 'other': 1})\n",
      "Counter({'publications_ed_tools': 1082, 'pharma_device': 12, 'professional_social_media': 2})\n",
      "Counter({'publications_ed_tools': 1258, 'other': 21, 'pharma_device': 4})\n",
      "Counter({'publications_ed_tools': 1183, 'pharma_device': 43, 'professional_social_media': 17, 'other': 8})\n"
     ]
    }
   ],
   "source": [
    "i = 0\n",
    "while i < 10:\n",
    "    print(many_or_done[many_or_done.cluster==1].sample().use_case_counts.item())\n",
    "    i+=1"
   ]
  },
  {
   "cell_type": "code",
   "execution_count": 279,
   "metadata": {
    "collapsed": false
   },
   "outputs": [
    {
     "data": {
      "text/html": [
       "<div>\n",
       "<style>\n",
       "    .dataframe thead tr:only-child th {\n",
       "        text-align: right;\n",
       "    }\n",
       "\n",
       "    .dataframe thead th {\n",
       "        text-align: left;\n",
       "    }\n",
       "\n",
       "    .dataframe tbody tr th {\n",
       "        vertical-align: top;\n",
       "    }\n",
       "</style>\n",
       "<table border=\"1\" class=\"dataframe\">\n",
       "  <thead>\n",
       "    <tr style=\"text-align: right;\">\n",
       "      <th></th>\n",
       "      <th>mean</th>\n",
       "      <th>count</th>\n",
       "    </tr>\n",
       "    <tr>\n",
       "      <th>cluster</th>\n",
       "      <th></th>\n",
       "      <th></th>\n",
       "    </tr>\n",
       "  </thead>\n",
       "  <tbody>\n",
       "    <tr>\n",
       "      <th>0</th>\n",
       "      <td>2.461435</td>\n",
       "      <td>90329</td>\n",
       "    </tr>\n",
       "    <tr>\n",
       "      <th>1</th>\n",
       "      <td>241.068966</td>\n",
       "      <td>87</td>\n",
       "    </tr>\n",
       "    <tr>\n",
       "      <th>2</th>\n",
       "      <td>801.000000</td>\n",
       "      <td>1</td>\n",
       "    </tr>\n",
       "    <tr>\n",
       "      <th>3</th>\n",
       "      <td>56.623358</td>\n",
       "      <td>685</td>\n",
       "    </tr>\n",
       "  </tbody>\n",
       "</table>\n",
       "</div>"
      ],
      "text/plain": [
       "               mean  count\n",
       "cluster                   \n",
       "0          2.461435  90329\n",
       "1        241.068966     87\n",
       "2        801.000000      1\n",
       "3         56.623358    685"
      ]
     },
     "execution_count": 279,
     "metadata": {},
     "output_type": "execute_result"
    }
   ],
   "source": [
    "single_use_case.groupby('cluster').total_sessions.agg(['mean', 'count'])"
   ]
  },
  {
   "cell_type": "code",
   "execution_count": 280,
   "metadata": {
    "collapsed": false
   },
   "outputs": [],
   "source": [
    "from sklearn.decomposition import PCA\n",
    "pca = PCA(n_components=2).fit_transform(Xs.toarray())"
   ]
  },
  {
   "cell_type": "code",
   "execution_count": 94,
   "metadata": {
    "collapsed": false
   },
   "outputs": [
    {
     "data": {
      "text/plain": [
       "[36895]"
      ]
     },
     "execution_count": 94,
     "metadata": {},
     "output_type": "execute_result"
    }
   ],
   "source": [
    "import random\n",
    "random.sample(range(pca.shape[0]), 1)"
   ]
  },
  {
   "cell_type": "code",
   "execution_count": 281,
   "metadata": {
    "collapsed": false,
    "scrolled": true
   },
   "outputs": [
    {
     "data": {
      "image/png": "[encoded data removed]",
      "text/plain": [
       "<matplotlib.figure.Figure at 0x133892450>"
      ]
     },
     "metadata": {},
     "output_type": "display_data"
    },
    {
     "data": {
      "text/plain": [
       "<matplotlib.figure.Figure at 0x128d7d650>"
      ]
     },
     "metadata": {},
     "output_type": "display_data"
    }
   ],
   "source": [
    "import matplotlib.pyplot as plt\n",
    "for i in random.sample(range(pca.shape[0]), 10000):\n",
    "    if km.labels_[i] == 0:\n",
    "        c1 = plt.scatter(pca[i,0],pca[i,1],c='r', marker='+')\n",
    "    elif km.labels_[i] == 1:\n",
    "        c2 = plt.scatter(pca[i,0],pca[i,1],c='g', marker='o')\n",
    "    elif km.labels_[i] == 3:\n",
    "        c3 = plt.scatter(pca[i,0],pca[i,1],c='b',marker='*') \n",
    "plt.legend([c1, c2, c3], ['0', '2', '5'])\n",
    "plt.figure(figsize=(20,10))\n",
    "plt.show()"
   ]
  },
  {
   "cell_type": "code",
   "execution_count": 397,
   "metadata": {
    "collapsed": false
   },
   "outputs": [
    {
     "data": {
      "text/plain": [
       "dg_id                                                 R0000079160\n",
       "use_case           [publications_ed_tools, publications_ed_tools]\n",
       "total_sessions                                                  2\n",
       "use_case_counts                     {u'publications_ed_tools': 2}\n",
       "Name: 159, dtype: object"
      ]
     },
     "execution_count": 397,
     "metadata": {},
     "output_type": "execute_result"
    }
   ],
   "source": [
    "personas.loc[159]"
   ]
  },
  {
   "cell_type": "code",
   "execution_count": 398,
   "metadata": {
    "collapsed": false
   },
   "outputs": [
    {
     "data": {
      "text/plain": [
       "array([[  0,   0,   0, 275]])"
      ]
     },
     "execution_count": 398,
     "metadata": {},
     "output_type": "execute_result"
    }
   ],
   "source": [
    "Xm[158].toarray()"
   ]
  },
  {
   "cell_type": "code",
   "execution_count": 380,
   "metadata": {
    "collapsed": false
   },
   "outputs": [],
   "source": [
    "Xmt = Xm.transpose()"
   ]
  },
  {
   "cell_type": "code",
   "execution_count": 408,
   "metadata": {
    "collapsed": false
   },
   "outputs": [
    {
     "data": {
      "text/html": [
       "<div>\n",
       "<style>\n",
       "    .dataframe thead tr:only-child th {\n",
       "        text-align: right;\n",
       "    }\n",
       "\n",
       "    .dataframe thead th {\n",
       "        text-align: left;\n",
       "    }\n",
       "\n",
       "    .dataframe tbody tr th {\n",
       "        vertical-align: top;\n",
       "    }\n",
       "</style>\n",
       "<table border=\"1\" class=\"dataframe\">\n",
       "  <thead>\n",
       "    <tr style=\"text-align: right;\">\n",
       "      <th></th>\n",
       "      <th>dg_id</th>\n",
       "      <th>use_case</th>\n",
       "      <th>total_sessions</th>\n",
       "      <th>use_case_counts</th>\n",
       "      <th>cluster</th>\n",
       "    </tr>\n",
       "  </thead>\n",
       "  <tbody>\n",
       "    <tr>\n",
       "      <th>4</th>\n",
       "      <td>R0000000651</td>\n",
       "      <td>[publications_ed_tools, publications_ed_tools,...</td>\n",
       "      <td>20</td>\n",
       "      <td>{u'publications_ed_tools': 20}</td>\n",
       "      <td>0</td>\n",
       "    </tr>\n",
       "    <tr>\n",
       "      <th>7</th>\n",
       "      <td>R0000000996</td>\n",
       "      <td>[publications_ed_tools, publications_ed_tools,...</td>\n",
       "      <td>17</td>\n",
       "      <td>{u'publications_ed_tools': 17}</td>\n",
       "      <td>0</td>\n",
       "    </tr>\n",
       "    <tr>\n",
       "      <th>12</th>\n",
       "      <td>R0000003613</td>\n",
       "      <td>[publications_ed_tools, publications_ed_tools,...</td>\n",
       "      <td>6</td>\n",
       "      <td>{u'publications_ed_tools': 6}</td>\n",
       "      <td>0</td>\n",
       "    </tr>\n",
       "    <tr>\n",
       "      <th>13</th>\n",
       "      <td>R0000003905</td>\n",
       "      <td>[publications_ed_tools, publications_ed_tools,...</td>\n",
       "      <td>32</td>\n",
       "      <td>{u'professional_social_media': 3, u'publicatio...</td>\n",
       "      <td>0</td>\n",
       "    </tr>\n",
       "    <tr>\n",
       "      <th>20</th>\n",
       "      <td>R0000007411</td>\n",
       "      <td>[publications_ed_tools, publications_ed_tools,...</td>\n",
       "      <td>7</td>\n",
       "      <td>{u'professional_social_media': 1, u'publicatio...</td>\n",
       "      <td>0</td>\n",
       "    </tr>\n",
       "    <tr>\n",
       "      <th>24</th>\n",
       "      <td>R0000007877</td>\n",
       "      <td>[publications_ed_tools, publications_ed_tools,...</td>\n",
       "      <td>7</td>\n",
       "      <td>{u'publications_ed_tools': 7}</td>\n",
       "      <td>0</td>\n",
       "    </tr>\n",
       "    <tr>\n",
       "      <th>31</th>\n",
       "      <td>R0000012481</td>\n",
       "      <td>[publications_ed_tools, publications_ed_tools,...</td>\n",
       "      <td>44</td>\n",
       "      <td>{u'publications_ed_tools': 44}</td>\n",
       "      <td>0</td>\n",
       "    </tr>\n",
       "    <tr>\n",
       "      <th>38</th>\n",
       "      <td>R0000014872</td>\n",
       "      <td>[publications_ed_tools, publications_ed_tools,...</td>\n",
       "      <td>56</td>\n",
       "      <td>{u'publications_ed_tools': 56}</td>\n",
       "      <td>0</td>\n",
       "    </tr>\n",
       "    <tr>\n",
       "      <th>47</th>\n",
       "      <td>R0000021114</td>\n",
       "      <td>[publications_ed_tools, publications_ed_tools,...</td>\n",
       "      <td>72</td>\n",
       "      <td>{u'publications_ed_tools': 72}</td>\n",
       "      <td>0</td>\n",
       "    </tr>\n",
       "    <tr>\n",
       "      <th>49</th>\n",
       "      <td>R0000021815</td>\n",
       "      <td>[professional_social_media, other, pharma_devi...</td>\n",
       "      <td>5</td>\n",
       "      <td>{u'professional_social_media': 2, u'other': 1,...</td>\n",
       "      <td>0</td>\n",
       "    </tr>\n",
       "    <tr>\n",
       "      <th>61</th>\n",
       "      <td>R0000027404</td>\n",
       "      <td>[publications_ed_tools, publications_ed_tools,...</td>\n",
       "      <td>5</td>\n",
       "      <td>{u'publications_ed_tools': 5}</td>\n",
       "      <td>0</td>\n",
       "    </tr>\n",
       "    <tr>\n",
       "      <th>64</th>\n",
       "      <td>R0000028026</td>\n",
       "      <td>[other, other, other, other, other, other, pub...</td>\n",
       "      <td>14</td>\n",
       "      <td>{u'other': 13, u'publications_ed_tools': 1}</td>\n",
       "      <td>0</td>\n",
       "    </tr>\n",
       "    <tr>\n",
       "      <th>66</th>\n",
       "      <td>R0000029252</td>\n",
       "      <td>[professional_social_media, professional_socia...</td>\n",
       "      <td>5</td>\n",
       "      <td>{u'professional_social_media': 5}</td>\n",
       "      <td>0</td>\n",
       "    </tr>\n",
       "    <tr>\n",
       "      <th>70</th>\n",
       "      <td>R0000032988</td>\n",
       "      <td>[pharma_device, publications_ed_tools, publica...</td>\n",
       "      <td>9</td>\n",
       "      <td>{u'pharma_device': 3, u'publications_ed_tools'...</td>\n",
       "      <td>0</td>\n",
       "    </tr>\n",
       "    <tr>\n",
       "      <th>71</th>\n",
       "      <td>R0000033202</td>\n",
       "      <td>[publications_ed_tools, publications_ed_tools,...</td>\n",
       "      <td>11</td>\n",
       "      <td>{u'publications_ed_tools': 11}</td>\n",
       "      <td>0</td>\n",
       "    </tr>\n",
       "  </tbody>\n",
       "</table>\n",
       "</div>"
      ],
      "text/plain": [
       "          dg_id                                           use_case  \\\n",
       "4   R0000000651  [publications_ed_tools, publications_ed_tools,...   \n",
       "7   R0000000996  [publications_ed_tools, publications_ed_tools,...   \n",
       "12  R0000003613  [publications_ed_tools, publications_ed_tools,...   \n",
       "13  R0000003905  [publications_ed_tools, publications_ed_tools,...   \n",
       "20  R0000007411  [publications_ed_tools, publications_ed_tools,...   \n",
       "24  R0000007877  [publications_ed_tools, publications_ed_tools,...   \n",
       "31  R0000012481  [publications_ed_tools, publications_ed_tools,...   \n",
       "38  R0000014872  [publications_ed_tools, publications_ed_tools,...   \n",
       "47  R0000021114  [publications_ed_tools, publications_ed_tools,...   \n",
       "49  R0000021815  [professional_social_media, other, pharma_devi...   \n",
       "61  R0000027404  [publications_ed_tools, publications_ed_tools,...   \n",
       "64  R0000028026  [other, other, other, other, other, other, pub...   \n",
       "66  R0000029252  [professional_social_media, professional_socia...   \n",
       "70  R0000032988  [pharma_device, publications_ed_tools, publica...   \n",
       "71  R0000033202  [publications_ed_tools, publications_ed_tools,...   \n",
       "\n",
       "    total_sessions                                    use_case_counts  cluster  \n",
       "4               20                     {u'publications_ed_tools': 20}        0  \n",
       "7               17                     {u'publications_ed_tools': 17}        0  \n",
       "12               6                      {u'publications_ed_tools': 6}        0  \n",
       "13              32  {u'professional_social_media': 3, u'publicatio...        0  \n",
       "20               7  {u'professional_social_media': 1, u'publicatio...        0  \n",
       "24               7                      {u'publications_ed_tools': 7}        0  \n",
       "31              44                     {u'publications_ed_tools': 44}        0  \n",
       "38              56                     {u'publications_ed_tools': 56}        0  \n",
       "47              72                     {u'publications_ed_tools': 72}        0  \n",
       "49               5  {u'professional_social_media': 2, u'other': 1,...        0  \n",
       "61               5                      {u'publications_ed_tools': 5}        0  \n",
       "64              14        {u'other': 13, u'publications_ed_tools': 1}        0  \n",
       "66               5                  {u'professional_social_media': 5}        0  \n",
       "70               9  {u'pharma_device': 3, u'publications_ed_tools'...        0  \n",
       "71              11                     {u'publications_ed_tools': 11}        0  "
      ]
     },
     "execution_count": 408,
     "metadata": {},
     "output_type": "execute_result"
    }
   ],
   "source": [
    "many_or_done[:15]"
   ]
  },
  {
   "cell_type": "code",
   "execution_count": 409,
   "metadata": {
    "collapsed": false
   },
   "outputs": [
    {
     "data": {
      "text/plain": [
       "array([[ 0,  0,  0, 20],\n",
       "       [ 0,  0,  0, 17],\n",
       "       [ 0,  0,  0,  6],\n",
       "       [ 0,  0,  3, 29],\n",
       "       [ 0,  0,  1,  6],\n",
       "       [ 0,  0,  0,  7],\n",
       "       [ 0,  0,  0, 44],\n",
       "       [ 0,  0,  0, 56],\n",
       "       [ 0,  0,  0, 72],\n",
       "       [ 1,  1,  2,  1],\n",
       "       [ 0,  0,  0,  5],\n",
       "       [13,  0,  0,  1],\n",
       "       [ 0,  0,  5,  0],\n",
       "       [ 0,  3,  0,  6],\n",
       "       [ 0,  0,  0, 11]])"
      ]
     },
     "execution_count": 409,
     "metadata": {},
     "output_type": "execute_result"
    }
   ],
   "source": [
    "Xm[:15].toarray()"
   ]
  },
  {
   "cell_type": "code",
   "execution_count": 411,
   "metadata": {
    "collapsed": false
   },
   "outputs": [
    {
     "data": {
      "text/plain": [
       "array([[0, 2, 0, 3]])"
      ]
     },
     "execution_count": 411,
     "metadata": {},
     "output_type": "execute_result"
    }
   ],
   "source": [
    "Xm[-1].toarray()"
   ]
  },
  {
   "cell_type": "code",
   "execution_count": 410,
   "metadata": {
    "collapsed": false
   },
   "outputs": [
    {
     "data": {
      "text/plain": [
       "array([[ 0,  0,  0, ...,  0,  1,  0],\n",
       "       [ 0,  0,  0, ...,  4,  2,  2],\n",
       "       [ 0,  0,  0, ...,  0,  6,  0],\n",
       "       [20, 17,  6, ...,  4, 15,  3]])"
      ]
     },
     "execution_count": 410,
     "metadata": {},
     "output_type": "execute_result"
    }
   ],
   "source": [
    "Xmt.toarray()"
   ]
  },
  {
   "cell_type": "code",
   "execution_count": 418,
   "metadata": {
    "collapsed": false
   },
   "outputs": [],
   "source": [
    "%matplotlib osx\n",
    "\n",
    "from mpl_toolkits.mplot3d import Axes3D\n",
    "import matplotlib.pyplot as plt\n",
    "\n",
    "\n",
    "\n",
    "fig = plt.figure(figsize=(12,8))\n",
    "ax = fig.add_subplot(111, projection='3d')\n",
    "\n",
    "x =Xmt[1].toarray()\n",
    "y =Xmt[2].toarray()\n",
    "z =Xmt[3].toarray()\n",
    "\n",
    "\n",
    "\n",
    "ax.scatter(x, y, z, c='r', marker='o')\n",
    "\n",
    "ax.set_xlabel('Pharma')\n",
    "ax.set_ylabel('Social/Professional')\n",
    "ax.set_zlabel('Publisher')\n",
    "\n",
    "plt.show()"
   ]
  },
  {
   "cell_type": "code",
   "execution_count": null,
   "metadata": {
    "collapsed": true
   },
   "outputs": [],
   "source": []
  }
 ],
 "metadata": {
  "kernelspec": {
   "display_name": "Python 2",
   "language": "python",
   "name": "python2"
  },
  "language_info": {
   "codemirror_mode": {
    "name": "ipython",
    "version": 2
   },
   "file_extension": ".py",
   "mimetype": "text/x-python",
   "name": "python",
   "nbconvert_exporter": "python",
   "pygments_lexer": "ipython2",
   "version": "2.7.13"
  }
 },
 "nbformat": 4,
 "nbformat_minor": 0
}
