{
 "cells": [
  {
   "cell_type": "code",
   "execution_count": 1,
   "metadata": {
    "collapsed": true
   },
   "outputs": [],
   "source": [
    "%matplotlib inline\n",
    "from __future__ import division\n",
    "\n",
    "import pandas as pd\n",
    "import utils\n",
    "import datetime"
   ]
  },
  {
   "cell_type": "code",
   "execution_count": 2,
   "metadata": {
    "collapsed": false
   },
   "outputs": [
    {
     "name": "stderr",
     "output_type": "stream",
     "text": [
      "/usr/local/lib/python2.7/site-packages/IPython/core/interactiveshell.py:2821: DtypeWarning: Columns (5,6,7,8,11,12,13,14,17,18) have mixed types. Specify dtype option on import or set low_memory=False.\n",
      "  if self.run_code(code, result):\n",
      "/usr/local/lib/python2.7/site-packages/IPython/core/interactiveshell.py:2821: DtypeWarning: Columns (15) have mixed types. Specify dtype option on import or set low_memory=False.\n",
      "  if self.run_code(code, result):\n"
     ]
    }
   ],
   "source": [
    "visitors, events, devices, url_categories = utils.load_data(event_categories=True)"
   ]
  },
  {
   "cell_type": "code",
   "execution_count": 26,
   "metadata": {
    "collapsed": false
   },
   "outputs": [
    {
     "data": {
      "text/plain": [
       "domain\n",
       "www.merckconnect.com                                 307237\n",
       "keytruda-com.epublishmerck.com                        12238\n",
       "www.merckclarifiesbiosimilars.com                      6458\n",
       "www.merck-cares.com                                    5157\n",
       "merckconnect-responsive.epublishmerck.com              5032\n",
       "www.merckaccessprogram-zepatier.com                    5031\n",
       "zepatier-com.epublishmerck.com                         2216\n",
       "nuvaring-com.epublishmerck.com                         1709\n",
       "zostavax-com.epublishmerck.com                         1597\n",
       "whysoawake-com.epublishmerck.com                       1564\n",
       "belsomra-com.epublishmerck.com                         1457\n",
       "nexplanon-com.epublishmerck.com                        1184\n",
       "mcresponsive-prelive.epublishmerck.com                 1086\n",
       "mcresponsive-staging.epublishmerck.com                 1024\n",
       "isentress-com.epublishmerck.com                         936\n",
       "www.merckaccessprogram-noxafil.com                      703\n",
       "gardasil9-com.epublishmerck.com                         680\n",
       "es-januvia-epublishmerck.onelink-translations.com       480\n",
       "januvia-com.epublishmerck.com                           392\n",
       "merckclarifiesbiosimilars-com.epublishmerck.com         279\n",
       "janumetxr-com.epublishmerck.com                         264\n",
       "stepstodiabetesgoals-com.epublishmerck.com              263\n",
       "journeyforcontrol-com.epublishmerck.com                 180\n",
       "shinglesinfo-com.epublishmerck.com                      162\n",
       "m-dulera-com.epublishmerck.com                          143\n",
       "pneumovax23-com.epublishmerck.com                       140\n",
       "dulera-ut.merck.com                                     129\n",
       "bobjnadev.merck.com                                      89\n",
       "merckaccessprogramnoxafil-com.epublishmerck.com          71\n",
       "m-zostavax-com.epublishmerck.com                         64\n",
       "dificid-com.epublishmerck.com                            61\n",
       "rotateq-com.epublishmerck.com                            54\n",
       "merckcares-com.epublishmerck.com                         21\n",
       "india_team5.epublishmerck.com                            20\n",
       "asmanex-com.epublishmerck.com                            16\n",
       "en-januvia-epublishmerck.onelink-translations.com        15\n",
       "dulera-com.epublishmerck.com                              9\n",
       "januvia-it.merck.com                                      6\n",
       "m-shinglesinfo-com.epublishmerck.com                      5\n",
       "www.merck.com                                             3\n",
       "merckconnect.com                                          2\n",
       "noxafil-com.epublishmerck.com                             2\n",
       "mci-jnrn-jp-dev.epublishmerck.com                         2\n",
       "januvia-it3.merck.com                                     1\n",
       "catalog.dev.epublishmerck.com                             1\n",
       "mci-ca-dev.epublishmerck.com                              1\n",
       "www.merckclarifiesbiosimilars.com.                        1\n",
       "Name: unk_sessions, dtype: int64"
      ]
     },
     "execution_count": 26,
     "metadata": {},
     "output_type": "execute_result"
    }
   ],
   "source": [
    "unk[unk.domain.str.contains(\"merck\")].groupby('domain').unk_sessions.sum().sort_values(ascending=False)"
   ]
  },
  {
   "cell_type": "code",
   "execution_count": 3,
   "metadata": {
    "collapsed": false
   },
   "outputs": [],
   "source": [
    "# grab unknowns\n",
    "unk = pd.read_csv('../data/unqualified_traffic_summary.csv', parse_dates=['date'])\n",
    "unk = unk.dropna(subset=['domain'])\n",
    "\n",
    "# since we were only given these at the domain level, will be sufficient to strip urls after .com\n",
    "unk['stripped_url'] = unk.domain.apply(lambda x: utils.clean_url(x, strip=True))\n",
    "unk['dt'] = unk.date.apply(lambda x: datetime.datetime.strptime(x, '%Y-%m-%d'))\n",
    "\n",
    "unk = unk.rename(columns={'sessions':'unk_sessions'})\n",
    "unkd = unk.groupby(['stripped_url', 'dt']).unk_sessions.sum().reset_index()"
   ]
  },
  {
   "cell_type": "code",
   "execution_count": 4,
   "metadata": {
    "collapsed": false
   },
   "outputs": [],
   "source": [
    "# strip out disease categories + diseases\n",
    "disease_categories = pd.DataFrame()\n",
    "for row in url_categories.fillna('').iterrows():\n",
    "    d = {}\n",
    "    r = row[1]\n",
    "    d['url_category_id'] = r.url_category_id\n",
    "    dc = r.disease_category\n",
    "    for x in dc.split(','):\n",
    "        dis = x.lower().strip()\n",
    "        if dis != '':\n",
    "            d['disease_category'] = dis\n",
    "            disease_categories = disease_categories.append(d, ignore_index=True)\n",
    "            \n",
    "diseases = pd.DataFrame()\n",
    "for row in url_categories.fillna('').iterrows():\n",
    "    d = {}\n",
    "    r = row[1]\n",
    "    d['url_category_id'] = r.url_category_id\n",
    "    dc = r.disease\n",
    "    for x in dc.split(','):\n",
    "        dis = x.lower().strip()\n",
    "        if dis != '':\n",
    "            d['disease'] = dis\n",
    "            diseases = diseases.append(d, ignore_index=True)"
   ]
  },
  {
   "cell_type": "code",
   "execution_count": 5,
   "metadata": {
    "collapsed": false
   },
   "outputs": [
    {
     "name": "stderr",
     "output_type": "stream",
     "text": [
      "/usr/local/lib/python2.7/site-packages/ipykernel/__main__.py:7: SettingWithCopyWarning: \n",
      "A value is trying to be set on a copy of a slice from a DataFrame.\n",
      "Try using .loc[row_indexer,col_indexer] = value instead\n",
      "\n",
      "See the caveats in the documentation: http://pandas.pydata.org/pandas-docs/stable/indexing.html#indexing-view-versus-copy\n",
      "/usr/local/lib/python2.7/site-packages/pandas/core/generic.py:3110: SettingWithCopyWarning: \n",
      "A value is trying to be set on a copy of a slice from a DataFrame.\n",
      "Try using .loc[row_indexer,col_indexer] = value instead\n",
      "\n",
      "See the caveats in the documentation: http://pandas.pydata.org/pandas-docs/stable/indexing.html#indexing-view-versus-copy\n",
      "  self[name] = value\n"
     ]
    }
   ],
   "source": [
    "# bring in visitors, determine if authorized\n",
    "categorized_visits = pd.merge(visitors, events, on='dg_id')\n",
    "categorized_visits['authorized'] = categorized_visits.identity_type.apply(lambda x: 1 if x=='AUT' else 0)\n",
    "\n",
    "# isolate pharma companies\n",
    "pharma = categorized_visits[categorized_visits.site_category=='Pharma']\n",
    "pharma['dt'] = pharma.timestamp.apply(lambda x: x.date())\n",
    "pharma.dt = pd.to_datetime(pharma.dt)\n",
    "\n",
    "pharma_activity = pharma.groupby(['category_url', 'dt']).authorized.agg(['sum', 'count']).reset_index()\n",
    "pharma_activity.columns = ['url', 'dt', 'authorized_visits', 'identified_visits']\n",
    "pharma_activity = pd.merge(url_categories, pharma_activity, on='url').fillna('')"
   ]
  },
  {
   "cell_type": "code",
   "execution_count": 6,
   "metadata": {
    "collapsed": false
   },
   "outputs": [],
   "source": [
    "# merge with unknowns by date\n",
    "pharma_merged = pd.merge(pharma_activity, unkd, on=['stripped_url', 'dt'], how='left')\n",
    "pharma_merged['month'] = pharma_merged.dt.apply(lambda x: x.month)\n",
    "pharma_merged['total_visits'] = pharma_merged.apply(lambda x: x.identified_visits + x.unk_sessions, axis=1)\n",
    "pharma_merged['pct_authorized'] = pharma_merged.apply(lambda x: x.authorized_visits/x.total_visits, axis=1)"
   ]
  },
  {
   "cell_type": "code",
   "execution_count": 7,
   "metadata": {
    "collapsed": false
   },
   "outputs": [],
   "source": [
    "# keep useful columns\n",
    "pharma_merged = \\\n",
    "    pharma_merged[['url_category_id', 'dt', 'url', 'site_sub_category', \n",
    "               'month', 'disease_category', 'disease', 'pharma_firm', \n",
    "               'authorized_visits',  'identified_visits', 'unk_sessions', \n",
    "               'total_visits', 'dt_first_view', 'pct_authorized']]"
   ]
  },
  {
   "cell_type": "code",
   "execution_count": 11,
   "metadata": {
    "collapsed": false
   },
   "outputs": [
    {
     "name": "stdout",
     "output_type": "stream",
     "text": [
      "mean:  0.0118609477195\n",
      "total:  0.00322442143999\n"
     ]
    }
   ],
   "source": [
    "pm_visits = pharma_merged[~pharma_merged.total_visits.isnull()]\n",
    "\n",
    "print 'mean: ', pm_visits.pct_authorized.mean()\n",
    "print 'total: ', sum(pm_visits.authorized_visits)/sum(pm_visits.total_visits)"
   ]
  },
  {
   "cell_type": "code",
   "execution_count": 14,
   "metadata": {
    "collapsed": false
   },
   "outputs": [
    {
     "name": "stdout",
     "output_type": "stream",
     "text": [
      "mean:  0.013136662949\n",
      "total:  0.00328998163588\n"
     ]
    }
   ],
   "source": [
    "merck_visits = pharma_merged[(pharma_merged.pharma_firm=='Merck')&(~pharma_merged.total_visits.isnull())]\n",
    "\n",
    "print 'mean: ', merck_visits.pct_authorized.mean()\n",
    "print 'total: ', sum(merck_visits.authorized_visits)/sum(merck_visits.total_visits)"
   ]
  },
  {
   "cell_type": "code",
   "execution_count": 15,
   "metadata": {
    "collapsed": false
   },
   "outputs": [],
   "source": [
    "merck = merck_visits.groupby('url')[['authorized_visits', 'total_visits']].sum().reset_index()\n",
    "merck['pct_authorized'] = merck.apply(lambda x: x.authorized_visits/x.total_visits, axis=1)"
   ]
  },
  {
   "cell_type": "code",
   "execution_count": 19,
   "metadata": {
    "collapsed": false
   },
   "outputs": [],
   "source": [
    "merck.to_csv('../data/merck_authorized_visits.csv', index=False)"
   ]
  },
  {
   "cell_type": "code",
   "execution_count": 8,
   "metadata": {
    "collapsed": false
   },
   "outputs": [],
   "source": [
    "pharma_auth = pharma_merged.groupby('pharma_firm')[['authorized_visits', 'total_visits']].sum().reset_index()\n",
    "pharma_auth['pct_authorized'] = pharma_auth.apply(lambda x: x.authorized_visits/x.total_visits, axis=1)"
   ]
  },
  {
   "cell_type": "code",
   "execution_count": 13,
   "metadata": {
    "collapsed": false
   },
   "outputs": [],
   "source": [
    "pharma_auth.to_csv('../data/all_pharma_firms_authorized_visits.csv', index=False)"
   ]
  },
  {
   "cell_type": "code",
   "execution_count": 26,
   "metadata": {
    "collapsed": false
   },
   "outputs": [],
   "source": [
    "# we probably only care about monthly granularity\n",
    "authorized_by_month = pharma_merged.groupby(['url_category_id', 'month'])[['authorized_visits', \n",
    "                                                     'identified_visits', \n",
    "                                                     'unk_sessions', \n",
    "                                                     'total_visits']].sum().reset_index()"
   ]
  },
  {
   "cell_type": "code",
   "execution_count": 33,
   "metadata": {
    "collapsed": false
   },
   "outputs": [
    {
     "name": "stdout",
     "output_type": "stream",
     "text": [
      "mean:  0.0293383455933\n",
      "total:  0.00436732201266\n"
     ]
    },
    {
     "name": "stderr",
     "output_type": "stream",
     "text": [
      "/usr/local/lib/python2.7/site-packages/ipykernel/__main__.py:2: SettingWithCopyWarning: \n",
      "A value is trying to be set on a copy of a slice from a DataFrame.\n",
      "Try using .loc[row_indexer,col_indexer] = value instead\n",
      "\n",
      "See the caveats in the documentation: http://pandas.pydata.org/pandas-docs/stable/indexing.html#indexing-view-versus-copy\n",
      "  from ipykernel import kernelapp as app\n"
     ]
    }
   ],
   "source": [
    "pm_visits = authorized_by_month[~authorized_by_month.total_visits.isnull()]\n",
    "pm_visits['pct_authorized'] = pm_visits.apply(lambda x: x.identified_visits/x.total_visits, axis=1)\n",
    "\n",
    "print 'mean: ', pm_visits.pct_authorized.mean()\n",
    "print 'total: ', sum(pm_visits.identified_visits)/sum(pm_visits.total_visits)"
   ]
  },
  {
   "cell_type": "code",
   "execution_count": 9,
   "metadata": {
    "collapsed": false
   },
   "outputs": [],
   "source": [
    "def authorized_visits_by_month(pharma_site):\n",
    "    disc = pd.DataFrame()\n",
    "    diss = pd.DataFrame()\n",
    "    \n",
    "    ucid = url_categories[url_categories.url==pharma_site].url_category_id.item()\n",
    "    site_authorized_by_month = authorized_by_month[authorized_by_month.url_category_id==ucid]\n",
    "    site_authorized_by_month['pct_authorized'] = site_authorized_by_month.apply(lambda x: x.authorized_visits/x.total_visits, axis=1)\n",
    "    dis_cats = disease_categories[disease_categories.url_category_id==ucid]\n",
    "    for d in dis_cats.disease_category:\n",
    "        dc = disease_categories[disease_categories.disease_category==d]\n",
    "        if len(dc) > 3:\n",
    "            m = pd.merge(authorized_by_month, dc, on='url_category_id')\n",
    "            m = m.groupby(['month', 'disease_category'])[['authorized_visits', 'total_visits']].sum().reset_index()\n",
    "            m['pct_authorized'] = m.authorized_visits/m.total_visits\n",
    "            m['num_sites'] = len(dc)\n",
    "            disc = disc.append(m, ignore_index=True)\n",
    "    dis = diseases[diseases.url_category_id==ucid]\n",
    "    for d in dis.disease:\n",
    "        ds = diseases[diseases.disease==d]\n",
    "        if len(dc) > 3:\n",
    "            m = pd.merge(authorized_by_month, ds, on='url_category_id')\n",
    "            m = m.groupby(['month', 'disease'])[['authorized_visits', 'total_visits']].sum().reset_index()\n",
    "            m['pct_authorized'] = m.authorized_visits/m.total_visits\n",
    "            m['num_sites'] = len(dc)\n",
    "            diss = diss.append(m, ignore_index=True)\n",
    "    \n",
    "    # merge for tableau\n",
    "    good_cols = ['url_category_id', 'pharma_site', 'pharma_firm', 'month', 'authorized_visits', 'pct_authorized']\n",
    "    df = site_authorized_by_month[['url_category_id', 'month', 'authorized_visits', 'pct_authorized']]\n",
    "    if len(disc)>0:\n",
    "        disc['url_category_id'] = ucid\n",
    "        df2 = disc[['url_category_id', 'month', 'disease_category', 'authorized_visits', 'pct_authorized', 'num_sites']]\n",
    "        df = pd.concat([df, df2])\n",
    "        good_cols += ['disease_category', 'num_sites']\n",
    "    if len(diss)>0:\n",
    "        diss['url_category_id'] = ucid\n",
    "        df3 = diss[['url_category_id', 'month', 'disease', 'authorized_visits', 'pct_authorized', 'num_sites']]\n",
    "        df = pd.concat([df, df3])\n",
    "        good_cols += ['disease']\n",
    "        \n",
    "    df['pharma_site'] = pharma_site\n",
    "    df['pharma_firm'] = url_categories[url_categories.url_category_id==ucid].pharma_firm.item()\n",
    "    return df[good_cols]"
   ]
  },
  {
   "cell_type": "code",
   "execution_count": 10,
   "metadata": {
    "collapsed": false
   },
   "outputs": [
    {
     "name": "stderr",
     "output_type": "stream",
     "text": [
      "/usr/local/lib/python2.7/site-packages/ipykernel/__main__.py:7: SettingWithCopyWarning: \n",
      "A value is trying to be set on a copy of a slice from a DataFrame.\n",
      "Try using .loc[row_indexer,col_indexer] = value instead\n",
      "\n",
      "See the caveats in the documentation: http://pandas.pydata.org/pandas-docs/stable/indexing.html#indexing-view-versus-copy\n"
     ]
    }
   ],
   "source": [
    "df =  authorized_visits_by_month('www.dulera.com')"
   ]
  },
  {
   "cell_type": "code",
   "execution_count": 11,
   "metadata": {
    "collapsed": false
   },
   "outputs": [
    {
     "data": {
      "text/html": [
       "<div>\n",
       "<style>\n",
       "    .dataframe thead tr:only-child th {\n",
       "        text-align: right;\n",
       "    }\n",
       "\n",
       "    .dataframe thead th {\n",
       "        text-align: left;\n",
       "    }\n",
       "\n",
       "    .dataframe tbody tr th {\n",
       "        vertical-align: top;\n",
       "    }\n",
       "</style>\n",
       "<table border=\"1\" class=\"dataframe\">\n",
       "  <thead>\n",
       "    <tr style=\"text-align: right;\">\n",
       "      <th></th>\n",
       "      <th>url_category_id</th>\n",
       "      <th>pharma_site</th>\n",
       "      <th>pharma_firm</th>\n",
       "      <th>month</th>\n",
       "      <th>authorized_visits</th>\n",
       "      <th>pct_authorized</th>\n",
       "      <th>disease_category</th>\n",
       "      <th>num_sites</th>\n",
       "      <th>disease</th>\n",
       "    </tr>\n",
       "  </thead>\n",
       "  <tbody>\n",
       "    <tr>\n",
       "      <th>0</th>\n",
       "      <td>46</td>\n",
       "      <td>www.dulera.com</td>\n",
       "      <td>Merck</td>\n",
       "      <td>2</td>\n",
       "      <td>442</td>\n",
       "      <td>0.004690</td>\n",
       "      <td>NaN</td>\n",
       "      <td>NaN</td>\n",
       "      <td>NaN</td>\n",
       "    </tr>\n",
       "    <tr>\n",
       "      <th>1</th>\n",
       "      <td>46</td>\n",
       "      <td>www.dulera.com</td>\n",
       "      <td>Merck</td>\n",
       "      <td>3</td>\n",
       "      <td>683</td>\n",
       "      <td>0.013057</td>\n",
       "      <td>NaN</td>\n",
       "      <td>NaN</td>\n",
       "      <td>NaN</td>\n",
       "    </tr>\n",
       "    <tr>\n",
       "      <th>2</th>\n",
       "      <td>46</td>\n",
       "      <td>www.dulera.com</td>\n",
       "      <td>Merck</td>\n",
       "      <td>4</td>\n",
       "      <td>959</td>\n",
       "      <td>0.014179</td>\n",
       "      <td>NaN</td>\n",
       "      <td>NaN</td>\n",
       "      <td>NaN</td>\n",
       "    </tr>\n",
       "    <tr>\n",
       "      <th>3</th>\n",
       "      <td>46</td>\n",
       "      <td>www.dulera.com</td>\n",
       "      <td>Merck</td>\n",
       "      <td>5</td>\n",
       "      <td>601</td>\n",
       "      <td>0.017305</td>\n",
       "      <td>NaN</td>\n",
       "      <td>NaN</td>\n",
       "      <td>NaN</td>\n",
       "    </tr>\n",
       "    <tr>\n",
       "      <th>4</th>\n",
       "      <td>46</td>\n",
       "      <td>www.dulera.com</td>\n",
       "      <td>Merck</td>\n",
       "      <td>6</td>\n",
       "      <td>543</td>\n",
       "      <td>0.026376</td>\n",
       "      <td>NaN</td>\n",
       "      <td>NaN</td>\n",
       "      <td>NaN</td>\n",
       "    </tr>\n",
       "  </tbody>\n",
       "</table>\n",
       "</div>"
      ],
      "text/plain": [
       "   url_category_id     pharma_site pharma_firm  month  authorized_visits  \\\n",
       "0               46  www.dulera.com       Merck      2                442   \n",
       "1               46  www.dulera.com       Merck      3                683   \n",
       "2               46  www.dulera.com       Merck      4                959   \n",
       "3               46  www.dulera.com       Merck      5                601   \n",
       "4               46  www.dulera.com       Merck      6                543   \n",
       "\n",
       "   pct_authorized disease_category  num_sites disease  \n",
       "0        0.004690              NaN        NaN     NaN  \n",
       "1        0.013057              NaN        NaN     NaN  \n",
       "2        0.014179              NaN        NaN     NaN  \n",
       "3        0.017305              NaN        NaN     NaN  \n",
       "4        0.026376              NaN        NaN     NaN  "
      ]
     },
     "execution_count": 11,
     "metadata": {},
     "output_type": "execute_result"
    }
   ],
   "source": [
    "df.head()"
   ]
  },
  {
   "cell_type": "code",
   "execution_count": 12,
   "metadata": {
    "collapsed": false
   },
   "outputs": [
    {
     "name": "stderr",
     "output_type": "stream",
     "text": [
      "/usr/local/lib/python2.7/site-packages/ipykernel/__main__.py:7: SettingWithCopyWarning: \n",
      "A value is trying to be set on a copy of a slice from a DataFrame.\n",
      "Try using .loc[row_indexer,col_indexer] = value instead\n",
      "\n",
      "See the caveats in the documentation: http://pandas.pydata.org/pandas-docs/stable/indexing.html#indexing-view-versus-copy\n"
     ]
    }
   ],
   "source": [
    "all_urls = pd.DataFrame()\n",
    "for url in pharma_activity.url.unique():\n",
    "    all_urls = all_urls.append(authorized_visits_by_month(url))"
   ]
  },
  {
   "cell_type": "code",
   "execution_count": 14,
   "metadata": {
    "collapsed": false
   },
   "outputs": [],
   "source": [
    "all_urls[['url_category_id', 'pharma_site', 'pharma_firm', 'month', \n",
    "          'disease_category', 'disease', 'pct_authorized',\n",
    "          'num_sites', 'authorized_visits']].to_csv('../data/authorized_visits_by_month.csv', index=False)"
   ]
  },
  {
   "cell_type": "code",
   "execution_count": 13,
   "metadata": {
    "collapsed": false
   },
   "outputs": [
    {
     "data": {
      "text/html": [
       "<div>\n",
       "<style>\n",
       "    .dataframe thead tr:only-child th {\n",
       "        text-align: right;\n",
       "    }\n",
       "\n",
       "    .dataframe thead th {\n",
       "        text-align: left;\n",
       "    }\n",
       "\n",
       "    .dataframe tbody tr th {\n",
       "        vertical-align: top;\n",
       "    }\n",
       "</style>\n",
       "<table border=\"1\" class=\"dataframe\">\n",
       "  <thead>\n",
       "    <tr style=\"text-align: right;\">\n",
       "      <th></th>\n",
       "      <th>authorized_visits</th>\n",
       "      <th>disease</th>\n",
       "      <th>disease_category</th>\n",
       "      <th>month</th>\n",
       "      <th>num_sites</th>\n",
       "      <th>pct_authorized</th>\n",
       "      <th>pharma_firm</th>\n",
       "      <th>pharma_site</th>\n",
       "      <th>url_category_id</th>\n",
       "    </tr>\n",
       "  </thead>\n",
       "  <tbody>\n",
       "    <tr>\n",
       "      <th>0</th>\n",
       "      <td>442</td>\n",
       "      <td>NaN</td>\n",
       "      <td>NaN</td>\n",
       "      <td>2</td>\n",
       "      <td>NaN</td>\n",
       "      <td>0.004690</td>\n",
       "      <td>Merck</td>\n",
       "      <td>www.dulera.com</td>\n",
       "      <td>46</td>\n",
       "    </tr>\n",
       "    <tr>\n",
       "      <th>1</th>\n",
       "      <td>683</td>\n",
       "      <td>NaN</td>\n",
       "      <td>NaN</td>\n",
       "      <td>3</td>\n",
       "      <td>NaN</td>\n",
       "      <td>0.013057</td>\n",
       "      <td>Merck</td>\n",
       "      <td>www.dulera.com</td>\n",
       "      <td>46</td>\n",
       "    </tr>\n",
       "    <tr>\n",
       "      <th>2</th>\n",
       "      <td>959</td>\n",
       "      <td>NaN</td>\n",
       "      <td>NaN</td>\n",
       "      <td>4</td>\n",
       "      <td>NaN</td>\n",
       "      <td>0.014179</td>\n",
       "      <td>Merck</td>\n",
       "      <td>www.dulera.com</td>\n",
       "      <td>46</td>\n",
       "    </tr>\n",
       "    <tr>\n",
       "      <th>3</th>\n",
       "      <td>601</td>\n",
       "      <td>NaN</td>\n",
       "      <td>NaN</td>\n",
       "      <td>5</td>\n",
       "      <td>NaN</td>\n",
       "      <td>0.017305</td>\n",
       "      <td>Merck</td>\n",
       "      <td>www.dulera.com</td>\n",
       "      <td>46</td>\n",
       "    </tr>\n",
       "    <tr>\n",
       "      <th>4</th>\n",
       "      <td>543</td>\n",
       "      <td>NaN</td>\n",
       "      <td>NaN</td>\n",
       "      <td>6</td>\n",
       "      <td>NaN</td>\n",
       "      <td>0.026376</td>\n",
       "      <td>Merck</td>\n",
       "      <td>www.dulera.com</td>\n",
       "      <td>46</td>\n",
       "    </tr>\n",
       "  </tbody>\n",
       "</table>\n",
       "</div>"
      ],
      "text/plain": [
       "   authorized_visits disease disease_category  month  num_sites  \\\n",
       "0                442     NaN              NaN      2        NaN   \n",
       "1                683     NaN              NaN      3        NaN   \n",
       "2                959     NaN              NaN      4        NaN   \n",
       "3                601     NaN              NaN      5        NaN   \n",
       "4                543     NaN              NaN      6        NaN   \n",
       "\n",
       "   pct_authorized pharma_firm     pharma_site  url_category_id  \n",
       "0        0.004690       Merck  www.dulera.com               46  \n",
       "1        0.013057       Merck  www.dulera.com               46  \n",
       "2        0.014179       Merck  www.dulera.com               46  \n",
       "3        0.017305       Merck  www.dulera.com               46  \n",
       "4        0.026376       Merck  www.dulera.com               46  "
      ]
     },
     "execution_count": 13,
     "metadata": {},
     "output_type": "execute_result"
    }
   ],
   "source": [
    "all_urls.head()"
   ]
  },
  {
   "cell_type": "code",
   "execution_count": null,
   "metadata": {
    "collapsed": true
   },
   "outputs": [],
   "source": []
  }
 ],
 "metadata": {
  "kernelspec": {
   "display_name": "Python 2",
   "language": "python",
   "name": "python2"
  },
  "language_info": {
   "codemirror_mode": {
    "name": "ipython",
    "version": 2
   },
   "file_extension": ".py",
   "mimetype": "text/x-python",
   "name": "python",
   "nbconvert_exporter": "python",
   "pygments_lexer": "ipython2",
   "version": "2.7.13"
  }
 },
 "nbformat": 4,
 "nbformat_minor": 2
}
