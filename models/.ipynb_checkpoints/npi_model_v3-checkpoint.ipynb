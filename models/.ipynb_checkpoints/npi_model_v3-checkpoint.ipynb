{
 "cells": [
  {
   "cell_type": "code",
   "execution_count": 9,
   "metadata": {
    "collapsed": true
   },
   "outputs": [],
   "source": [
    "%matplotlib inline\n",
    "from __future__ import division\n",
    "\n",
    "import pandas as pd\n",
    "import matplotlib.pyplot as plt\n",
    "import utils\n",
    "import datetime"
   ]
  },
  {
   "cell_type": "code",
   "execution_count": 2,
   "metadata": {
    "collapsed": false
   },
   "outputs": [
    {
     "name": "stderr",
     "output_type": "stream",
     "text": [
      "/usr/local/lib/python2.7/site-packages/IPython/core/interactiveshell.py:2821: DtypeWarning: Columns (5,6,7,8,11,12,13,14,17,18) have mixed types. Specify dtype option on import or set low_memory=False.\n",
      "  if self.run_code(code, result):\n",
      "/usr/local/lib/python2.7/site-packages/IPython/core/interactiveshell.py:2821: DtypeWarning: Columns (15) have mixed types. Specify dtype option on import or set low_memory=False.\n",
      "  if self.run_code(code, result):\n"
     ]
    }
   ],
   "source": [
    "visitors, events, devices, url_categories = utils.load_data(event_categories=True)"
   ]
  },
  {
   "cell_type": "code",
   "execution_count": 3,
   "metadata": {
    "collapsed": false
   },
   "outputs": [
    {
     "data": {
      "text/plain": [
       "0.9838107265260091"
      ]
     },
     "execution_count": 3,
     "metadata": {},
     "output_type": "execute_result"
    }
   ],
   "source": [
    "len(events[~events.site_category.isnull()])/len(events)"
   ]
  },
  {
   "cell_type": "code",
   "execution_count": 4,
   "metadata": {
    "collapsed": false
   },
   "outputs": [],
   "source": [
    "sample_npis = list(visitors[(visitors.professional_designation=='Physician')\\\n",
    "                       &(~visitors.npi_number.isnull())\\\n",
    "                       &(visitors.exclude==0)].npi_number.sample(10000))"
   ]
  },
  {
   "cell_type": "code",
   "execution_count": 27,
   "metadata": {
    "collapsed": true
   },
   "outputs": [],
   "source": [
    "def categorize_frequency(n):\n",
    "    if n < 1:\n",
    "        return 'Less than 1 visit a month' \n",
    "    elif n <= 10:\n",
    "        return '1-10 times per month'\n",
    "    else:\n",
    "        return 'More than 10x per month'\n",
    "    \n",
    "def get_quarters(dt):\n",
    "    if dt < datetime.date(2017, 5, 1):\n",
    "        return 'q1'\n",
    "    elif dt < datetime.date(2017, 8, 1):\n",
    "        return 'q2'\n",
    "    \n",
    "def npi_level_summary_statistics(output_file=None, npis=None):\n",
    "    # if given a list of users, pull in those. otherwise, use all available data\n",
    "    if npis:\n",
    "        v = visitors[visitors.npi_number.isin(npis)]\n",
    "    else:\n",
    "        v = visitors[visitors.exclude==0]\n",
    "    ev = pd.merge(v, events, on='dg_id')\n",
    "    if len(ev) == 0:\n",
    "        print 'target list has no web activity'\n",
    "        return\n",
    "    # check which users have web activity\n",
    "    event_dgids = set(ev.dg_id)\n",
    "    v['has_event'] = v.dg_id.apply(lambda x: 1 if x in event_dgids else 0)\n",
    "    \n",
    "    # check frequency of web activity (timeframe denominator starts with the earliest date the user has activity)\n",
    "    max_dt = max(events.timestamp).date()\n",
    "    ev['dt'] = ev.timestamp.apply(lambda x: x.date())\n",
    "    ev['quarter'] = ev.dt.apply(lambda x: get_quarters(x))\n",
    "    freq = ev.drop_duplicates(subset=['dg_id', 'dt']).groupby(['dg_id']).dt.agg(['min', 'max', 'count']).reset_index()\n",
    "    freq['sessions_per_month'] = freq.apply(lambda x: x['count']/(max(1, (max_dt-x['min']).days)/30), axis=1)\n",
    "    freq['frequency_category'] = freq.sessions_per_month.apply(lambda x: categorize_frequency(x))\n",
    "    v = pd.merge(v, freq[['dg_id', 'sessions_per_month', 'frequency_category']], how='left')\n",
    "    \n",
    "    # separate frequency by quarter\n",
    "    freqq = ev.drop_duplicates(subset=['dg_id', 'dt']).groupby(['dg_id', 'quarter']).dt.agg(['min', 'max', 'count']).reset_index()\n",
    "    freqq['sessions_per_month'] = freqq.apply(lambda x: x['count']/(max(1, (max_dt-x['min']).days)/30), axis=1)\n",
    "    freqq['frequency_category'] = freqq.sessions_per_month.apply(lambda x: categorize_frequency(x))\n",
    "    freqq = freqq.pivot(index='dg_id', columns='quarter', values='frequency_category').reset_index()\n",
    "    freqq.columns= ['dg_id', 'frequency_category_q1', 'frequency_category_q2']\n",
    "    v = pd.merge(v, freqq, on='dg_id', how='left')\n",
    "    \n",
    "    # grab avg number of urls per session\n",
    "    urls_per_session = ev.groupby(['dg_id', 'session_id']).url.nunique().reset_index()\\\n",
    "        .groupby('dg_id').url.mean().reset_index()\n",
    "    urls_per_session = urls_per_session.rename(columns={'url':'urls_per_session'})\n",
    "    v = pd.merge(v, urls_per_session, on='dg_id', how='left')\n",
    "    \n",
    "    tableau_columns = [\n",
    "        'dg_id', \n",
    "        'identity_type', \n",
    "        'professional_designation', \n",
    "        'npi_number', \n",
    "        'primary_specialty', \n",
    "        'primary_specialty_group', \n",
    "        'birth_year', \n",
    "        'grad_year', \n",
    "        'gender', \n",
    "        'has_event', \n",
    "        'sessions_per_month', \n",
    "        'frequency_category',\n",
    "        'frequency_category_q1',\n",
    "        'frequency_category_q2',\n",
    "        'urls_per_session' \n",
    "    ]\n",
    "    \n",
    "    if output_file:\n",
    "        v[tableau_columns].to_csv(output_file)\n",
    "    else:\n",
    "        return v[tableau_columns]"
   ]
  },
  {
   "cell_type": "code",
   "execution_count": 28,
   "metadata": {
    "collapsed": false
   },
   "outputs": [],
   "source": [
    "npis = list(v[~v.npi_number.isnull()].npi_number.sample(5))"
   ]
  },
  {
   "cell_type": "code",
   "execution_count": 29,
   "metadata": {
    "collapsed": false
   },
   "outputs": [
    {
     "name": "stdout",
     "output_type": "stream",
     "text": [
      "target list has no web activity\n"
     ]
    }
   ],
   "source": [
    "npi_level_summary_statistics(npis=npis)"
   ]
  },
  {
   "cell_type": "code",
   "execution_count": 30,
   "metadata": {
    "collapsed": false
   },
   "outputs": [],
   "source": [
    "event_npis = list(visitors[(visitors.dg_id.isin(events.dg_id.sample(5)))&(~visitors.npi_number.isnull())].npi_number)"
   ]
  },
  {
   "cell_type": "code",
   "execution_count": 31,
   "metadata": {
    "collapsed": false
   },
   "outputs": [
    {
     "name": "stderr",
     "output_type": "stream",
     "text": [
      "/usr/local/lib/python2.7/site-packages/ipykernel/__main__.py:27: SettingWithCopyWarning: \n",
      "A value is trying to be set on a copy of a slice from a DataFrame.\n",
      "Try using .loc[row_indexer,col_indexer] = value instead\n",
      "\n",
      "See the caveats in the documentation: http://pandas.pydata.org/pandas-docs/stable/indexing.html#indexing-view-versus-copy\n"
     ]
    }
   ],
   "source": [
    "df= npi_level_summary_statistics(npis=event_npis)"
   ]
  },
  {
   "cell_type": "code",
   "execution_count": 33,
   "metadata": {
    "collapsed": false
   },
   "outputs": [
    {
     "name": "stderr",
     "output_type": "stream",
     "text": [
      "/usr/local/lib/python2.7/site-packages/ipykernel/__main__.py:27: SettingWithCopyWarning: \n",
      "A value is trying to be set on a copy of a slice from a DataFrame.\n",
      "Try using .loc[row_indexer,col_indexer] = value instead\n",
      "\n",
      "See the caveats in the documentation: http://pandas.pydata.org/pandas-docs/stable/indexing.html#indexing-view-versus-copy\n"
     ]
    }
   ],
   "source": [
    "df = npi_level_summary_statistics()"
   ]
  },
  {
   "cell_type": "code",
   "execution_count": 34,
   "metadata": {
    "collapsed": false
   },
   "outputs": [
    {
     "data": {
      "text/plain": [
       "5964081"
      ]
     },
     "execution_count": 34,
     "metadata": {},
     "output_type": "execute_result"
    }
   ],
   "source": [
    "len(df)"
   ]
  },
  {
   "cell_type": "code",
   "execution_count": 36,
   "metadata": {
    "collapsed": false
   },
   "outputs": [
    {
     "data": {
      "text/html": [
       "<div>\n",
       "<style>\n",
       "    .dataframe thead tr:only-child th {\n",
       "        text-align: right;\n",
       "    }\n",
       "\n",
       "    .dataframe thead th {\n",
       "        text-align: left;\n",
       "    }\n",
       "\n",
       "    .dataframe tbody tr th {\n",
       "        vertical-align: top;\n",
       "    }\n",
       "</style>\n",
       "<table border=\"1\" class=\"dataframe\">\n",
       "  <thead>\n",
       "    <tr style=\"text-align: right;\">\n",
       "      <th></th>\n",
       "      <th>dg_id</th>\n",
       "      <th>identity_type</th>\n",
       "      <th>professional_designation</th>\n",
       "      <th>npi_number</th>\n",
       "      <th>primary_specialty</th>\n",
       "      <th>primary_specialty_group</th>\n",
       "      <th>birth_year</th>\n",
       "      <th>grad_year</th>\n",
       "      <th>gender</th>\n",
       "      <th>has_event</th>\n",
       "      <th>sessions_per_month</th>\n",
       "      <th>frequency_category</th>\n",
       "      <th>frequency_category_q1</th>\n",
       "      <th>frequency_category_q2</th>\n",
       "      <th>urls_per_session</th>\n",
       "    </tr>\n",
       "  </thead>\n",
       "  <tbody>\n",
       "    <tr>\n",
       "      <th>2294723</th>\n",
       "      <td>U082272135</td>\n",
       "      <td>AUT</td>\n",
       "      <td>PA</td>\n",
       "      <td>1.467709e+09</td>\n",
       "      <td>Unspecified</td>\n",
       "      <td>Midlevel</td>\n",
       "      <td>0</td>\n",
       "      <td>0</td>\n",
       "      <td>F</td>\n",
       "      <td>1</td>\n",
       "      <td>0.789474</td>\n",
       "      <td>Less than 1 visit a month</td>\n",
       "      <td>None</td>\n",
       "      <td>Less than 1 visit a month</td>\n",
       "      <td>1.00</td>\n",
       "    </tr>\n",
       "    <tr>\n",
       "      <th>4580608</th>\n",
       "      <td>X3760100</td>\n",
       "      <td>POI</td>\n",
       "      <td>POI</td>\n",
       "      <td>NaN</td>\n",
       "      <td>NaN</td>\n",
       "      <td>NaN</td>\n",
       "      <td>0</td>\n",
       "      <td>0</td>\n",
       "      <td>NaN</td>\n",
       "      <td>1</td>\n",
       "      <td>2.926829</td>\n",
       "      <td>1-10 times per month</td>\n",
       "      <td>None</td>\n",
       "      <td>1-10 times per month</td>\n",
       "      <td>1.80</td>\n",
       "    </tr>\n",
       "    <tr>\n",
       "      <th>4417208</th>\n",
       "      <td>X361304</td>\n",
       "      <td>POI</td>\n",
       "      <td>POI</td>\n",
       "      <td>NaN</td>\n",
       "      <td>NaN</td>\n",
       "      <td>NaN</td>\n",
       "      <td>0</td>\n",
       "      <td>0</td>\n",
       "      <td>NaN</td>\n",
       "      <td>1</td>\n",
       "      <td>0.508475</td>\n",
       "      <td>Less than 1 visit a month</td>\n",
       "      <td>Less than 1 visit a month</td>\n",
       "      <td>None</td>\n",
       "      <td>1.50</td>\n",
       "    </tr>\n",
       "    <tr>\n",
       "      <th>739106</th>\n",
       "      <td>U080109108</td>\n",
       "      <td>AUT</td>\n",
       "      <td>Physician</td>\n",
       "      <td>1.124244e+09</td>\n",
       "      <td>Addiction Psychiatry (ADP)</td>\n",
       "      <td>Psychiatry</td>\n",
       "      <td>1978</td>\n",
       "      <td>2002</td>\n",
       "      <td>M</td>\n",
       "      <td>1</td>\n",
       "      <td>0.236220</td>\n",
       "      <td>Less than 1 visit a month</td>\n",
       "      <td>Less than 1 visit a month</td>\n",
       "      <td>None</td>\n",
       "      <td>1.00</td>\n",
       "    </tr>\n",
       "    <tr>\n",
       "      <th>1402107</th>\n",
       "      <td>U080783854</td>\n",
       "      <td>AUT</td>\n",
       "      <td>Physician</td>\n",
       "      <td>1.093776e+09</td>\n",
       "      <td>Neurology (N)</td>\n",
       "      <td>Neurology</td>\n",
       "      <td>1959</td>\n",
       "      <td>1985</td>\n",
       "      <td>M</td>\n",
       "      <td>1</td>\n",
       "      <td>0.720000</td>\n",
       "      <td>Less than 1 visit a month</td>\n",
       "      <td>Less than 1 visit a month</td>\n",
       "      <td>None</td>\n",
       "      <td>1.25</td>\n",
       "    </tr>\n",
       "    <tr>\n",
       "      <th>4651240</th>\n",
       "      <td>X3823670</td>\n",
       "      <td>POI</td>\n",
       "      <td>POI</td>\n",
       "      <td>NaN</td>\n",
       "      <td>NaN</td>\n",
       "      <td>NaN</td>\n",
       "      <td>0</td>\n",
       "      <td>0</td>\n",
       "      <td>NaN</td>\n",
       "      <td>1</td>\n",
       "      <td>0.937500</td>\n",
       "      <td>Less than 1 visit a month</td>\n",
       "      <td>None</td>\n",
       "      <td>Less than 1 visit a month</td>\n",
       "      <td>1.00</td>\n",
       "    </tr>\n",
       "    <tr>\n",
       "      <th>1368716</th>\n",
       "      <td>U080749893</td>\n",
       "      <td>AUT</td>\n",
       "      <td>Physician</td>\n",
       "      <td>1.124056e+09</td>\n",
       "      <td>Orthopedic Surgery (ORS)</td>\n",
       "      <td>Orthopedics</td>\n",
       "      <td>1956</td>\n",
       "      <td>1984</td>\n",
       "      <td>M</td>\n",
       "      <td>1</td>\n",
       "      <td>0.206897</td>\n",
       "      <td>Less than 1 visit a month</td>\n",
       "      <td>Less than 1 visit a month</td>\n",
       "      <td>None</td>\n",
       "      <td>1.00</td>\n",
       "    </tr>\n",
       "    <tr>\n",
       "      <th>2113060</th>\n",
       "      <td>U082081235</td>\n",
       "      <td>AUT</td>\n",
       "      <td>NP</td>\n",
       "      <td>1.902921e+09</td>\n",
       "      <td>Pediatrics</td>\n",
       "      <td>Midlevel</td>\n",
       "      <td>0</td>\n",
       "      <td>0</td>\n",
       "      <td>F</td>\n",
       "      <td>1</td>\n",
       "      <td>1.153846</td>\n",
       "      <td>1-10 times per month</td>\n",
       "      <td>None</td>\n",
       "      <td>1-10 times per month</td>\n",
       "      <td>1.00</td>\n",
       "    </tr>\n",
       "    <tr>\n",
       "      <th>1721060</th>\n",
       "      <td>U081106998</td>\n",
       "      <td>AUT</td>\n",
       "      <td>Physician</td>\n",
       "      <td>1.780757e+09</td>\n",
       "      <td>Pediatrics (PD)</td>\n",
       "      <td>Pediatrics</td>\n",
       "      <td>1949</td>\n",
       "      <td>1974</td>\n",
       "      <td>F</td>\n",
       "      <td>1</td>\n",
       "      <td>0.254237</td>\n",
       "      <td>Less than 1 visit a month</td>\n",
       "      <td>Less than 1 visit a month</td>\n",
       "      <td>None</td>\n",
       "      <td>2.00</td>\n",
       "    </tr>\n",
       "    <tr>\n",
       "      <th>2333350</th>\n",
       "      <td>U082316856</td>\n",
       "      <td>AUT</td>\n",
       "      <td>PA</td>\n",
       "      <td>1.215913e+09</td>\n",
       "      <td>Emergency Medicine</td>\n",
       "      <td>Midlevel</td>\n",
       "      <td>1960</td>\n",
       "      <td>0</td>\n",
       "      <td>F</td>\n",
       "      <td>1</td>\n",
       "      <td>0.468750</td>\n",
       "      <td>Less than 1 visit a month</td>\n",
       "      <td>None</td>\n",
       "      <td>Less than 1 visit a month</td>\n",
       "      <td>1.00</td>\n",
       "    </tr>\n",
       "  </tbody>\n",
       "</table>\n",
       "</div>"
      ],
      "text/plain": [
       "              dg_id identity_type professional_designation    npi_number  \\\n",
       "2294723  U082272135           AUT                       PA  1.467709e+09   \n",
       "4580608    X3760100           POI                      POI           NaN   \n",
       "4417208     X361304           POI                      POI           NaN   \n",
       "739106   U080109108           AUT                Physician  1.124244e+09   \n",
       "1402107  U080783854           AUT                Physician  1.093776e+09   \n",
       "4651240    X3823670           POI                      POI           NaN   \n",
       "1368716  U080749893           AUT                Physician  1.124056e+09   \n",
       "2113060  U082081235           AUT                       NP  1.902921e+09   \n",
       "1721060  U081106998           AUT                Physician  1.780757e+09   \n",
       "2333350  U082316856           AUT                       PA  1.215913e+09   \n",
       "\n",
       "                  primary_specialty primary_specialty_group  birth_year  \\\n",
       "2294723                 Unspecified                Midlevel           0   \n",
       "4580608                         NaN                     NaN           0   \n",
       "4417208                         NaN                     NaN           0   \n",
       "739106   Addiction Psychiatry (ADP)              Psychiatry        1978   \n",
       "1402107               Neurology (N)               Neurology        1959   \n",
       "4651240                         NaN                     NaN           0   \n",
       "1368716    Orthopedic Surgery (ORS)             Orthopedics        1956   \n",
       "2113060                  Pediatrics                Midlevel           0   \n",
       "1721060             Pediatrics (PD)              Pediatrics        1949   \n",
       "2333350          Emergency Medicine                Midlevel        1960   \n",
       "\n",
       "         grad_year gender  has_event  sessions_per_month  \\\n",
       "2294723          0      F          1            0.789474   \n",
       "4580608          0    NaN          1            2.926829   \n",
       "4417208          0    NaN          1            0.508475   \n",
       "739106        2002      M          1            0.236220   \n",
       "1402107       1985      M          1            0.720000   \n",
       "4651240          0    NaN          1            0.937500   \n",
       "1368716       1984      M          1            0.206897   \n",
       "2113060          0      F          1            1.153846   \n",
       "1721060       1974      F          1            0.254237   \n",
       "2333350          0      F          1            0.468750   \n",
       "\n",
       "                frequency_category      frequency_category_q1  \\\n",
       "2294723  Less than 1 visit a month                       None   \n",
       "4580608       1-10 times per month                       None   \n",
       "4417208  Less than 1 visit a month  Less than 1 visit a month   \n",
       "739106   Less than 1 visit a month  Less than 1 visit a month   \n",
       "1402107  Less than 1 visit a month  Less than 1 visit a month   \n",
       "4651240  Less than 1 visit a month                       None   \n",
       "1368716  Less than 1 visit a month  Less than 1 visit a month   \n",
       "2113060       1-10 times per month                       None   \n",
       "1721060  Less than 1 visit a month  Less than 1 visit a month   \n",
       "2333350  Less than 1 visit a month                       None   \n",
       "\n",
       "             frequency_category_q2  urls_per_session  \n",
       "2294723  Less than 1 visit a month              1.00  \n",
       "4580608       1-10 times per month              1.80  \n",
       "4417208                       None              1.50  \n",
       "739106                        None              1.00  \n",
       "1402107                       None              1.25  \n",
       "4651240  Less than 1 visit a month              1.00  \n",
       "1368716                       None              1.00  \n",
       "2113060       1-10 times per month              1.00  \n",
       "1721060                       None              2.00  \n",
       "2333350  Less than 1 visit a month              1.00  "
      ]
     },
     "execution_count": 36,
     "metadata": {},
     "output_type": "execute_result"
    }
   ],
   "source": [
    "df[df.has_event==1].sample(10)"
   ]
  },
  {
   "cell_type": "code",
   "execution_count": null,
   "metadata": {
    "collapsed": true
   },
   "outputs": [],
   "source": []
  }
 ],
 "metadata": {
  "kernelspec": {
   "display_name": "Python 2",
   "language": "python",
   "name": "python2"
  },
  "language_info": {
   "codemirror_mode": {
    "name": "ipython",
    "version": 2
   },
   "file_extension": ".py",
   "mimetype": "text/x-python",
   "name": "python",
   "nbconvert_exporter": "python",
   "pygments_lexer": "ipython2",
   "version": "2.7.13"
  }
 },
 "nbformat": 4,
 "nbformat_minor": 0
}
