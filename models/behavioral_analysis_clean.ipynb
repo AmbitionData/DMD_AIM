{
 "cells": [
  {
   "cell_type": "code",
   "execution_count": 1,
   "metadata": {
    "collapsed": false
   },
   "outputs": [],
   "source": [
    "%matplotlib inline\n",
    "from __future__ import division\n",
    "from __future__ import print_function\n",
    "\n",
    "import pandas as pd\n",
    "import matplotlib.pyplot as plt\n",
    "plt.style.use('ggplot')\n",
    "import plotly\n",
    "import utils\n",
    "from collections import Counter\n",
    "from sklearn.feature_extraction.text import CountVectorizer\n",
    "from sklearn.cluster import KMeans, MiniBatchKMeans\n",
    "from sklearn import metrics\n",
    "from time import time"
   ]
  },
  {
   "cell_type": "code",
   "execution_count": 2,
   "metadata": {
    "collapsed": false
   },
   "outputs": [
    {
     "name": "stderr",
     "output_type": "stream",
     "text": [
      "/usr/local/lib/python2.7/site-packages/IPython/core/interactiveshell.py:2821: DtypeWarning:\n",
      "\n",
      "Columns (5,6,7,8,11,12,13,14,17,18) have mixed types. Specify dtype option on import or set low_memory=False.\n",
      "\n",
      "/usr/local/lib/python2.7/site-packages/IPython/core/interactiveshell.py:2821: DtypeWarning:\n",
      "\n",
      "Columns (15) have mixed types. Specify dtype option on import or set low_memory=False.\n",
      "\n"
     ]
    }
   ],
   "source": [
    "visitors, events, devices, url_categories = utils.load_data(event_categories=True)\n",
    "#categorized_events = utils.categorize_events(events, url_categories)"
   ]
  },
  {
   "cell_type": "code",
   "execution_count": 3,
   "metadata": {
    "collapsed": true
   },
   "outputs": [],
   "source": [
    "def define_use_case(event):\n",
    "    if event.site_category == 'Publisher':\n",
    "        return 'Publication Research'\n",
    "    elif event.site_category in ['Reference Tool', 'Medical Education', 'Multi-Channel Marketing']:\n",
    "        return 'Education/Tools'\n",
    "    elif event.site_category in ['Pharma', 'Med Device']:\n",
    "        if event.site_sub_category.strip() in ['Branded HCP', 'Branded Consumer']:\n",
    "            return 'Branded Pharma'\n",
    "        elif event.site_sub_category.strip() in ['Unbranded HCP', 'Unbranded Consumer']:\n",
    "            return 'Unbranded Pharma'\n",
    "    elif event.site_category in ['Professional Social', 'Medical Association', 'Recruiter']:\n",
    "        return 'Professional/Social Media'\n",
    "    else:\n",
    "        return 'Other'"
   ]
  },
  {
   "cell_type": "code",
   "execution_count": null,
   "metadata": {
    "collapsed": true
   },
   "outputs": [],
   "source": [
    "events['use_case'] = events.apply(lambda x: define_use_case(x), axis=1)\n",
    "# this is very slow lol"
   ]
  },
  {
   "cell_type": "code",
   "execution_count": 7,
   "metadata": {
    "collapsed": false
   },
   "outputs": [],
   "source": [
    "use_cases = {\n",
    "    'publication_research' : ['Publisher'],\n",
    "    'education_tools' : ['Reference Tool', 'Medical Education', 'Multi-Channel Marketing'],\n",
    "    'pharma' : ['Pharma', 'Med Device'],\n",
    "    'social_professional' : ['Professional Social', 'Medical Association', 'Recruiter']\n",
    "}\n",
    "\n",
    "for u in use_cases:\n",
    "    events.loc[events.site_category.isin(use_cases[u]), 'use_case'] = u\n",
    "events.loc[events.use_case=='', 'use_case'] = 'other'"
   ]
  },
  {
   "cell_type": "code",
   "execution_count": 3,
   "metadata": {
    "collapsed": true
   },
   "outputs": [],
   "source": [
    "# 3 dimensions likely more useful for cluster analysis\n",
    "\n",
    "publisher_tools = ['Publisher', 'Reference Tool', 'Medical Education', 'Multi-Channel Marketing']\n",
    "pharma = ['Pharma', 'Med Device']\n",
    "social = ['Professional Social', 'Medical Association', 'Recruiter']\n",
    "\n",
    "events['use_case'] = ''\n",
    "events.loc[events.site_category.isin(publisher_tools), 'use_case'] = 'publications_ed_tools'\n",
    "events.loc[events.site_category.isin(pharma), 'use_case'] = 'pharma_device'\n",
    "events.loc[events.site_category.isin(social), 'use_case'] = 'professional_social_media'\n",
    "events.loc[events.use_case=='', 'use_case'] = 'other'"
   ]
  },
  {
   "cell_type": "code",
   "execution_count": 4,
   "metadata": {
    "collapsed": false
   },
   "outputs": [],
   "source": [
    "sessions = events.groupby('session_id').event_id.count().reset_index()\n",
    "sessions = sessions.rename(columns={'event_id':'page_views'})\n",
    "event_sessions = events.drop_duplicates('session_id')\n",
    "event_sessions = pd.merge(event_sessions, sessions, on='session_id')\n",
    "event_sessions = pd.merge(visitors, event_sessions, on='dg_id')\n",
    "\n",
    "# export to tableau (if needed)\n",
    "#tableau_sessions = event_sessions[['timestamp', 'dg_id', 'npi_number', 'primary_specialty', 'site_category', 'site_sub_category', 'disease_category', 'disease', 'pharma_firm', 'use_case', 'page_views']]\n",
    "#tableau_sessions.to_csv('../data/use_case_sessions.csv')"
   ]
  },
  {
   "cell_type": "markdown",
   "metadata": {},
   "source": [
    "### PERSONAS"
   ]
  },
  {
   "cell_type": "code",
   "execution_count": 5,
   "metadata": {
    "collapsed": false
   },
   "outputs": [],
   "source": [
    "personas = event_sessions.groupby('dg_id').use_case.apply(list).reset_index()\n",
    "personas = pd.merge(personas, visitors[['dg_id', 'primary_specialty']], on='dg_id')\n",
    "personas['total_sessions'] = personas.use_case.apply(lambda x: len(x))\n",
    "personas['use_case_counts'] = personas.use_case.apply(lambda x: Counter(x))"
   ]
  },
  {
   "cell_type": "code",
   "execution_count": 6,
   "metadata": {
    "collapsed": false
   },
   "outputs": [],
   "source": [
    "personas['pharma'] = personas.use_case_counts.apply(lambda x: x['pharma_device'])\n",
    "personas['publications'] = personas.use_case_counts.apply(lambda x: x['publications_ed_tools'])\n",
    "personas['social'] = personas.use_case_counts.apply(lambda x: x['professional_social_media'])"
   ]
  },
  {
   "cell_type": "code",
   "execution_count": 7,
   "metadata": {
    "collapsed": true
   },
   "outputs": [],
   "source": [
    "personas['total_3d'] = personas.apply(lambda x: x.pharma + x.publications + x.social, axis=1)\n",
    "# exclude folks with only 'other' category (will address eventually)\n",
    "personas = personas[personas.total_3d > 0]"
   ]
  },
  {
   "cell_type": "code",
   "execution_count": 8,
   "metadata": {
    "collapsed": false
   },
   "outputs": [],
   "source": [
    "# normalize per user\n",
    "personas['pharma_pct'] = personas.apply(lambda x: x.pharma/x.total_3d, axis=1)\n",
    "personas['pubs_pct'] = personas.apply(lambda x: x.publications/x.total_3d, axis=1)\n",
    "personas['social_pct'] = personas.apply(lambda x: x.social/x.total_3d, axis=1)"
   ]
  },
  {
   "cell_type": "markdown",
   "metadata": {},
   "source": [
    "### Cluster without specialty"
   ]
  },
  {
   "cell_type": "code",
   "execution_count": 9,
   "metadata": {
    "collapsed": false
   },
   "outputs": [],
   "source": [
    "df = personas[['pharma_pct', 'pubs_pct', 'social_pct']]\n",
    "#dfx = personas[personas.total_3d>5][['pharma_pct', 'pubs_pct', 'social_pct']]"
   ]
  },
  {
   "cell_type": "code",
   "execution_count": 13,
   "metadata": {
    "collapsed": false
   },
   "outputs": [
    {
     "data": {
      "text/html": [
       "<iframe id=\"igraph\" scrolling=\"no\" style=\"border:none;\" seamless=\"seamless\" src=\"https://plot.ly/~abbystvns/9.embed\" height=\"525px\" width=\"100%\"></iframe>"
      ],
      "text/plain": [
       "<plotly.tools.PlotlyDisplay object>"
      ]
     },
     "execution_count": 13,
     "metadata": {},
     "output_type": "execute_result"
    }
   ],
   "source": [
    "scatter = dict(\n",
    "    mode = \"markers\",\n",
    "    name = \"y\",\n",
    "    type = \"scatter3d\",    \n",
    "    x = dfx['pharma_pct'], y = dfx['pubs_pct'], z = dfx['social_pct'],\n",
    "    marker = dict( size=2, color=\"rgb(23, 190, 207)\" )\n",
    ")\n",
    "\n",
    "layout = dict(\n",
    "    title = '3d point clustering',\n",
    "    scene = dict(\n",
    "        xaxis = dict(title = \"pharma\"),\n",
    "        yaxis = dict(title = \"publications\"),\n",
    "        zaxis = dict(title = \"social\"),\n",
    "    )\n",
    ")\n",
    "fig = dict( data=[scatter], layout=layout )\n",
    "# Use py.iplot() for IPython notebook\n",
    "plotly.plotly.iplot(fig, filename='Use Cases')"
   ]
  },
  {
   "cell_type": "markdown",
   "metadata": {},
   "source": [
    "### Specialties included"
   ]
  },
  {
   "cell_type": "code",
   "execution_count": 19,
   "metadata": {
    "collapsed": false
   },
   "outputs": [],
   "source": [
    "specialty_map = {\n",
    "    'Internal Medicine (IM)': 'pcp',\n",
    "    'Family Medicine (FM)': 'pcp',\n",
    "    'Family Medicine': 'pcp',\n",
    "    'Psychiatry (P)': 'specialist',\n",
    "    'Pediatrics (PD)': 'pcp',\n",
    "    'Cardiovascular Disease (CD)': 'specialist',\n",
    "    'Obstetrics & Gynecology (OBG)': 'pcp',\n",
    "    'Hematology/Oncology (HO)': 'oncology',\n",
    "    'Dermatology (D)': 'specialist',\n",
    "    'Medical Oncology (ON)': 'oncology',\n",
    "    'Endocrinology, Diabetes, Metabolism (END)': 'specialist',\n",
    "    'Neurology (N)':'specialist',\n",
    "    'Emergency Medicine (EM)': 'pcp',\n",
    "    'Anesthesiology (AN)': 'specialist',\n",
    "    'General Surgery (GS)': 'specialist',\n",
    "    'General Practice (GP)': 'pcp'\n",
    "}\n",
    "personas['specialty_group'] = personas.primary_specialty.apply(lambda x: specialty_map[x] if x in specialty_map else '')\n",
    "dfs = personas[personas.specialty_group<>''][['specialty_group', 'pharma_pct', 'pubs_pct', 'social_pct']]"
   ]
  },
  {
   "cell_type": "code",
   "execution_count": 20,
   "metadata": {
    "collapsed": false
   },
   "outputs": [
    {
     "name": "stdout",
     "output_type": "stream",
     "text": [
      "The draw time for this plot will be slow for clients without much RAM.\n"
     ]
    },
    {
     "name": "stderr",
     "output_type": "stream",
     "text": [
      "/usr/local/lib/python2.7/site-packages/plotly/api/v1/clientresp.py:40: UserWarning:\n",
      "\n",
      "Estimated Draw Time Slow\n",
      "\n"
     ]
    },
    {
     "data": {
      "text/html": [
       "<iframe id=\"igraph\" scrolling=\"no\" style=\"border:none;\" seamless=\"seamless\" src=\"https://plot.ly/~abbystvns/11.embed\" height=\"550px\" width=\"800px\"></iframe>"
      ],
      "text/plain": [
       "<plotly.tools.PlotlyDisplay object>"
      ]
     },
     "execution_count": 20,
     "metadata": {},
     "output_type": "execute_result"
    }
   ],
   "source": [
    "# Learn about API authentication here: https://plot.ly/pandas/getting-started\n",
    "# Find your api_key here: https://plot.ly/settings/api\n",
    "\n",
    "import plotly.plotly as py\n",
    "import plotly.graph_objs as go\n",
    "import pandas as pd\n",
    "\n",
    "data = []\n",
    "clusters = []\n",
    "colors = ['rgb(228,26,28)','rgb(55,126,184)','rgb(77,175,74)']\n",
    "\n",
    "for i in range(len(dfs['specialty_group'].unique())):\n",
    "    name = dfs['specialty_group'].unique()[i]\n",
    "    color = colors[i]\n",
    "    x = dfs[ dfs['specialty_group'] == name ]['pharma_pct']\n",
    "    y = dfs[ dfs['specialty_group'] == name ]['pubs_pct']\n",
    "    z = dfs[ dfs['specialty_group'] == name ]['social_pct']\n",
    "    \n",
    "    trace = dict(\n",
    "        name = name,\n",
    "        x = x, y = y, z = z,\n",
    "        type = \"scatter3d\",    \n",
    "        mode = 'markers',\n",
    "        marker = dict( size=3, color=color, line=dict(width=0) ) )\n",
    "    data.append( trace )\n",
    "\n",
    "layout = dict(\n",
    "    width=800,\n",
    "    height=550,\n",
    "    autosize=False,\n",
    "    title='Sessions by Specialty',\n",
    "    scene=dict(\n",
    "        xaxis=dict(\n",
    "            gridcolor='rgb(255, 255, 255)',\n",
    "            zerolinecolor='rgb(255, 255, 255)',\n",
    "            showbackground=True,\n",
    "            backgroundcolor='rgb(230, 230,230)',\n",
    "            title='pharma'\n",
    "        ),\n",
    "        yaxis=dict(\n",
    "            gridcolor='rgb(255, 255, 255)',\n",
    "            zerolinecolor='rgb(255, 255, 255)',\n",
    "            showbackground=True,\n",
    "            backgroundcolor='rgb(230, 230,230)',\n",
    "            title='pubs'\n",
    "        ),\n",
    "        zaxis=dict(\n",
    "            gridcolor='rgb(255, 255, 255)',\n",
    "            zerolinecolor='rgb(255, 255, 255)',\n",
    "            showbackground=True,\n",
    "            backgroundcolor='rgb(230, 230,230)',\n",
    "            title='social'\n",
    "        ),\n",
    "        aspectratio = dict( x=1, y=1, z=0.7 ),\n",
    "        aspectmode = 'manual'        \n",
    "    ),\n",
    ")\n",
    "\n",
    "\n",
    "fig = dict(data=data, layout=layout)\n",
    "\n",
    "# IPython notebook\n",
    "py.iplot(fig, filename='pandas-3d-iris', validate=False)\n",
    "\n",
    "#url = py.plot(fig, filename='pandas-3d-iris', validate=False)"
   ]
  }
 ],
 "metadata": {
  "kernelspec": {
   "display_name": "Python 2",
   "language": "python",
   "name": "python2"
  },
  "language_info": {
   "codemirror_mode": {
    "name": "ipython",
    "version": 2
   },
   "file_extension": ".py",
   "mimetype": "text/x-python",
   "name": "python",
   "nbconvert_exporter": "python",
   "pygments_lexer": "ipython2",
   "version": "2.7.13"
  }
 },
 "nbformat": 4,
 "nbformat_minor": 0
}
