{
 "cells": [
  {
   "cell_type": "code",
   "execution_count": 2,
   "metadata": {
    "collapsed": true
   },
   "outputs": [],
   "source": [
    "%matplotlib inline\n",
    "from __future__ import division\n",
    "\n",
    "import pandas as pd\n",
    "import matplotlib.pyplot as plt\n",
    "import utils"
   ]
  },
  {
   "cell_type": "code",
   "execution_count": 3,
   "metadata": {
    "collapsed": false
   },
   "outputs": [
    {
     "name": "stderr",
     "output_type": "stream",
     "text": [
      "/usr/local/lib/python2.7/site-packages/IPython/core/interactiveshell.py:2821: DtypeWarning: Columns (5,6,7,8,11,12,13,14,17,18) have mixed types. Specify dtype option on import or set low_memory=False.\n",
      "  if self.run_code(code, result):\n",
      "/usr/local/lib/python2.7/site-packages/IPython/core/interactiveshell.py:2821: DtypeWarning: Columns (15) have mixed types. Specify dtype option on import or set low_memory=False.\n",
      "  if self.run_code(code, result):\n"
     ]
    }
   ],
   "source": [
    "visitors, events, devices, url_categories = utils.load_data(event_categories=True)"
   ]
  },
  {
   "cell_type": "code",
   "execution_count": 3,
   "metadata": {
    "collapsed": false
   },
   "outputs": [],
   "source": [
    "sample_npis = list(visitors[(visitors.professional_designation=='Physician')\\\n",
    "                       &(~visitors.npi_number.isnull())\\\n",
    "                       &(visitors.exclude==0)].npi_number.sample(10000))"
   ]
  },
  {
   "cell_type": "code",
   "execution_count": 31,
   "metadata": {
    "collapsed": true
   },
   "outputs": [],
   "source": [
    "def categorize_frequency(n):\n",
    "    if n < 1:\n",
    "        return 'Less than 1 visit a month' \n",
    "    elif n <= 10:\n",
    "        return '1-10 times per month'\n",
    "    else:\n",
    "        return 'More than 10x per month'\n",
    "    \n",
    "def npi_level_summary_statistics(output_file, npis=None):\n",
    "    # if given a list of users, pull in those. otherwise, use all available data\n",
    "    if npis:\n",
    "        v = visitors[visitors.npi_number.isin(npis)]\n",
    "    else:\n",
    "        v = visitors[visitors.exclude==0]\n",
    "    ev = pd.merge(v, events, on='dg_id')\n",
    "    if len(ev) == 0:\n",
    "        print 'target list has no web activity'\n",
    "        return\n",
    "    # check which users have web activity\n",
    "    event_dgids = set(ev.dg_id)\n",
    "    v['has_event'] = v.dg_id.apply(lambda x: 1 if x in event_dgids else 0)\n",
    "    \n",
    "    # check frequency of web activity (timeframe denominator starts with the earliest date the user has activity)\n",
    "    max_dt = max(events.timestamp).date()\n",
    "    ev['dt'] = ev.timestamp.apply(lambda x: x.date())\n",
    "    freq = ev.drop_duplicates(subset=['dg_id', 'dt']).groupby(['dg_id']).dt.agg(['min', 'max', 'count']).reset_index()\n",
    "    freq['sessions_per_month'] = freq.apply(lambda x: x['count']/(max(1, (max_dt-x['min']).days)/30), axis=1)\n",
    "    freq['frequency_category'] = freq.sessions_per_month.apply(lambda x: categorize_frequency(x))\n",
    "    v = pd.merge(v, freq[['dg_id', 'sessions_per_month', 'frequency_category']], how='left')\n",
    "    \n",
    "    # grab avg number of urls per session\n",
    "    urls_per_session = ev.groupby(['dg_id', 'session_id']).url.nunique().reset_index()\\\n",
    "        .groupby('dg_id').url.mean().reset_index()\n",
    "    urls_per_session = urls_per_session.rename(columns={'url':'urls_per_session'})\n",
    "    v = pd.merge(v, urls_per_session, on='dg_id', how='left')\n",
    "    \n",
    "    tableau_columns = [\n",
    "        'dg_id', \n",
    "        'identity_type', \n",
    "        'professional_designation', \n",
    "        'npi_number', \n",
    "        'primary_specialty', \n",
    "        'primary_specialty_group', \n",
    "        'birth_year', \n",
    "        'grad_year', \n",
    "        'gender', \n",
    "        'has_event', \n",
    "        'sessions_per_month', \n",
    "        'frequency_category', \n",
    "        'urls_per_session' \n",
    "    ]\n",
    "    \n",
    "    v[tableau_columns].to_csv(output_file)"
   ]
  },
  {
   "cell_type": "code",
   "execution_count": 24,
   "metadata": {
    "collapsed": false
   },
   "outputs": [],
   "source": [
    "npis = list(v[~v.npi_number.isnull()].npi_number.sample(5))"
   ]
  },
  {
   "cell_type": "code",
   "execution_count": 32,
   "metadata": {
    "collapsed": false
   },
   "outputs": [
    {
     "name": "stdout",
     "output_type": "stream",
     "text": [
      "target list has no web activity\n"
     ]
    }
   ],
   "source": [
    "npi_level_summary_statistics('../data/testest.csv', npis=npis)"
   ]
  },
  {
   "cell_type": "code",
   "execution_count": 41,
   "metadata": {
    "collapsed": false
   },
   "outputs": [],
   "source": [
    "event_npis = list(visitors[(visitors.dg_id.isin(events.dg_id.sample(5)))&(~visitors.npi_number.isnull())].npi_number)"
   ]
  },
  {
   "cell_type": "code",
   "execution_count": 43,
   "metadata": {
    "collapsed": false
   },
   "outputs": [
    {
     "name": "stderr",
     "output_type": "stream",
     "text": [
      "/usr/local/lib/python2.7/site-packages/ipykernel/__main__.py:21: SettingWithCopyWarning: \n",
      "A value is trying to be set on a copy of a slice from a DataFrame.\n",
      "Try using .loc[row_indexer,col_indexer] = value instead\n",
      "\n",
      "See the caveats in the documentation: http://pandas.pydata.org/pandas-docs/stable/indexing.html#indexing-view-versus-copy\n"
     ]
    }
   ],
   "source": [
    "npi_level_summary_statistics('../data/testest.csv', npis=event_npis)"
   ]
  },
  {
   "cell_type": "code",
   "execution_count": null,
   "metadata": {
    "collapsed": true
   },
   "outputs": [],
   "source": []
  }
 ],
 "metadata": {
  "kernelspec": {
   "display_name": "Python 2",
   "language": "python",
   "name": "python2"
  },
  "language_info": {
   "codemirror_mode": {
    "name": "ipython",
    "version": 2
   },
   "file_extension": ".py",
   "mimetype": "text/x-python",
   "name": "python",
   "nbconvert_exporter": "python",
   "pygments_lexer": "ipython2",
   "version": "2.7.13"
  }
 },
 "nbformat": 4,
 "nbformat_minor": 0
}
