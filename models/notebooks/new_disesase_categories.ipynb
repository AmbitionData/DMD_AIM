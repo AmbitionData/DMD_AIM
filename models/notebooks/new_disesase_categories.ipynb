{
 "cells": [
  {
   "cell_type": "code",
   "execution_count": 2,
   "metadata": {
    "collapsed": false
   },
   "outputs": [],
   "source": [
    "import pandas as pd"
   ]
  },
  {
   "cell_type": "code",
   "execution_count": 3,
   "metadata": {
    "collapsed": false
   },
   "outputs": [],
   "source": [
    "# look at updated mappings\n",
    "url_categories = pd.read_csv('../data/url_categories_updated_8_11.csv')"
   ]
  },
  {
   "cell_type": "code",
   "execution_count": 4,
   "metadata": {
    "collapsed": false
   },
   "outputs": [],
   "source": [
    "url_categories = url_categories[url_categories.columns[:-1]]\n",
    "url_categories = url_categories.dropna(subset=['Site'])"
   ]
  },
  {
   "cell_type": "code",
   "execution_count": 11,
   "metadata": {
    "collapsed": false
   },
   "outputs": [],
   "source": [
    "url_categories.columns = ['dt_first_view', 'url', 'site_category', 'site_sub_category', 'disease_category', 'disease', 'sub_disease']"
   ]
  },
  {
   "cell_type": "code",
   "execution_count": 12,
   "metadata": {
    "collapsed": false
   },
   "outputs": [
    {
     "data": {
      "text/html": [
       "<div>\n",
       "<style>\n",
       "    .dataframe thead tr:only-child th {\n",
       "        text-align: right;\n",
       "    }\n",
       "\n",
       "    .dataframe thead th {\n",
       "        text-align: left;\n",
       "    }\n",
       "\n",
       "    .dataframe tbody tr th {\n",
       "        vertical-align: top;\n",
       "    }\n",
       "</style>\n",
       "<table border=\"1\" class=\"dataframe\">\n",
       "  <thead>\n",
       "    <tr style=\"text-align: right;\">\n",
       "      <th></th>\n",
       "      <th>dt_first_view</th>\n",
       "      <th>url</th>\n",
       "      <th>site_category</th>\n",
       "      <th>site_sub_category</th>\n",
       "      <th>disease_category</th>\n",
       "      <th>disease</th>\n",
       "      <th>sub_disease</th>\n",
       "    </tr>\n",
       "  </thead>\n",
       "  <tbody>\n",
       "    <tr>\n",
       "      <th>0</th>\n",
       "      <td>04/13/17</td>\n",
       "      <td>http://www.paradigmspine.com/content/are-you-a...</td>\n",
       "      <td>Med Device</td>\n",
       "      <td>Branded Consumer</td>\n",
       "      <td>Surgery</td>\n",
       "      <td>NaN</td>\n",
       "      <td>NaN</td>\n",
       "    </tr>\n",
       "    <tr>\n",
       "      <th>1</th>\n",
       "      <td>04/13/17</td>\n",
       "      <td>http://www.paradigmspine.com/content/back-spin...</td>\n",
       "      <td>Med Device</td>\n",
       "      <td>Branded Consumer</td>\n",
       "      <td>Surgery</td>\n",
       "      <td>NaN</td>\n",
       "      <td>NaN</td>\n",
       "    </tr>\n",
       "    <tr>\n",
       "      <th>2</th>\n",
       "      <td>04/13/17</td>\n",
       "      <td>http://www.paradigmspine.com/content/coflex-study</td>\n",
       "      <td>Med Device</td>\n",
       "      <td>Branded Consumer</td>\n",
       "      <td>Surgery</td>\n",
       "      <td>NaN</td>\n",
       "      <td>NaN</td>\n",
       "    </tr>\n",
       "    <tr>\n",
       "      <th>3</th>\n",
       "      <td>04/13/17</td>\n",
       "      <td>http://www.paradigmspine.com/content/degenerat...</td>\n",
       "      <td>Med Device</td>\n",
       "      <td>Branded Consumer</td>\n",
       "      <td>Surgery</td>\n",
       "      <td>NaN</td>\n",
       "      <td>NaN</td>\n",
       "    </tr>\n",
       "    <tr>\n",
       "      <th>4</th>\n",
       "      <td>04/13/17</td>\n",
       "      <td>http://www.paradigmspine.com/content/degenerat...</td>\n",
       "      <td>Med Device</td>\n",
       "      <td>Branded Consumer</td>\n",
       "      <td>Surgery</td>\n",
       "      <td>NaN</td>\n",
       "      <td>NaN</td>\n",
       "    </tr>\n",
       "  </tbody>\n",
       "</table>\n",
       "</div>"
      ],
      "text/plain": [
       "  dt_first_view                                                url  \\\n",
       "0      04/13/17  http://www.paradigmspine.com/content/are-you-a...   \n",
       "1      04/13/17  http://www.paradigmspine.com/content/back-spin...   \n",
       "2      04/13/17  http://www.paradigmspine.com/content/coflex-study   \n",
       "3      04/13/17  http://www.paradigmspine.com/content/degenerat...   \n",
       "4      04/13/17  http://www.paradigmspine.com/content/degenerat...   \n",
       "\n",
       "  site_category site_sub_category disease_category disease sub_disease  \n",
       "0    Med Device  Branded Consumer          Surgery     NaN         NaN  \n",
       "1    Med Device  Branded Consumer          Surgery     NaN         NaN  \n",
       "2    Med Device  Branded Consumer          Surgery     NaN         NaN  \n",
       "3    Med Device  Branded Consumer          Surgery     NaN         NaN  \n",
       "4    Med Device  Branded Consumer          Surgery     NaN         NaN  "
      ]
     },
     "execution_count": 12,
     "metadata": {},
     "output_type": "execute_result"
    }
   ],
   "source": [
    "url_categories.head()"
   ]
  },
  {
   "cell_type": "code",
   "execution_count": 13,
   "metadata": {
    "collapsed": true
   },
   "outputs": [],
   "source": [
    "# merge with existing mappings\n",
    "\n",
    "old_urls = pd.read_csv('../data/disease_mapping_cbg_newURLs.csv')"
   ]
  },
  {
   "cell_type": "code",
   "execution_count": 14,
   "metadata": {
    "collapsed": false
   },
   "outputs": [
    {
     "data": {
      "text/html": [
       "<div>\n",
       "<style>\n",
       "    .dataframe thead tr:only-child th {\n",
       "        text-align: right;\n",
       "    }\n",
       "\n",
       "    .dataframe thead th {\n",
       "        text-align: left;\n",
       "    }\n",
       "\n",
       "    .dataframe tbody tr th {\n",
       "        vertical-align: top;\n",
       "    }\n",
       "</style>\n",
       "<table border=\"1\" class=\"dataframe\">\n",
       "  <thead>\n",
       "    <tr style=\"text-align: right;\">\n",
       "      <th></th>\n",
       "      <th>Site</th>\n",
       "      <th>Site Category</th>\n",
       "      <th>Site Sub Category</th>\n",
       "      <th>Disease Category\r",
       "(Acceptabl Values)</th>\n",
       "      <th>Disease</th>\n",
       "      <th>Pharma firm</th>\n",
       "    </tr>\n",
       "  </thead>\n",
       "  <tbody>\n",
       "    <tr>\n",
       "      <th>0</th>\n",
       "      <td>http://www.paradigmspine.com/content/are-you-a...</td>\n",
       "      <td>Med Device</td>\n",
       "      <td>Branded Consumer</td>\n",
       "      <td>Surgery</td>\n",
       "      <td>NaN</td>\n",
       "      <td>Paradigm Spine</td>\n",
       "    </tr>\n",
       "    <tr>\n",
       "      <th>1</th>\n",
       "      <td>http://www.paradigmspine.com/content/back-spin...</td>\n",
       "      <td>Med Device</td>\n",
       "      <td>Branded Consumer</td>\n",
       "      <td>Surgery</td>\n",
       "      <td>NaN</td>\n",
       "      <td>Paradigm Spine</td>\n",
       "    </tr>\n",
       "    <tr>\n",
       "      <th>2</th>\n",
       "      <td>http://www.paradigmspine.com/content/coflex-study</td>\n",
       "      <td>Med Device</td>\n",
       "      <td>Branded Consumer</td>\n",
       "      <td>Surgery</td>\n",
       "      <td>NaN</td>\n",
       "      <td>Paradigm Spine</td>\n",
       "    </tr>\n",
       "    <tr>\n",
       "      <th>3</th>\n",
       "      <td>http://www.paradigmspine.com/content/degenerat...</td>\n",
       "      <td>Med Device</td>\n",
       "      <td>Branded Consumer</td>\n",
       "      <td>Surgery</td>\n",
       "      <td>NaN</td>\n",
       "      <td>Paradigm Spine</td>\n",
       "    </tr>\n",
       "    <tr>\n",
       "      <th>4</th>\n",
       "      <td>http://www.paradigmspine.com/content/degenerat...</td>\n",
       "      <td>Med Device</td>\n",
       "      <td>Branded Consumer</td>\n",
       "      <td>Surgery</td>\n",
       "      <td>NaN</td>\n",
       "      <td>Paradigm Spine</td>\n",
       "    </tr>\n",
       "  </tbody>\n",
       "</table>\n",
       "</div>"
      ],
      "text/plain": [
       "                                                Site Site Category  \\\n",
       "0  http://www.paradigmspine.com/content/are-you-a...    Med Device   \n",
       "1  http://www.paradigmspine.com/content/back-spin...    Med Device   \n",
       "2  http://www.paradigmspine.com/content/coflex-study    Med Device   \n",
       "3  http://www.paradigmspine.com/content/degenerat...    Med Device   \n",
       "4  http://www.paradigmspine.com/content/degenerat...    Med Device   \n",
       "\n",
       "  Site Sub Category Disease Category\\r(Acceptabl Values)  Disease  \\\n",
       "0  Branded Consumer                               Surgery     NaN   \n",
       "1  Branded Consumer                               Surgery     NaN   \n",
       "2  Branded Consumer                               Surgery     NaN   \n",
       "3  Branded Consumer                               Surgery     NaN   \n",
       "4  Branded Consumer                               Surgery     NaN   \n",
       "\n",
       "      Pharma firm  \n",
       "0  Paradigm Spine  \n",
       "1  Paradigm Spine  \n",
       "2  Paradigm Spine  \n",
       "3  Paradigm Spine  \n",
       "4  Paradigm Spine  "
      ]
     },
     "execution_count": 14,
     "metadata": {},
     "output_type": "execute_result"
    }
   ],
   "source": [
    "old_urls.head()"
   ]
  },
  {
   "cell_type": "code",
   "execution_count": 15,
   "metadata": {
    "collapsed": true
   },
   "outputs": [],
   "source": [
    "old_urls.columns = ['url', 'site_category', 'site_sub_category', 'disease_category', 'disease', 'pharma_firm']\n",
    "old_urls = old_urls.dropna(subset=['url'])"
   ]
  },
  {
   "cell_type": "code",
   "execution_count": 16,
   "metadata": {
    "collapsed": false
   },
   "outputs": [],
   "source": [
    "new_urls = pd.merge(url_categories, old_urls[['url', 'pharma_firm']], on='url', how='left', suffixes=['1', '2'])"
   ]
  },
  {
   "cell_type": "code",
   "execution_count": 17,
   "metadata": {
    "collapsed": false
   },
   "outputs": [
    {
     "data": {
      "text/html": [
       "<div>\n",
       "<style>\n",
       "    .dataframe thead tr:only-child th {\n",
       "        text-align: right;\n",
       "    }\n",
       "\n",
       "    .dataframe thead th {\n",
       "        text-align: left;\n",
       "    }\n",
       "\n",
       "    .dataframe tbody tr th {\n",
       "        vertical-align: top;\n",
       "    }\n",
       "</style>\n",
       "<table border=\"1\" class=\"dataframe\">\n",
       "  <thead>\n",
       "    <tr style=\"text-align: right;\">\n",
       "      <th></th>\n",
       "      <th>dt_first_view</th>\n",
       "      <th>url</th>\n",
       "      <th>site_category</th>\n",
       "      <th>site_sub_category</th>\n",
       "      <th>disease_category</th>\n",
       "      <th>disease</th>\n",
       "      <th>sub_disease</th>\n",
       "      <th>pharma_firm</th>\n",
       "    </tr>\n",
       "  </thead>\n",
       "  <tbody>\n",
       "    <tr>\n",
       "      <th>0</th>\n",
       "      <td>04/13/17</td>\n",
       "      <td>http://www.paradigmspine.com/content/are-you-a...</td>\n",
       "      <td>Med Device</td>\n",
       "      <td>Branded Consumer</td>\n",
       "      <td>Surgery</td>\n",
       "      <td>NaN</td>\n",
       "      <td>NaN</td>\n",
       "      <td>Paradigm Spine</td>\n",
       "    </tr>\n",
       "    <tr>\n",
       "      <th>1</th>\n",
       "      <td>04/13/17</td>\n",
       "      <td>http://www.paradigmspine.com/content/back-spin...</td>\n",
       "      <td>Med Device</td>\n",
       "      <td>Branded Consumer</td>\n",
       "      <td>Surgery</td>\n",
       "      <td>NaN</td>\n",
       "      <td>NaN</td>\n",
       "      <td>Paradigm Spine</td>\n",
       "    </tr>\n",
       "    <tr>\n",
       "      <th>2</th>\n",
       "      <td>04/13/17</td>\n",
       "      <td>http://www.paradigmspine.com/content/coflex-study</td>\n",
       "      <td>Med Device</td>\n",
       "      <td>Branded Consumer</td>\n",
       "      <td>Surgery</td>\n",
       "      <td>NaN</td>\n",
       "      <td>NaN</td>\n",
       "      <td>Paradigm Spine</td>\n",
       "    </tr>\n",
       "    <tr>\n",
       "      <th>3</th>\n",
       "      <td>04/13/17</td>\n",
       "      <td>http://www.paradigmspine.com/content/degenerat...</td>\n",
       "      <td>Med Device</td>\n",
       "      <td>Branded Consumer</td>\n",
       "      <td>Surgery</td>\n",
       "      <td>NaN</td>\n",
       "      <td>NaN</td>\n",
       "      <td>Paradigm Spine</td>\n",
       "    </tr>\n",
       "    <tr>\n",
       "      <th>4</th>\n",
       "      <td>04/13/17</td>\n",
       "      <td>http://www.paradigmspine.com/content/degenerat...</td>\n",
       "      <td>Med Device</td>\n",
       "      <td>Branded Consumer</td>\n",
       "      <td>Surgery</td>\n",
       "      <td>NaN</td>\n",
       "      <td>NaN</td>\n",
       "      <td>Paradigm Spine</td>\n",
       "    </tr>\n",
       "  </tbody>\n",
       "</table>\n",
       "</div>"
      ],
      "text/plain": [
       "  dt_first_view                                                url  \\\n",
       "0      04/13/17  http://www.paradigmspine.com/content/are-you-a...   \n",
       "1      04/13/17  http://www.paradigmspine.com/content/back-spin...   \n",
       "2      04/13/17  http://www.paradigmspine.com/content/coflex-study   \n",
       "3      04/13/17  http://www.paradigmspine.com/content/degenerat...   \n",
       "4      04/13/17  http://www.paradigmspine.com/content/degenerat...   \n",
       "\n",
       "  site_category site_sub_category disease_category disease sub_disease  \\\n",
       "0    Med Device  Branded Consumer          Surgery     NaN         NaN   \n",
       "1    Med Device  Branded Consumer          Surgery     NaN         NaN   \n",
       "2    Med Device  Branded Consumer          Surgery     NaN         NaN   \n",
       "3    Med Device  Branded Consumer          Surgery     NaN         NaN   \n",
       "4    Med Device  Branded Consumer          Surgery     NaN         NaN   \n",
       "\n",
       "      pharma_firm  \n",
       "0  Paradigm Spine  \n",
       "1  Paradigm Spine  \n",
       "2  Paradigm Spine  \n",
       "3  Paradigm Spine  \n",
       "4  Paradigm Spine  "
      ]
     },
     "execution_count": 17,
     "metadata": {},
     "output_type": "execute_result"
    }
   ],
   "source": [
    "new_urls.head()\n",
    "# hm slight mismatch need to look into this"
   ]
  },
  {
   "cell_type": "code",
   "execution_count": 69,
   "metadata": {
    "collapsed": false
   },
   "outputs": [],
   "source": [
    "new_urls.to_csv('../data/url_categories_merged_20170814.csv', index=False)"
   ]
  },
  {
   "cell_type": "code",
   "execution_count": 70,
   "metadata": {
    "collapsed": true
   },
   "outputs": [],
   "source": [
    "urls = pd.read_csv('../data/url_categories_merged_20170814.csv')"
   ]
  },
  {
   "cell_type": "code",
   "execution_count": 20,
   "metadata": {
    "collapsed": false
   },
   "outputs": [
    {
     "data": {
      "text/html": [
       "<div>\n",
       "<style>\n",
       "    .dataframe thead tr:only-child th {\n",
       "        text-align: right;\n",
       "    }\n",
       "\n",
       "    .dataframe thead th {\n",
       "        text-align: left;\n",
       "    }\n",
       "\n",
       "    .dataframe tbody tr th {\n",
       "        vertical-align: top;\n",
       "    }\n",
       "</style>\n",
       "<table border=\"1\" class=\"dataframe\">\n",
       "  <thead>\n",
       "    <tr style=\"text-align: right;\">\n",
       "      <th></th>\n",
       "      <th>dt_first_view</th>\n",
       "      <th>url</th>\n",
       "      <th>site_category</th>\n",
       "      <th>site_sub_category</th>\n",
       "      <th>disease_category</th>\n",
       "      <th>disease</th>\n",
       "      <th>sub_disease</th>\n",
       "      <th>pharma_firm</th>\n",
       "    </tr>\n",
       "  </thead>\n",
       "  <tbody>\n",
       "    <tr>\n",
       "      <th>84</th>\n",
       "      <td>12/19/16</td>\n",
       "      <td>www.zepatier.com</td>\n",
       "      <td>Pharma</td>\n",
       "      <td>Branded Consumer</td>\n",
       "      <td>Infectious Disease</td>\n",
       "      <td>Hepatitis C</td>\n",
       "      <td>chronic hepatitis C virus (HCV)</td>\n",
       "      <td>Merck</td>\n",
       "    </tr>\n",
       "  </tbody>\n",
       "</table>\n",
       "</div>"
      ],
      "text/plain": [
       "   dt_first_view               url site_category site_sub_category  \\\n",
       "84      12/19/16  www.zepatier.com        Pharma  Branded Consumer   \n",
       "\n",
       "      disease_category      disease                      sub_disease  \\\n",
       "84  Infectious Disease  Hepatitis C  chronic hepatitis C virus (HCV)   \n",
       "\n",
       "   pharma_firm  \n",
       "84       Merck  "
      ]
     },
     "execution_count": 20,
     "metadata": {},
     "output_type": "execute_result"
    }
   ],
   "source": [
    "new_urls[new_urls.url=='www.zepatier.com']"
   ]
  },
  {
   "cell_type": "code",
   "execution_count": 21,
   "metadata": {
    "collapsed": true
   },
   "outputs": [],
   "source": [
    "df = pd.read_csv('../data/url_categories_merged_20170814.csv')"
   ]
  },
  {
   "cell_type": "code",
   "execution_count": 22,
   "metadata": {
    "collapsed": false
   },
   "outputs": [
    {
     "data": {
      "text/html": [
       "<div>\n",
       "<style>\n",
       "    .dataframe thead tr:only-child th {\n",
       "        text-align: right;\n",
       "    }\n",
       "\n",
       "    .dataframe thead th {\n",
       "        text-align: left;\n",
       "    }\n",
       "\n",
       "    .dataframe tbody tr th {\n",
       "        vertical-align: top;\n",
       "    }\n",
       "</style>\n",
       "<table border=\"1\" class=\"dataframe\">\n",
       "  <thead>\n",
       "    <tr style=\"text-align: right;\">\n",
       "      <th></th>\n",
       "      <th>dt_first_view</th>\n",
       "      <th>url</th>\n",
       "      <th>site_category</th>\n",
       "      <th>site_sub_category</th>\n",
       "      <th>disease_category</th>\n",
       "      <th>disease</th>\n",
       "      <th>sub_disease</th>\n",
       "      <th>pharma_firm</th>\n",
       "    </tr>\n",
       "  </thead>\n",
       "  <tbody>\n",
       "    <tr>\n",
       "      <th>84</th>\n",
       "      <td>12/19/16</td>\n",
       "      <td>www.zepatier.com</td>\n",
       "      <td>Pharma</td>\n",
       "      <td>Branded Consumer</td>\n",
       "      <td>Infectious Disease</td>\n",
       "      <td>Hepatitis C</td>\n",
       "      <td>chronic hepatitis C virus (HCV)</td>\n",
       "      <td>Merck</td>\n",
       "    </tr>\n",
       "  </tbody>\n",
       "</table>\n",
       "</div>"
      ],
      "text/plain": [
       "   dt_first_view               url site_category site_sub_category  \\\n",
       "84      12/19/16  www.zepatier.com        Pharma  Branded Consumer   \n",
       "\n",
       "      disease_category      disease                      sub_disease  \\\n",
       "84  Infectious Disease  Hepatitis C  chronic hepatitis C virus (HCV)   \n",
       "\n",
       "   pharma_firm  \n",
       "84       Merck  "
      ]
     },
     "execution_count": 22,
     "metadata": {},
     "output_type": "execute_result"
    }
   ],
   "source": [
    "df[df.url=='www.zepatier.com']"
   ]
  },
  {
   "cell_type": "code",
   "execution_count": null,
   "metadata": {
    "collapsed": true
   },
   "outputs": [],
   "source": []
  }
 ],
 "metadata": {
  "kernelspec": {
   "display_name": "Python 2",
   "language": "python",
   "name": "python2"
  },
  "language_info": {
   "codemirror_mode": {
    "name": "ipython",
    "version": 2
   },
   "file_extension": ".py",
   "mimetype": "text/x-python",
   "name": "python",
   "nbconvert_exporter": "python",
   "pygments_lexer": "ipython2",
   "version": "2.7.13"
  }
 },
 "nbformat": 4,
 "nbformat_minor": 2
}
