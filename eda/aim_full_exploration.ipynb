{
 "cells": [
  {
   "cell_type": "code",
   "execution_count": 1,
   "metadata": {
    "collapsed": true
   },
   "outputs": [],
   "source": [
    "%matplotlib inline\n",
    "from __future__ import division\n",
    "\n",
    "import pandas as pd\n",
    "import seaborn as sns\n",
    "import matplotlib.pyplot as plt"
   ]
  },
  {
   "cell_type": "code",
   "execution_count": 2,
   "metadata": {
    "collapsed": false
   },
   "outputs": [
    {
     "name": "stderr",
     "output_type": "stream",
     "text": [
      "/usr/local/lib/python2.7/site-packages/IPython/core/interactiveshell.py:2717: DtypeWarning: Columns (4,5,6,7,10,11,12,13,16,17) have mixed types. Specify dtype option on import or set low_memory=False.\n",
      "  interactivity=interactivity, compiler=compiler, result=result)\n"
     ]
    }
   ],
   "source": [
    "visitors = pd.read_csv('../data/aim_full_7_18_17/visitors.zip')\n",
    "visitors.columns = [x.strip() for x in visitors.columns]\n",
    "\n",
    "events = pd.read_csv('../data/aim_full_7_18_17/web_events_q1_2017.csv', parse_dates=['timestamp'])\n",
    "events = events.append(pd.read_csv('../data/aim_full_7_18_17/web_events_q2_2017.csv', parse_dates=['timestamp']))\n",
    "\n",
    "devices = pd.read_csv('../data/aim_full_7_18_17/machine_fingerprints.csv')"
   ]
  },
  {
   "cell_type": "code",
   "execution_count": 3,
   "metadata": {
    "collapsed": false
   },
   "outputs": [
    {
     "data": {
      "text/html": [
       "<div>\n",
       "<style>\n",
       "    .dataframe thead tr:only-child th {\n",
       "        text-align: right;\n",
       "    }\n",
       "\n",
       "    .dataframe thead th {\n",
       "        text-align: left;\n",
       "    }\n",
       "\n",
       "    .dataframe tbody tr th {\n",
       "        vertical-align: top;\n",
       "    }\n",
       "</style>\n",
       "<table border=\"1\" class=\"dataframe\">\n",
       "  <thead>\n",
       "    <tr style=\"text-align: right;\">\n",
       "      <th></th>\n",
       "      <th>dg_id</th>\n",
       "      <th>identity_type</th>\n",
       "      <th>professional_designation</th>\n",
       "      <th>npi_number</th>\n",
       "      <th>primary_specialty</th>\n",
       "      <th>primary_specialty_group</th>\n",
       "      <th>secondary_specialty</th>\n",
       "      <th>secondary_specialty_group</th>\n",
       "      <th>first_name</th>\n",
       "      <th>last_name</th>\n",
       "      <th>formatted_name</th>\n",
       "      <th>city</th>\n",
       "      <th>state</th>\n",
       "      <th>zipcode</th>\n",
       "      <th>birth_year</th>\n",
       "      <th>grad_year</th>\n",
       "      <th>grad_school</th>\n",
       "      <th>gender</th>\n",
       "    </tr>\n",
       "  </thead>\n",
       "  <tbody>\n",
       "    <tr>\n",
       "      <th>0</th>\n",
       "      <td>0000000000</td>\n",
       "      <td>POI</td>\n",
       "      <td>POI</td>\n",
       "      <td>NaN</td>\n",
       "      <td>NaN</td>\n",
       "      <td>NaN</td>\n",
       "      <td>NaN</td>\n",
       "      <td>NaN</td>\n",
       "      <td>NaN</td>\n",
       "      <td>NaN</td>\n",
       "      <td>NaN</td>\n",
       "      <td>NaN</td>\n",
       "      <td>NaN</td>\n",
       "      <td>NaN</td>\n",
       "      <td>0</td>\n",
       "      <td>0</td>\n",
       "      <td>NaN</td>\n",
       "      <td>NaN</td>\n",
       "    </tr>\n",
       "    <tr>\n",
       "      <th>1</th>\n",
       "      <td>0000004644</td>\n",
       "      <td>POI</td>\n",
       "      <td>POI</td>\n",
       "      <td>NaN</td>\n",
       "      <td>NaN</td>\n",
       "      <td>NaN</td>\n",
       "      <td>NaN</td>\n",
       "      <td>NaN</td>\n",
       "      <td>R</td>\n",
       "      <td>Curtiss</td>\n",
       "      <td>NaN</td>\n",
       "      <td>NaN</td>\n",
       "      <td>MI</td>\n",
       "      <td>NaN</td>\n",
       "      <td>0</td>\n",
       "      <td>1957</td>\n",
       "      <td>NaN</td>\n",
       "      <td>NaN</td>\n",
       "    </tr>\n",
       "    <tr>\n",
       "      <th>2</th>\n",
       "      <td>0000006576</td>\n",
       "      <td>POI</td>\n",
       "      <td>POI</td>\n",
       "      <td>NaN</td>\n",
       "      <td>NaN</td>\n",
       "      <td>NaN</td>\n",
       "      <td>NaN</td>\n",
       "      <td>NaN</td>\n",
       "      <td>William</td>\n",
       "      <td>Fish</td>\n",
       "      <td>NaN</td>\n",
       "      <td>NaN</td>\n",
       "      <td>IN</td>\n",
       "      <td>NaN</td>\n",
       "      <td>0</td>\n",
       "      <td>1956</td>\n",
       "      <td>NaN</td>\n",
       "      <td>NaN</td>\n",
       "    </tr>\n",
       "    <tr>\n",
       "      <th>3</th>\n",
       "      <td>0000014225</td>\n",
       "      <td>POI</td>\n",
       "      <td>POI</td>\n",
       "      <td>NaN</td>\n",
       "      <td>NaN</td>\n",
       "      <td>NaN</td>\n",
       "      <td>NaN</td>\n",
       "      <td>NaN</td>\n",
       "      <td>John</td>\n",
       "      <td>Miller</td>\n",
       "      <td>NaN</td>\n",
       "      <td>NaN</td>\n",
       "      <td>MI</td>\n",
       "      <td>NaN</td>\n",
       "      <td>0</td>\n",
       "      <td>1950</td>\n",
       "      <td>NaN</td>\n",
       "      <td>NaN</td>\n",
       "    </tr>\n",
       "    <tr>\n",
       "      <th>4</th>\n",
       "      <td>0000018208</td>\n",
       "      <td>POI</td>\n",
       "      <td>POI</td>\n",
       "      <td>NaN</td>\n",
       "      <td>NaN</td>\n",
       "      <td>NaN</td>\n",
       "      <td>NaN</td>\n",
       "      <td>NaN</td>\n",
       "      <td>Albert</td>\n",
       "      <td>Schartel</td>\n",
       "      <td>NaN</td>\n",
       "      <td>NaN</td>\n",
       "      <td>PA</td>\n",
       "      <td>NaN</td>\n",
       "      <td>0</td>\n",
       "      <td>1954</td>\n",
       "      <td>NaN</td>\n",
       "      <td>NaN</td>\n",
       "    </tr>\n",
       "  </tbody>\n",
       "</table>\n",
       "</div>"
      ],
      "text/plain": [
       "        dg_id identity_type professional_designation  npi_number  \\\n",
       "0  0000000000           POI                      POI         NaN   \n",
       "1  0000004644           POI                      POI         NaN   \n",
       "2  0000006576           POI                      POI         NaN   \n",
       "3  0000014225           POI                      POI         NaN   \n",
       "4  0000018208           POI                      POI         NaN   \n",
       "\n",
       "  primary_specialty primary_specialty_group secondary_specialty  \\\n",
       "0               NaN                     NaN                 NaN   \n",
       "1               NaN                     NaN                 NaN   \n",
       "2               NaN                     NaN                 NaN   \n",
       "3               NaN                     NaN                 NaN   \n",
       "4               NaN                     NaN                 NaN   \n",
       "\n",
       "  secondary_specialty_group first_name last_name formatted_name city state  \\\n",
       "0                       NaN        NaN       NaN            NaN  NaN   NaN   \n",
       "1                       NaN          R   Curtiss            NaN  NaN    MI   \n",
       "2                       NaN    William      Fish            NaN  NaN    IN   \n",
       "3                       NaN       John    Miller            NaN  NaN    MI   \n",
       "4                       NaN     Albert  Schartel            NaN  NaN    PA   \n",
       "\n",
       "  zipcode  birth_year  grad_year grad_school gender  \n",
       "0     NaN           0          0         NaN    NaN  \n",
       "1     NaN           0       1957         NaN    NaN  \n",
       "2     NaN           0       1956         NaN    NaN  \n",
       "3     NaN           0       1950         NaN    NaN  \n",
       "4     NaN           0       1954         NaN    NaN  "
      ]
     },
     "execution_count": 3,
     "metadata": {},
     "output_type": "execute_result"
    }
   ],
   "source": [
    "visitors.head()"
   ]
  },
  {
   "cell_type": "code",
   "execution_count": 4,
   "metadata": {
    "collapsed": false
   },
   "outputs": [],
   "source": [
    "visitors.columns = [x.strip() for x in visitors.columns]"
   ]
  },
  {
   "cell_type": "code",
   "execution_count": 5,
   "metadata": {
    "collapsed": false
   },
   "outputs": [],
   "source": [
    "vnulls = visitors.groupby('professional_designation').count().reset_index()"
   ]
  },
  {
   "cell_type": "code",
   "execution_count": 6,
   "metadata": {
    "collapsed": false
   },
   "outputs": [],
   "source": [
    "for col in [x for x in vnulls.columns if x not in ['dg_id', 'identity_type', 'professional_designation']]:\n",
    "    vnulls[col+'_pct'] = vnulls.apply(lambda x: x[col]/x.dg_id,axis=1)"
   ]
  },
  {
   "cell_type": "code",
   "execution_count": 7,
   "metadata": {
    "collapsed": false
   },
   "outputs": [
    {
     "data": {
      "text/html": [
       "<div>\n",
       "<style>\n",
       "    .dataframe thead tr:only-child th {\n",
       "        text-align: right;\n",
       "    }\n",
       "\n",
       "    .dataframe thead th {\n",
       "        text-align: left;\n",
       "    }\n",
       "\n",
       "    .dataframe tbody tr th {\n",
       "        vertical-align: top;\n",
       "    }\n",
       "</style>\n",
       "<table border=\"1\" class=\"dataframe\">\n",
       "  <thead>\n",
       "    <tr style=\"text-align: right;\">\n",
       "      <th></th>\n",
       "      <th>professional_designation</th>\n",
       "      <th>dg_id</th>\n",
       "      <th>npi_number_pct</th>\n",
       "      <th>primary_specialty_pct</th>\n",
       "      <th>primary_specialty_group_pct</th>\n",
       "      <th>secondary_specialty_pct</th>\n",
       "      <th>secondary_specialty_group_pct</th>\n",
       "      <th>first_name_pct</th>\n",
       "      <th>last_name_pct</th>\n",
       "      <th>formatted_name_pct</th>\n",
       "      <th>city_pct</th>\n",
       "      <th>state_pct</th>\n",
       "      <th>zipcode_pct</th>\n",
       "      <th>birth_year_pct</th>\n",
       "      <th>grad_year_pct</th>\n",
       "      <th>grad_school_pct</th>\n",
       "      <th>gender_pct</th>\n",
       "    </tr>\n",
       "  </thead>\n",
       "  <tbody>\n",
       "    <tr>\n",
       "      <th>0</th>\n",
       "      <td>Dentist</td>\n",
       "      <td>246727</td>\n",
       "      <td>0.000000</td>\n",
       "      <td>0.731606</td>\n",
       "      <td>0.731606</td>\n",
       "      <td>0.000000</td>\n",
       "      <td>0.000000</td>\n",
       "      <td>0.999984</td>\n",
       "      <td>0.999951</td>\n",
       "      <td>1.000000</td>\n",
       "      <td>0.999996</td>\n",
       "      <td>1.000000</td>\n",
       "      <td>1.000000</td>\n",
       "      <td>1.0</td>\n",
       "      <td>1.0</td>\n",
       "      <td>0.911116</td>\n",
       "      <td>0.981396</td>\n",
       "    </tr>\n",
       "    <tr>\n",
       "      <th>1</th>\n",
       "      <td>NP</td>\n",
       "      <td>238053</td>\n",
       "      <td>0.837910</td>\n",
       "      <td>0.997858</td>\n",
       "      <td>0.997858</td>\n",
       "      <td>0.000000</td>\n",
       "      <td>0.000000</td>\n",
       "      <td>0.999966</td>\n",
       "      <td>0.999941</td>\n",
       "      <td>0.999937</td>\n",
       "      <td>0.999840</td>\n",
       "      <td>0.999971</td>\n",
       "      <td>0.999966</td>\n",
       "      <td>1.0</td>\n",
       "      <td>1.0</td>\n",
       "      <td>0.000000</td>\n",
       "      <td>0.973308</td>\n",
       "    </tr>\n",
       "    <tr>\n",
       "      <th>2</th>\n",
       "      <td>Nurse</td>\n",
       "      <td>683356</td>\n",
       "      <td>0.054721</td>\n",
       "      <td>0.072065</td>\n",
       "      <td>0.072065</td>\n",
       "      <td>0.000000</td>\n",
       "      <td>0.000000</td>\n",
       "      <td>0.999854</td>\n",
       "      <td>0.882380</td>\n",
       "      <td>0.073657</td>\n",
       "      <td>0.072292</td>\n",
       "      <td>0.073688</td>\n",
       "      <td>0.073719</td>\n",
       "      <td>1.0</td>\n",
       "      <td>1.0</td>\n",
       "      <td>0.000000</td>\n",
       "      <td>0.071370</td>\n",
       "    </tr>\n",
       "    <tr>\n",
       "      <th>3</th>\n",
       "      <td>PA</td>\n",
       "      <td>120084</td>\n",
       "      <td>0.899637</td>\n",
       "      <td>0.998093</td>\n",
       "      <td>0.998093</td>\n",
       "      <td>0.000000</td>\n",
       "      <td>0.000000</td>\n",
       "      <td>0.999992</td>\n",
       "      <td>0.999958</td>\n",
       "      <td>1.000000</td>\n",
       "      <td>1.000000</td>\n",
       "      <td>1.000000</td>\n",
       "      <td>1.000000</td>\n",
       "      <td>1.0</td>\n",
       "      <td>1.0</td>\n",
       "      <td>0.000000</td>\n",
       "      <td>0.973335</td>\n",
       "    </tr>\n",
       "    <tr>\n",
       "      <th>4</th>\n",
       "      <td>POI</td>\n",
       "      <td>3442129</td>\n",
       "      <td>0.001922</td>\n",
       "      <td>0.002589</td>\n",
       "      <td>0.002589</td>\n",
       "      <td>0.002584</td>\n",
       "      <td>0.002584</td>\n",
       "      <td>0.884201</td>\n",
       "      <td>0.874049</td>\n",
       "      <td>0.011087</td>\n",
       "      <td>0.000000</td>\n",
       "      <td>0.072162</td>\n",
       "      <td>0.031782</td>\n",
       "      <td>1.0</td>\n",
       "      <td>1.0</td>\n",
       "      <td>0.000000</td>\n",
       "      <td>0.000000</td>\n",
       "    </tr>\n",
       "    <tr>\n",
       "      <th>5</th>\n",
       "      <td>Physician</td>\n",
       "      <td>1234312</td>\n",
       "      <td>0.836616</td>\n",
       "      <td>0.994216</td>\n",
       "      <td>0.994216</td>\n",
       "      <td>0.979115</td>\n",
       "      <td>0.979115</td>\n",
       "      <td>0.999982</td>\n",
       "      <td>0.999978</td>\n",
       "      <td>0.999872</td>\n",
       "      <td>0.999849</td>\n",
       "      <td>0.999987</td>\n",
       "      <td>0.999989</td>\n",
       "      <td>1.0</td>\n",
       "      <td>1.0</td>\n",
       "      <td>0.978959</td>\n",
       "      <td>0.998935</td>\n",
       "    </tr>\n",
       "  </tbody>\n",
       "</table>\n",
       "</div>"
      ],
      "text/plain": [
       "  professional_designation    dg_id  npi_number_pct  primary_specialty_pct  \\\n",
       "0                  Dentist   246727        0.000000               0.731606   \n",
       "1                       NP   238053        0.837910               0.997858   \n",
       "2                    Nurse   683356        0.054721               0.072065   \n",
       "3                       PA   120084        0.899637               0.998093   \n",
       "4                      POI  3442129        0.001922               0.002589   \n",
       "5                Physician  1234312        0.836616               0.994216   \n",
       "\n",
       "   primary_specialty_group_pct  secondary_specialty_pct  \\\n",
       "0                     0.731606                 0.000000   \n",
       "1                     0.997858                 0.000000   \n",
       "2                     0.072065                 0.000000   \n",
       "3                     0.998093                 0.000000   \n",
       "4                     0.002589                 0.002584   \n",
       "5                     0.994216                 0.979115   \n",
       "\n",
       "   secondary_specialty_group_pct  first_name_pct  last_name_pct  \\\n",
       "0                       0.000000        0.999984       0.999951   \n",
       "1                       0.000000        0.999966       0.999941   \n",
       "2                       0.000000        0.999854       0.882380   \n",
       "3                       0.000000        0.999992       0.999958   \n",
       "4                       0.002584        0.884201       0.874049   \n",
       "5                       0.979115        0.999982       0.999978   \n",
       "\n",
       "   formatted_name_pct  city_pct  state_pct  zipcode_pct  birth_year_pct  \\\n",
       "0            1.000000  0.999996   1.000000     1.000000             1.0   \n",
       "1            0.999937  0.999840   0.999971     0.999966             1.0   \n",
       "2            0.073657  0.072292   0.073688     0.073719             1.0   \n",
       "3            1.000000  1.000000   1.000000     1.000000             1.0   \n",
       "4            0.011087  0.000000   0.072162     0.031782             1.0   \n",
       "5            0.999872  0.999849   0.999987     0.999989             1.0   \n",
       "\n",
       "   grad_year_pct  grad_school_pct  gender_pct  \n",
       "0            1.0         0.911116    0.981396  \n",
       "1            1.0         0.000000    0.973308  \n",
       "2            1.0         0.000000    0.071370  \n",
       "3            1.0         0.000000    0.973335  \n",
       "4            1.0         0.000000    0.000000  \n",
       "5            1.0         0.978959    0.998935  "
      ]
     },
     "execution_count": 7,
     "metadata": {},
     "output_type": "execute_result"
    }
   ],
   "source": [
    "vnulls[['professional_designation', 'dg_id']+[x for x in vnulls.columns if '_pct' in x]]"
   ]
  },
  {
   "cell_type": "code",
   "execution_count": 8,
   "metadata": {
    "collapsed": false
   },
   "outputs": [
    {
     "data": {
      "text/plain": [
       "POI    3985003\n",
       "AUT    1979658\n",
       "Name: identity_type, dtype: int64"
      ]
     },
     "execution_count": 8,
     "metadata": {},
     "output_type": "execute_result"
    }
   ],
   "source": [
    "visitors.identity_type.value_counts()"
   ]
  },
  {
   "cell_type": "code",
   "execution_count": 9,
   "metadata": {
    "collapsed": false
   },
   "outputs": [
    {
     "data": {
      "text/plain": [
       "POI          3442129\n",
       "Physician    1234312\n",
       "Nurse         683356\n",
       "Dentist       246727\n",
       "NP            238053\n",
       "PA            120084\n",
       "Name: professional_designation, dtype: int64"
      ]
     },
     "execution_count": 9,
     "metadata": {},
     "output_type": "execute_result"
    }
   ],
   "source": [
    "visitors.professional_designation.value_counts()"
   ]
  },
  {
   "cell_type": "code",
   "execution_count": 11,
   "metadata": {
    "collapsed": false
   },
   "outputs": [
    {
     "data": {
      "text/plain": [
       "Internal Medicine (IM)           160286\n",
       "Family Medicine (FM)             126871\n",
       "Pediatrics (PD)                   79549\n",
       "Unspecified (US)                  57334\n",
       "Anesthesiology (AN)               57121\n",
       "Obstetrics & Gynecology (OBG)     54676\n",
       "Psychiatry (P)                    52983\n",
       "Emergency Medicine (EM)           52700\n",
       "General Surgery (GS)              43406\n",
       "Diagnostic Radiology (DR)         34493\n",
       "Name: primary_specialty, dtype: int64"
      ]
     },
     "execution_count": 11,
     "metadata": {},
     "output_type": "execute_result"
    }
   ],
   "source": [
    "visitors[visitors.professional_designation=='Physician'].primary_specialty.value_counts()[:10]"
   ]
  },
  {
   "cell_type": "code",
   "execution_count": 12,
   "metadata": {
    "collapsed": false
   },
   "outputs": [
    {
     "data": {
      "text/plain": [
       "Family Medicine            75688\n",
       "Unspecified                36503\n",
       "Pediatrics                 18015\n",
       "Adult Medicine             17301\n",
       "Anesthesiology             15383\n",
       "Psychiatry                  9971\n",
       "Obstetrics & Gynecology     9878\n",
       "Women's Health              6971\n",
       "Critical Care Medicine      5548\n",
       "Geriatric Medicine          4723\n",
       "Name: primary_specialty, dtype: int64"
      ]
     },
     "execution_count": 12,
     "metadata": {},
     "output_type": "execute_result"
    }
   ],
   "source": [
    "visitors[visitors.professional_designation=='NP'].primary_specialty.value_counts()[:10]"
   ]
  },
  {
   "cell_type": "code",
   "execution_count": 13,
   "metadata": {
    "collapsed": false
   },
   "outputs": [
    {
     "data": {
      "text/plain": [
       "Unspecified               43369\n",
       "Family Medicine           20783\n",
       "Emergency Medicine         8334\n",
       "Orthopedic Surgery         5998\n",
       "General Surgery            4538\n",
       "Pediatrics                 3710\n",
       "Internal Medicine          3220\n",
       "Cardiovascular Disease     2354\n",
       "Dermatology                2254\n",
       "Anesthesiology             2152\n",
       "Name: primary_specialty, dtype: int64"
      ]
     },
     "execution_count": 13,
     "metadata": {},
     "output_type": "execute_result"
    }
   ],
   "source": [
    "visitors[visitors.professional_designation=='PA'].primary_specialty.value_counts()[:10]"
   ]
  },
  {
   "cell_type": "code",
   "execution_count": 14,
   "metadata": {
    "collapsed": false
   },
   "outputs": [
    {
     "data": {
      "text/html": [
       "<div>\n",
       "<style>\n",
       "    .dataframe thead tr:only-child th {\n",
       "        text-align: right;\n",
       "    }\n",
       "\n",
       "    .dataframe thead th {\n",
       "        text-align: left;\n",
       "    }\n",
       "\n",
       "    .dataframe tbody tr th {\n",
       "        vertical-align: top;\n",
       "    }\n",
       "</style>\n",
       "<table border=\"1\" class=\"dataframe\">\n",
       "  <thead>\n",
       "    <tr style=\"text-align: right;\">\n",
       "      <th></th>\n",
       "      <th>dg_id</th>\n",
       "      <th>machine_fingerprint</th>\n",
       "      <th>session_id</th>\n",
       "      <th>host</th>\n",
       "      <th>url</th>\n",
       "      <th>title</th>\n",
       "      <th>timestamp</th>\n",
       "      <th>js_page_cnt</th>\n",
       "      <th>referrer</th>\n",
       "      <th>scheme</th>\n",
       "      <th>path</th>\n",
       "      <th>query</th>\n",
       "      <th>fragment</th>\n",
       "    </tr>\n",
       "  </thead>\n",
       "  <tbody>\n",
       "    <tr>\n",
       "      <th>0</th>\n",
       "      <td>194058333</td>\n",
       "      <td>12049290.0</td>\n",
       "      <td>be0c322b-4eb4-49fc-9ed9-9a9ba3617518</td>\n",
       "      <td>www.healthline.com</td>\n",
       "      <td>www.healthline.com/health/urine-culture-clean-...</td>\n",
       "      <td>Clean Catch Urine Sample and Culture</td>\n",
       "      <td>2017-01-13 21:11:54.573</td>\n",
       "      <td>1</td>\n",
       "      <td>http://www.healthline.com/health/urine-culture...</td>\n",
       "      <td>http</td>\n",
       "      <td>/health/urine-culture-clean-catch</td>\n",
       "      <td>NaN</td>\n",
       "      <td>Procedure2</td>\n",
       "    </tr>\n",
       "    <tr>\n",
       "      <th>1</th>\n",
       "      <td>194058333</td>\n",
       "      <td>12049290.0</td>\n",
       "      <td>be0c322b-4eb4-49fc-9ed9-9a9ba3617518</td>\n",
       "      <td>www.healthline.com</td>\n",
       "      <td>www.healthline.com/health/urine-culture-clean-...</td>\n",
       "      <td>Clean Catch Urine Sample and Culture</td>\n",
       "      <td>2017-01-13 21:17:04.310</td>\n",
       "      <td>2</td>\n",
       "      <td>http://www.healthline.com/health/urine-culture...</td>\n",
       "      <td>http</td>\n",
       "      <td>/health/urine-culture-clean-catch</td>\n",
       "      <td>NaN</td>\n",
       "      <td>Procedure2</td>\n",
       "    </tr>\n",
       "    <tr>\n",
       "      <th>2</th>\n",
       "      <td>194058333</td>\n",
       "      <td>12049290.0</td>\n",
       "      <td>be0c322b-4eb4-49fc-9ed9-9a9ba3617518</td>\n",
       "      <td>www.healthline.com</td>\n",
       "      <td>www.healthline.com/health/urine-culture-clean-...</td>\n",
       "      <td>Clean Catch Urine Sample and Culture</td>\n",
       "      <td>2017-01-13 21:46:47.860</td>\n",
       "      <td>5</td>\n",
       "      <td>http://www.healthline.com/health/urine-culture...</td>\n",
       "      <td>http</td>\n",
       "      <td>/health/urine-culture-clean-catch</td>\n",
       "      <td>NaN</td>\n",
       "      <td>Procedure2</td>\n",
       "    </tr>\n",
       "    <tr>\n",
       "      <th>3</th>\n",
       "      <td>194058333</td>\n",
       "      <td>12049290.0</td>\n",
       "      <td>3456a524-e30b-411c-a414-fa4b836e6203</td>\n",
       "      <td>www.healthline.com</td>\n",
       "      <td>www.healthline.com/health/urine-culture-clean-...</td>\n",
       "      <td>Clean Catch Urine Sample and Culture</td>\n",
       "      <td>2017-01-15 11:10:57.000</td>\n",
       "      <td>1</td>\n",
       "      <td>http://www.healthline.com/health/urine-culture...</td>\n",
       "      <td>http</td>\n",
       "      <td>/health/urine-culture-clean-catch</td>\n",
       "      <td>NaN</td>\n",
       "      <td>Procedure2</td>\n",
       "    </tr>\n",
       "    <tr>\n",
       "      <th>4</th>\n",
       "      <td>194058333</td>\n",
       "      <td>12049290.0</td>\n",
       "      <td>29dfabb0-f748-4b1b-983d-99ecf4b7c6e8</td>\n",
       "      <td>www.healthline.com</td>\n",
       "      <td>www.healthline.com/health/urine-culture-clean-...</td>\n",
       "      <td>Clean Catch Urine Sample and Culture</td>\n",
       "      <td>2017-01-15 20:00:58.260</td>\n",
       "      <td>1</td>\n",
       "      <td>http://www.healthline.com/health/urine-culture...</td>\n",
       "      <td>http</td>\n",
       "      <td>/health/urine-culture-clean-catch</td>\n",
       "      <td>NaN</td>\n",
       "      <td>Procedure2</td>\n",
       "    </tr>\n",
       "  </tbody>\n",
       "</table>\n",
       "</div>"
      ],
      "text/plain": [
       "       dg_id  machine_fingerprint                            session_id  \\\n",
       "0  194058333           12049290.0  be0c322b-4eb4-49fc-9ed9-9a9ba3617518   \n",
       "1  194058333           12049290.0  be0c322b-4eb4-49fc-9ed9-9a9ba3617518   \n",
       "2  194058333           12049290.0  be0c322b-4eb4-49fc-9ed9-9a9ba3617518   \n",
       "3  194058333           12049290.0  3456a524-e30b-411c-a414-fa4b836e6203   \n",
       "4  194058333           12049290.0  29dfabb0-f748-4b1b-983d-99ecf4b7c6e8   \n",
       "\n",
       "                 host                                                url  \\\n",
       "0  www.healthline.com  www.healthline.com/health/urine-culture-clean-...   \n",
       "1  www.healthline.com  www.healthline.com/health/urine-culture-clean-...   \n",
       "2  www.healthline.com  www.healthline.com/health/urine-culture-clean-...   \n",
       "3  www.healthline.com  www.healthline.com/health/urine-culture-clean-...   \n",
       "4  www.healthline.com  www.healthline.com/health/urine-culture-clean-...   \n",
       "\n",
       "                                  title               timestamp  js_page_cnt  \\\n",
       "0  Clean Catch Urine Sample and Culture 2017-01-13 21:11:54.573            1   \n",
       "1  Clean Catch Urine Sample and Culture 2017-01-13 21:17:04.310            2   \n",
       "2  Clean Catch Urine Sample and Culture 2017-01-13 21:46:47.860            5   \n",
       "3  Clean Catch Urine Sample and Culture 2017-01-15 11:10:57.000            1   \n",
       "4  Clean Catch Urine Sample and Culture 2017-01-15 20:00:58.260            1   \n",
       "\n",
       "                                            referrer scheme  \\\n",
       "0  http://www.healthline.com/health/urine-culture...   http   \n",
       "1  http://www.healthline.com/health/urine-culture...   http   \n",
       "2  http://www.healthline.com/health/urine-culture...   http   \n",
       "3  http://www.healthline.com/health/urine-culture...   http   \n",
       "4  http://www.healthline.com/health/urine-culture...   http   \n",
       "\n",
       "                                path query    fragment  \n",
       "0  /health/urine-culture-clean-catch   NaN  Procedure2  \n",
       "1  /health/urine-culture-clean-catch   NaN  Procedure2  \n",
       "2  /health/urine-culture-clean-catch   NaN  Procedure2  \n",
       "3  /health/urine-culture-clean-catch   NaN  Procedure2  \n",
       "4  /health/urine-culture-clean-catch   NaN  Procedure2  "
      ]
     },
     "execution_count": 14,
     "metadata": {},
     "output_type": "execute_result"
    }
   ],
   "source": [
    "events.head()"
   ]
  },
  {
   "cell_type": "code",
   "execution_count": 17,
   "metadata": {
    "collapsed": false
   },
   "outputs": [
    {
     "data": {
      "text/html": [
       "<div>\n",
       "<style>\n",
       "    .dataframe thead tr:only-child th {\n",
       "        text-align: right;\n",
       "    }\n",
       "\n",
       "    .dataframe thead th {\n",
       "        text-align: left;\n",
       "    }\n",
       "\n",
       "    .dataframe tbody tr th {\n",
       "        vertical-align: top;\n",
       "    }\n",
       "</style>\n",
       "<table border=\"1\" class=\"dataframe\">\n",
       "  <thead>\n",
       "    <tr style=\"text-align: right;\">\n",
       "      <th></th>\n",
       "      <th>index</th>\n",
       "      <th>fragment</th>\n",
       "    </tr>\n",
       "  </thead>\n",
       "  <tbody>\n",
       "    <tr>\n",
       "      <th>0</th>\n",
       "      <td>Overview1</td>\n",
       "      <td>21397</td>\n",
       "    </tr>\n",
       "    <tr>\n",
       "      <th>1</th>\n",
       "      <td>Symptoms2</td>\n",
       "      <td>4813</td>\n",
       "    </tr>\n",
       "    <tr>\n",
       "      <th>2</th>\n",
       "      <td>Causes2</td>\n",
       "      <td>4804</td>\n",
       "    </tr>\n",
       "    <tr>\n",
       "      <th>3</th>\n",
       "      <td>2820</td>\n",
       "      <td>3554</td>\n",
       "    </tr>\n",
       "    <tr>\n",
       "      <th>4</th>\n",
       "      <td>Causes3</td>\n",
       "      <td>3142</td>\n",
       "    </tr>\n",
       "    <tr>\n",
       "      <th>5</th>\n",
       "      <td>Symptoms3</td>\n",
       "      <td>3133</td>\n",
       "    </tr>\n",
       "    <tr>\n",
       "      <th>6</th>\n",
       "      <td>Treatment5</td>\n",
       "      <td>2899</td>\n",
       "    </tr>\n",
       "    <tr>\n",
       "      <th>7</th>\n",
       "      <td>current_relocate_search=r&amp;detailed_results=0</td>\n",
       "      <td>2356</td>\n",
       "    </tr>\n",
       "    <tr>\n",
       "      <th>8</th>\n",
       "      <td>position_type=20&amp;current_relocate_search=r&amp;det...</td>\n",
       "      <td>2337</td>\n",
       "    </tr>\n",
       "    <tr>\n",
       "      <th>9</th>\n",
       "      <td>Treatment6</td>\n",
       "      <td>2276</td>\n",
       "    </tr>\n",
       "    <tr>\n",
       "      <th>10</th>\n",
       "      <td>2667</td>\n",
       "      <td>2086</td>\n",
       "    </tr>\n",
       "    <tr>\n",
       "      <th>11</th>\n",
       "      <td>2832</td>\n",
       "      <td>1943</td>\n",
       "    </tr>\n",
       "    <tr>\n",
       "      <th>12</th>\n",
       "      <td>Highlights1</td>\n",
       "      <td>1862</td>\n",
       "    </tr>\n",
       "    <tr>\n",
       "      <th>13</th>\n",
       "      <td>Types2</td>\n",
       "      <td>1844</td>\n",
       "    </tr>\n",
       "    <tr>\n",
       "      <th>14</th>\n",
       "      <td>Diagnosis5</td>\n",
       "      <td>1775</td>\n",
       "    </tr>\n",
       "    <tr>\n",
       "      <th>15</th>\n",
       "      <td>ReadThisNext8</td>\n",
       "      <td>1566</td>\n",
       "    </tr>\n",
       "    <tr>\n",
       "      <th>16</th>\n",
       "      <td>2673</td>\n",
       "      <td>1515</td>\n",
       "    </tr>\n",
       "    <tr>\n",
       "      <th>17</th>\n",
       "      <td>2929</td>\n",
       "      <td>1484</td>\n",
       "    </tr>\n",
       "    <tr>\n",
       "      <th>18</th>\n",
       "      <td>ReadThisNext7</td>\n",
       "      <td>1465</td>\n",
       "    </tr>\n",
       "    <tr>\n",
       "      <th>19</th>\n",
       "      <td>2751</td>\n",
       "      <td>1460</td>\n",
       "    </tr>\n",
       "    <tr>\n",
       "      <th>20</th>\n",
       "      <td>Symptoms4</td>\n",
       "      <td>1455</td>\n",
       "    </tr>\n",
       "    <tr>\n",
       "      <th>21</th>\n",
       "      <td>2774</td>\n",
       "      <td>1360</td>\n",
       "    </tr>\n",
       "    <tr>\n",
       "      <th>22</th>\n",
       "      <td>1</td>\n",
       "      <td>1337</td>\n",
       "    </tr>\n",
       "    <tr>\n",
       "      <th>23</th>\n",
       "      <td>3033</td>\n",
       "      <td>1312</td>\n",
       "    </tr>\n",
       "    <tr>\n",
       "      <th>24</th>\n",
       "      <td>2477</td>\n",
       "      <td>1309</td>\n",
       "    </tr>\n",
       "    <tr>\n",
       "      <th>25</th>\n",
       "      <td>ReadThisNext9</td>\n",
       "      <td>1261</td>\n",
       "    </tr>\n",
       "    <tr>\n",
       "      <th>26</th>\n",
       "      <td>position_type=22%2C24%2C25%2C29&amp;current_reloca...</td>\n",
       "      <td>1228</td>\n",
       "    </tr>\n",
       "    <tr>\n",
       "      <th>27</th>\n",
       "      <td>2890</td>\n",
       "      <td>1224</td>\n",
       "    </tr>\n",
       "    <tr>\n",
       "      <th>28</th>\n",
       "      <td>ReadThisNext6</td>\n",
       "      <td>1206</td>\n",
       "    </tr>\n",
       "    <tr>\n",
       "      <th>29</th>\n",
       "      <td>hcpModal</td>\n",
       "      <td>1163</td>\n",
       "    </tr>\n",
       "    <tr>\n",
       "      <th>...</th>\n",
       "      <td>...</td>\n",
       "      <td>...</td>\n",
       "    </tr>\n",
       "    <tr>\n",
       "      <th>10867</th>\n",
       "      <td>athome-treatments</td>\n",
       "      <td>1</td>\n",
       "    </tr>\n",
       "    <tr>\n",
       "      <th>10868</th>\n",
       "      <td>Trattamento4</td>\n",
       "      <td>1</td>\n",
       "    </tr>\n",
       "    <tr>\n",
       "      <th>10869</th>\n",
       "      <td>antibiotics</td>\n",
       "      <td>1</td>\n",
       "    </tr>\n",
       "    <tr>\n",
       "      <th>10870</th>\n",
       "      <td>.UaaRc1QGeKw.gmail</td>\n",
       "      <td>1</td>\n",
       "    </tr>\n",
       "    <tr>\n",
       "      <th>10871</th>\n",
       "      <td>Erkrankungen3</td>\n",
       "      <td>1</td>\n",
       "    </tr>\n",
       "    <tr>\n",
       "      <th>10872</th>\n",
       "      <td>Eyedrops5</td>\n",
       "      <td>1</td>\n",
       "    </tr>\n",
       "    <tr>\n",
       "      <th>10873</th>\n",
       "      <td>kwrd_type=b&amp;radius=20&amp;keywords=family%20nurse%...</td>\n",
       "      <td>1</td>\n",
       "    </tr>\n",
       "    <tr>\n",
       "      <th>10874</th>\n",
       "      <td>Managingthesymptoms7</td>\n",
       "      <td>1</td>\n",
       "    </tr>\n",
       "    <tr>\n",
       "      <th>10875</th>\n",
       "      <td>ZincDeficiency2</td>\n",
       "      <td>1</td>\n",
       "    </tr>\n",
       "    <tr>\n",
       "      <th>10876</th>\n",
       "      <td>Pregnantwomen4</td>\n",
       "      <td>1</td>\n",
       "    </tr>\n",
       "    <tr>\n",
       "      <th>10877</th>\n",
       "      <td>kwrd_type=b&amp;radius=20&amp;loc=50&amp;start=90</td>\n",
       "      <td>1</td>\n",
       "    </tr>\n",
       "    <tr>\n",
       "      <th>10878</th>\n",
       "      <td>Day23</td>\n",
       "      <td>1</td>\n",
       "    </tr>\n",
       "    <tr>\n",
       "      <th>10879</th>\n",
       "      <td>only_job_title=1&amp;keywords=Work%20as%20Diabetol...</td>\n",
       "      <td>1</td>\n",
       "    </tr>\n",
       "    <tr>\n",
       "      <th>10880</th>\n",
       "      <td>keywords=lactation</td>\n",
       "      <td>1</td>\n",
       "    </tr>\n",
       "    <tr>\n",
       "      <th>10881</th>\n",
       "      <td>Möjligaorsaker3</td>\n",
       "      <td>1</td>\n",
       "    </tr>\n",
       "    <tr>\n",
       "      <th>10882</th>\n",
       "      <td>Nailproblems7</td>\n",
       "      <td>1</td>\n",
       "    </tr>\n",
       "    <tr>\n",
       "      <th>10883</th>\n",
       "      <td>specialties=49</td>\n",
       "      <td>1</td>\n",
       "    </tr>\n",
       "    <tr>\n",
       "      <th>10884</th>\n",
       "      <td>kwrd_type=b&amp;radius=20&amp;keywords=therapy&amp;zip_tex...</td>\n",
       "      <td>1</td>\n",
       "    </tr>\n",
       "    <tr>\n",
       "      <th>10885</th>\n",
       "      <td>congenital_diaphragmatic_hernia</td>\n",
       "      <td>1</td>\n",
       "    </tr>\n",
       "    <tr>\n",
       "      <th>10886</th>\n",
       "      <td>zip_text=Newburgh%2C%20New%20York&amp;radius=20</td>\n",
       "      <td>1</td>\n",
       "    </tr>\n",
       "    <tr>\n",
       "      <th>10887</th>\n",
       "      <td>kwrd_type=b&amp;radius=20&amp;keywords=Breast Surgeon</td>\n",
       "      <td>1</td>\n",
       "    </tr>\n",
       "    <tr>\n",
       "      <th>10888</th>\n",
       "      <td>day-</td>\n",
       "      <td>1</td>\n",
       "    </tr>\n",
       "    <tr>\n",
       "      <th>10889</th>\n",
       "      <td>Antibodytest2</td>\n",
       "      <td>1</td>\n",
       "    </tr>\n",
       "    <tr>\n",
       "      <th>10890</th>\n",
       "      <td>kwrd_type=b&amp;radius=20&amp;keywords=advanced%20prac...</td>\n",
       "      <td>1</td>\n",
       "    </tr>\n",
       "    <tr>\n",
       "      <th>10891</th>\n",
       "      <td>kwrd_type=b&amp;radius=20&amp;position_type=186&amp;zip_te...</td>\n",
       "      <td>1</td>\n",
       "    </tr>\n",
       "    <tr>\n",
       "      <th>10892</th>\n",
       "      <td>kwrd_type=b&amp;radius=20&amp;keywords=Labor%20and%20d...</td>\n",
       "      <td>1</td>\n",
       "    </tr>\n",
       "    <tr>\n",
       "      <th>10893</th>\n",
       "      <td>n</td>\n",
       "      <td>1</td>\n",
       "    </tr>\n",
       "    <tr>\n",
       "      <th>10894</th>\n",
       "      <td>Relateddiseases3</td>\n",
       "      <td>1</td>\n",
       "    </tr>\n",
       "    <tr>\n",
       "      <th>10895</th>\n",
       "      <td>kwrd_type=b&amp;radius=20&amp;zip_text=89012</td>\n",
       "      <td>1</td>\n",
       "    </tr>\n",
       "    <tr>\n",
       "      <th>10896</th>\n",
       "      <td>nutritional_content_of_collard_greens</td>\n",
       "      <td>1</td>\n",
       "    </tr>\n",
       "  </tbody>\n",
       "</table>\n",
       "<p>10897 rows × 2 columns</p>\n",
       "</div>"
      ],
      "text/plain": [
       "                                                   index  fragment\n",
       "0                                              Overview1     21397\n",
       "1                                              Symptoms2      4813\n",
       "2                                                Causes2      4804\n",
       "3                                                   2820      3554\n",
       "4                                                Causes3      3142\n",
       "5                                              Symptoms3      3133\n",
       "6                                             Treatment5      2899\n",
       "7           current_relocate_search=r&detailed_results=0      2356\n",
       "8      position_type=20&current_relocate_search=r&det...      2337\n",
       "9                                             Treatment6      2276\n",
       "10                                                  2667      2086\n",
       "11                                                  2832      1943\n",
       "12                                           Highlights1      1862\n",
       "13                                                Types2      1844\n",
       "14                                            Diagnosis5      1775\n",
       "15                                         ReadThisNext8      1566\n",
       "16                                                  2673      1515\n",
       "17                                                  2929      1484\n",
       "18                                         ReadThisNext7      1465\n",
       "19                                                  2751      1460\n",
       "20                                             Symptoms4      1455\n",
       "21                                                  2774      1360\n",
       "22                                                     1      1337\n",
       "23                                                  3033      1312\n",
       "24                                                  2477      1309\n",
       "25                                         ReadThisNext9      1261\n",
       "26     position_type=22%2C24%2C25%2C29&current_reloca...      1228\n",
       "27                                                  2890      1224\n",
       "28                                         ReadThisNext6      1206\n",
       "29                                              hcpModal      1163\n",
       "...                                                  ...       ...\n",
       "10867                                  athome-treatments         1\n",
       "10868                                       Trattamento4         1\n",
       "10869                                        antibiotics         1\n",
       "10870                                 .UaaRc1QGeKw.gmail         1\n",
       "10871                                      Erkrankungen3         1\n",
       "10872                                          Eyedrops5         1\n",
       "10873  kwrd_type=b&radius=20&keywords=family%20nurse%...         1\n",
       "10874                               Managingthesymptoms7         1\n",
       "10875                                    ZincDeficiency2         1\n",
       "10876                                     Pregnantwomen4         1\n",
       "10877              kwrd_type=b&radius=20&loc=50&start=90         1\n",
       "10878                                              Day23         1\n",
       "10879  only_job_title=1&keywords=Work%20as%20Diabetol...         1\n",
       "10880                                 keywords=lactation         1\n",
       "10881                                    Möjligaorsaker3         1\n",
       "10882                                      Nailproblems7         1\n",
       "10883                                     specialties=49         1\n",
       "10884  kwrd_type=b&radius=20&keywords=therapy&zip_tex...         1\n",
       "10885                    congenital_diaphragmatic_hernia         1\n",
       "10886        zip_text=Newburgh%2C%20New%20York&radius=20         1\n",
       "10887      kwrd_type=b&radius=20&keywords=Breast Surgeon         1\n",
       "10888                                               day-         1\n",
       "10889                                      Antibodytest2         1\n",
       "10890  kwrd_type=b&radius=20&keywords=advanced%20prac...         1\n",
       "10891  kwrd_type=b&radius=20&position_type=186&zip_te...         1\n",
       "10892  kwrd_type=b&radius=20&keywords=Labor%20and%20d...         1\n",
       "10893                                                  n         1\n",
       "10894                                   Relateddiseases3         1\n",
       "10895               kwrd_type=b&radius=20&zip_text=89012         1\n",
       "10896              nutritional_content_of_collard_greens         1\n",
       "\n",
       "[10897 rows x 2 columns]"
      ]
     },
     "execution_count": 17,
     "metadata": {},
     "output_type": "execute_result"
    }
   ],
   "source": [
    "events.fragment.value_counts().reset_index()"
   ]
  },
  {
   "cell_type": "code",
   "execution_count": 18,
   "metadata": {
    "collapsed": false
   },
   "outputs": [
    {
     "data": {
      "text/plain": [
       "session_id\n",
       "c636d87b-00cf-42b3-89b9-f6b10d8529b4    19771\n",
       "ea5edc50-2f2d-487f-b271-8a459d793827      649\n",
       "ca771928-c0d5-4b25-89fe-cb047d2863e5      573\n",
       "6f8d6f15-54dd-489e-96bd-332496d569d3      558\n",
       "e3d62424-c903-41b9-a156-fd9516fd0590      537\n",
       "50a81d21-a843-473a-b015-139ce2630a08      391\n",
       "d1f7abbb-ad57-402a-8752-1f324cab97c2      388\n",
       "82261106-9e57-4abb-b348-691350613b84      349\n",
       "5fe1283a-cd06-4496-9196-3099bcb7eaa1      348\n",
       "80bd6eb0-9cda-429f-a79d-367cfec1acc8      301\n",
       "fc0bea61-26df-4631-85cd-5c46d5c51720      299\n",
       "59eedc09-f071-43c5-814f-e4ff3ecd96d7      295\n",
       "0c17bbdd-41cb-4635-82bc-89589eba44a7      291\n",
       "682864ae-60ed-485b-bb92-2a2e95971884      282\n",
       "5d6ce5a0-bcb9-499d-a1dd-a99d38cfbac8      281\n",
       "e5355135-5186-496d-a5d9-b03fb18466da      274\n",
       "fe1c0ac4-3c2e-4bac-9689-3bdfa9133fb7      272\n",
       "8c7e7448-2720-46bc-84b0-540872dc940c      269\n",
       "d8b3e58d-c788-4134-a76a-38760e6a05b2      266\n",
       "3ebdf406-ef28-40f3-a555-fb08c859c9aa      264\n",
       "e1e42165-fe3b-441c-bbfd-e80312a10776      260\n",
       "408bf0f1-436d-4580-bdb2-e0d3594d5734      259\n",
       "476813c7-9dbf-4640-976a-afad0454856a      252\n",
       "6dad8c1f-84b6-41f2-9fee-a93aa98cd9c2      251\n",
       "c69dc2c2-df45-4de3-b3e9-ab87567eee59      250\n",
       "4a7bd181-1a35-43ab-be2b-471961ba0532      248\n",
       "ca51e3c9-c034-454d-9365-418d5592bf9d      248\n",
       "d6ae1d08-d690-4524-b16e-19a5638347ed      238\n",
       "3759f7c5-f490-4715-b3b0-651312e0d691      238\n",
       "bf6b56ab-7085-406a-85eb-357b7e9f13c5      233\n",
       "                                        ...  \n",
       "927a0e73-1ad4-4947-a292-8ba8145d1493        2\n",
       "9279df5f-a529-4510-9b1e-71da0ec48962        2\n",
       "927567bf-9f62-426c-8276-663e8e939015        2\n",
       "9275a43f-34b3-4bc1-8ad6-130b55764153        2\n",
       "9275dbfc-3ad2-4302-bffc-d2ea33a161a1        2\n",
       "9275df6f-2ab7-41e4-8fc1-a531cf381653        2\n",
       "9275eec5-7f75-4d4d-b654-0d2f086881fc        2\n",
       "9276087f-58a3-4e50-bafe-40c83c2f72eb        2\n",
       "92760b60-0c6f-4e83-b586-ff2c1515169d        2\n",
       "92765940-aa5b-4a61-9bdc-a46f6dea469f        2\n",
       "9276a5cc-073c-486f-a5b4-5222a4f14f41        2\n",
       "9276a85e-5e98-445f-aded-2331b1d868bf        2\n",
       "9276ce71-6f28-4439-baa8-1ac4d7d12c81        2\n",
       "9276f7a7-6ad5-471f-bae2-02a1eb45f378        2\n",
       "9276fedc-95f9-4ec9-ae20-8a74b94c9950        2\n",
       "92770a17-233b-47a2-947c-0d89c18d61ce        2\n",
       "927719a2-5e13-4f7a-9094-ad48e84ddb11        2\n",
       "9277b680-9587-4fb8-93e9-93c6072a26cc        2\n",
       "92785a10-92ac-49af-939d-19fe5054b5e9        2\n",
       "92785e8b-1245-481a-916e-5d1fcfafb31a        2\n",
       "92786b56-9efb-460e-b148-a758615f5e38        2\n",
       "92787d01-bbed-444a-9608-f7fe64a72244        2\n",
       "92789290-6661-4bbb-9e5a-1615c999ec07        2\n",
       "9278bc67-f00d-4eed-8423-fe79dd8cef7e        2\n",
       "9278e7dc-034a-4ec7-8eeb-18429a379f52        2\n",
       "9279243f-1607-4d87-bb70-a5ed771cc712        2\n",
       "9279879a-af3f-4608-9b4a-7581eb29232b        2\n",
       "9279a989-8834-4d60-9d34-c3233e28e71f        2\n",
       "9279d0d4-df34-4142-9bf0-a4de6f6b9e00        2\n",
       "00001459-1103-4ceb-b772-ca9a785c131c        2\n",
       "Length: 732143, dtype: int64"
      ]
     },
     "execution_count": 18,
     "metadata": {},
     "output_type": "execute_result"
    }
   ],
   "source": [
    "events.groupby('session_id').size().loc[lambda x: x>1].sort_values(ascending=False)"
   ]
  },
  {
   "cell_type": "markdown",
   "metadata": {},
   "source": [
    "let's look @ high-volume sessions"
   ]
  },
  {
   "cell_type": "code",
   "execution_count": 21,
   "metadata": {
    "collapsed": false
   },
   "outputs": [],
   "source": [
    "session_cnts = events.groupby('dg_id').session_id.nunique().sort_values(ascending=False).reset_index()\n",
    "session_cnts.columns = ['dg_id', 'sessions']"
   ]
  },
  {
   "cell_type": "code",
   "execution_count": 22,
   "metadata": {
    "collapsed": false
   },
   "outputs": [
    {
     "data": {
      "text/plain": [
       "<matplotlib.axes.AxesSubplot at 0x16b9588d0>"
      ]
     },
     "execution_count": 22,
     "metadata": {},
     "output_type": "execute_result"
    },
    {
     "data": {
      "image/png": "[encoded data removed]",
      "text/plain": [
       "<matplotlib.figure.Figure at 0x16dce38d0>"
      ]
     },
     "metadata": {},
     "output_type": "display_data"
    }
   ],
   "source": [
    "session_cnts[session_cnts.sessions<=20].sessions.hist(bins=20)"
   ]
  },
  {
   "cell_type": "code",
   "execution_count": 23,
   "metadata": {
    "collapsed": false
   },
   "outputs": [
    {
     "data": {
      "text/plain": [
       "<matplotlib.axes.AxesSubplot at 0x13f37f710>"
      ]
     },
     "execution_count": 23,
     "metadata": {},
     "output_type": "execute_result"
    },
    {
     "data": {
      "image/png": "[encoded data removed]",
      "text/plain": [
       "<matplotlib.figure.Figure at 0x10e9e0550>"
      ]
     },
     "metadata": {},
     "output_type": "display_data"
    }
   ],
   "source": [
    "session_cnts[(session_cnts.sessions>20)&(session_cnts.sessions<=200)].sessions.hist(bins=20)"
   ]
  },
  {
   "cell_type": "code",
   "execution_count": 24,
   "metadata": {
    "collapsed": false
   },
   "outputs": [
    {
     "data": {
      "text/plain": [
       "<matplotlib.axes.AxesSubplot at 0x114158410>"
      ]
     },
     "execution_count": 24,
     "metadata": {},
     "output_type": "execute_result"
    },
    {
     "data": {
      "image/png": "[encoded data removed]",
      "text/plain": [
       "<matplotlib.figure.Figure at 0x11417d750>"
      ]
     },
     "metadata": {},
     "output_type": "display_data"
    }
   ],
   "source": [
    "session_cnts[(session_cnts.sessions>200)].sessions.hist(bins=20)"
   ]
  },
  {
   "cell_type": "markdown",
   "metadata": {},
   "source": [
    "### Should we also filter dg_ids with tons of distinct sessions? or is that ok idk"
   ]
  },
  {
   "cell_type": "code",
   "execution_count": 25,
   "metadata": {
    "collapsed": false
   },
   "outputs": [],
   "source": [
    "events['hour'] = events.timestamp.apply(lambda x: x.hour)\n",
    "events['dow'] = events.timestamp.apply(lambda x: x.dayofweek)"
   ]
  },
  {
   "cell_type": "code",
   "execution_count": 26,
   "metadata": {
    "collapsed": false
   },
   "outputs": [
    {
     "data": {
      "text/plain": [
       "<matplotlib.axes.AxesSubplot at 0x11471d1d0>"
      ]
     },
     "execution_count": 26,
     "metadata": {},
     "output_type": "execute_result"
    },
    {
     "data": {
      "image/png": "[encoded data removed]",
      "text/plain": [
       "<matplotlib.figure.Figure at 0x117a7a310>"
      ]
     },
     "metadata": {},
     "output_type": "display_data"
    }
   ],
   "source": [
    "events.drop_duplicates(subset=['hour', 'session_id']).hour.hist()"
   ]
  },
  {
   "cell_type": "code",
   "execution_count": 27,
   "metadata": {
    "collapsed": false
   },
   "outputs": [
    {
     "data": {
      "text/plain": [
       "<matplotlib.axes.AxesSubplot at 0x113f27510>"
      ]
     },
     "execution_count": 27,
     "metadata": {},
     "output_type": "execute_result"
    },
    {
     "data": {
      "image/png": "[encoded data removed]",
      "text/plain": [
       "<matplotlib.figure.Figure at 0x118299150>"
      ]
     },
     "metadata": {},
     "output_type": "display_data"
    }
   ],
   "source": [
    "events.drop_duplicates(subset=['dow', 'session_id']).dow.hist(bins=7)"
   ]
  },
  {
   "cell_type": "markdown",
   "metadata": {},
   "source": [
    "very few visitors have web events, let's dig in"
   ]
  },
  {
   "cell_type": "code",
   "execution_count": 28,
   "metadata": {
    "collapsed": false
   },
   "outputs": [],
   "source": [
    "dgids = set(events.dg_id)"
   ]
  },
  {
   "cell_type": "code",
   "execution_count": 29,
   "metadata": {
    "collapsed": true
   },
   "outputs": [],
   "source": [
    "visitors['has_event'] = visitors.dg_id.apply(lambda x: 1 if x in dgids else 0)"
   ]
  },
  {
   "cell_type": "code",
   "execution_count": 30,
   "metadata": {
    "collapsed": false
   },
   "outputs": [
    {
     "data": {
      "image/png": "[encoded data removed]",
      "text/plain": [
       "<matplotlib.figure.Figure at 0x1173d8210>"
      ]
     },
     "metadata": {},
     "output_type": "display_data"
    }
   ],
   "source": [
    "sns.countplot(x=\"professional_designation\", hue=\"has_event\", data=visitors, palette=\"Greens_d\");"
   ]
  },
  {
   "cell_type": "code",
   "execution_count": 31,
   "metadata": {
    "collapsed": false
   },
   "outputs": [],
   "source": [
    "with_events = visitors.groupby('professional_designation').has_event.agg(['sum', 'count'])"
   ]
  },
  {
   "cell_type": "code",
   "execution_count": 32,
   "metadata": {
    "collapsed": false
   },
   "outputs": [],
   "source": [
    "with_events['pct'] = with_events.apply(lambda x: x['sum']/x['count'], axis=1)"
   ]
  },
  {
   "cell_type": "code",
   "execution_count": 34,
   "metadata": {
    "collapsed": false
   },
   "outputs": [
    {
     "data": {
      "text/html": [
       "<div>\n",
       "<style>\n",
       "    .dataframe thead tr:only-child th {\n",
       "        text-align: right;\n",
       "    }\n",
       "\n",
       "    .dataframe thead th {\n",
       "        text-align: left;\n",
       "    }\n",
       "\n",
       "    .dataframe tbody tr th {\n",
       "        vertical-align: top;\n",
       "    }\n",
       "</style>\n",
       "<table border=\"1\" class=\"dataframe\">\n",
       "  <thead>\n",
       "    <tr style=\"text-align: right;\">\n",
       "      <th></th>\n",
       "      <th>sum</th>\n",
       "      <th>count</th>\n",
       "      <th>pct</th>\n",
       "    </tr>\n",
       "    <tr>\n",
       "      <th>professional_designation</th>\n",
       "      <th></th>\n",
       "      <th></th>\n",
       "      <th></th>\n",
       "    </tr>\n",
       "  </thead>\n",
       "  <tbody>\n",
       "    <tr>\n",
       "      <th>Dentist</th>\n",
       "      <td>6871</td>\n",
       "      <td>246727</td>\n",
       "      <td>0.027849</td>\n",
       "    </tr>\n",
       "    <tr>\n",
       "      <th>NP</th>\n",
       "      <td>14172</td>\n",
       "      <td>238053</td>\n",
       "      <td>0.059533</td>\n",
       "    </tr>\n",
       "    <tr>\n",
       "      <th>Nurse</th>\n",
       "      <td>14537</td>\n",
       "      <td>683356</td>\n",
       "      <td>0.021273</td>\n",
       "    </tr>\n",
       "    <tr>\n",
       "      <th>PA</th>\n",
       "      <td>7056</td>\n",
       "      <td>120084</td>\n",
       "      <td>0.058759</td>\n",
       "    </tr>\n",
       "    <tr>\n",
       "      <th>POI</th>\n",
       "      <td>111623</td>\n",
       "      <td>3442129</td>\n",
       "      <td>0.032428</td>\n",
       "    </tr>\n",
       "    <tr>\n",
       "      <th>Physician</th>\n",
       "      <td>84664</td>\n",
       "      <td>1234312</td>\n",
       "      <td>0.068592</td>\n",
       "    </tr>\n",
       "  </tbody>\n",
       "</table>\n",
       "</div>"
      ],
      "text/plain": [
       "                             sum    count       pct\n",
       "professional_designation                           \n",
       "Dentist                     6871   246727  0.027849\n",
       "NP                         14172   238053  0.059533\n",
       "Nurse                      14537   683356  0.021273\n",
       "PA                          7056   120084  0.058759\n",
       "POI                       111623  3442129  0.032428\n",
       "Physician                  84664  1234312  0.068592"
      ]
     },
     "execution_count": 34,
     "metadata": {},
     "output_type": "execute_result"
    }
   ],
   "source": [
    "with_events"
   ]
  },
  {
   "cell_type": "code",
   "execution_count": 36,
   "metadata": {
    "collapsed": true
   },
   "outputs": [],
   "source": [
    "yrs_w_events = visitors.groupby('grad_year').has_event.agg(['sum', 'count']).reset_index()\n",
    "yrs_w_events['pct'] = yrs_w_events.apply(lambda x: x['sum']/x['count'], axis=1)"
   ]
  },
  {
   "cell_type": "code",
   "execution_count": 37,
   "metadata": {
    "collapsed": false
   },
   "outputs": [
    {
     "data": {
      "text/plain": [
       "<matplotlib.axes.AxesSubplot at 0x11740a1d0>"
      ]
     },
     "execution_count": 37,
     "metadata": {},
     "output_type": "execute_result"
    },
    {
     "data": {
      "image/png": "[encoded data removed]",
      "text/plain": [
       "<matplotlib.figure.Figure at 0x118289350>"
      ]
     },
     "metadata": {},
     "output_type": "display_data"
    }
   ],
   "source": [
    "yrs_w_events[yrs_w_events.grad_year>1950].plot(x='grad_year', y='pct')"
   ]
  },
  {
   "cell_type": "code",
   "execution_count": 38,
   "metadata": {
    "collapsed": false
   },
   "outputs": [
    {
     "data": {
      "text/plain": [
       "<matplotlib.axes.AxesSubplot at 0x1142d5450>"
      ]
     },
     "execution_count": 38,
     "metadata": {},
     "output_type": "execute_result"
    },
    {
     "data": {
      "image/png": "[encoded data removed]",
      "text/plain": [
       "<matplotlib.figure.Figure at 0x1142de1d0>"
      ]
     },
     "metadata": {},
     "output_type": "display_data"
    }
   ],
   "source": [
    "visitors[visitors.grad_year>1950].grad_year.hist(bins=67)"
   ]
  },
  {
   "cell_type": "code",
   "execution_count": null,
   "metadata": {
    "collapsed": true
   },
   "outputs": [],
   "source": []
  }
 ],
 "metadata": {
  "kernelspec": {
   "display_name": "Python 2",
   "language": "python",
   "name": "python2"
  },
  "language_info": {
   "codemirror_mode": {
    "name": "ipython",
    "version": 2
   },
   "file_extension": ".py",
   "mimetype": "text/x-python",
   "name": "python",
   "nbconvert_exporter": "python",
   "pygments_lexer": "ipython2",
   "version": "2.7.13"
  }
 },
 "nbformat": 4,
 "nbformat_minor": 0
}
