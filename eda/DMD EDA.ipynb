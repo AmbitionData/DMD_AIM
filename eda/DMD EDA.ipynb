{
 "metadata": {
  "name": "",
  "signature": "sha256:573668fa758cd119b56740ee33f8a87cf114a73f4fd2ed115b23e515504bc9f8"
 },
 "nbformat": 3,
 "nbformat_minor": 0,
 "worksheets": [
  {
   "cells": [
    {
     "cell_type": "code",
     "collapsed": false,
     "input": [
      "cd C:/Users/cgeorge1/Desktop/random/ambition_data/DMD_AIM_full"
     ],
     "language": "python",
     "metadata": {},
     "outputs": [
      {
       "output_type": "stream",
       "stream": "stdout",
       "text": [
        "C:\\Users\\cgeorge1\\Desktop\\random\\ambition_data\\DMD_AIM_full\n"
       ]
      }
     ],
     "prompt_number": 1
    },
    {
     "cell_type": "code",
     "collapsed": false,
     "input": [
      "import pandas as pd\n",
      "import numpy as np"
     ],
     "language": "python",
     "metadata": {},
     "outputs": [],
     "prompt_number": 3
    },
    {
     "cell_type": "code",
     "collapsed": false,
     "input": [
      "webeventsq2=pd.read_csv('web_events_q2_2017.csv')"
     ],
     "language": "python",
     "metadata": {},
     "outputs": [],
     "prompt_number": 4
    },
    {
     "cell_type": "code",
     "collapsed": false,
     "input": [
      "webeventsq1=pd.read_csv('web_events_q1_2017.csv')"
     ],
     "language": "python",
     "metadata": {},
     "outputs": [],
     "prompt_number": 5
    },
    {
     "cell_type": "code",
     "collapsed": false,
     "input": [
      "###Entity counts###\n",
      "webeventsq2.count()"
     ],
     "language": "python",
     "metadata": {},
     "outputs": [
      {
       "metadata": {},
       "output_type": "pyout",
       "prompt_number": 6,
       "text": [
        "\ufeffdg_id                 1343749\n",
        "machine_fingerprint    1247541\n",
        "session_id             1343749\n",
        "host                   1343749\n",
        "url                    1343749\n",
        "title                  1343749\n",
        "timestamp              1343749\n",
        "js_page_cnt            1343749\n",
        "referrer               1343582\n",
        "scheme                 1343749\n",
        "path                   1343749\n",
        "query                   343350\n",
        "fragment                 32153\n",
        "dtype: int64"
       ]
      }
     ],
     "prompt_number": 6
    },
    {
     "cell_type": "code",
     "collapsed": false,
     "input": [
      "###Column headers###\n",
      "list(webeventsq2.columns.values)"
     ],
     "language": "python",
     "metadata": {},
     "outputs": [
      {
       "metadata": {},
       "output_type": "pyout",
       "prompt_number": 7,
       "text": [
        "['\\xef\\xbb\\xbfdg_id',\n",
        " 'machine_fingerprint',\n",
        " 'session_id',\n",
        " 'host',\n",
        " 'url',\n",
        " 'title',\n",
        " 'timestamp',\n",
        " 'js_page_cnt',\n",
        " 'referrer',\n",
        " 'scheme',\n",
        " 'path',\n",
        " 'query',\n",
        " 'fragment']"
       ]
      }
     ],
     "prompt_number": 7
    },
    {
     "cell_type": "code",
     "collapsed": false,
     "input": [
      "###Unique dg_ids\n",
      "len(pd.unique(webeventsq2['\\xef\\xbb\\xbfdg_id'].ravel()))"
     ],
     "language": "python",
     "metadata": {},
     "outputs": [
      {
       "metadata": {},
       "output_type": "pyout",
       "prompt_number": 27,
       "text": [
        "91186"
       ]
      }
     ],
     "prompt_number": 27
    },
    {
     "cell_type": "code",
     "collapsed": false,
     "input": [
      "###Unique dg_ids\n",
      "len(pd.unique(webeventsq2['machine_fingerprint'].ravel()))"
     ],
     "language": "python",
     "metadata": {},
     "outputs": [
      {
       "metadata": {},
       "output_type": "pyout",
       "prompt_number": 9,
       "text": [
        "105215"
       ]
      }
     ],
     "prompt_number": 9
    },
    {
     "cell_type": "code",
     "collapsed": false,
     "input": [
      "###Null values\n",
      "webeventsq2.isnull().sum()"
     ],
     "language": "python",
     "metadata": {},
     "outputs": [
      {
       "metadata": {},
       "output_type": "pyout",
       "prompt_number": 10,
       "text": [
        "\ufeffdg_id                       0\n",
        "machine_fingerprint      96208\n",
        "session_id                   0\n",
        "host                         0\n",
        "url                          0\n",
        "title                        0\n",
        "timestamp                    0\n",
        "js_page_cnt                  0\n",
        "referrer                   167\n",
        "scheme                       0\n",
        "path                         0\n",
        "query                  1000399\n",
        "fragment               1311596\n",
        "dtype: int64"
       ]
      }
     ],
     "prompt_number": 10
    },
    {
     "cell_type": "markdown",
     "metadata": {},
     "source": [
      "Load visitors data"
     ]
    },
    {
     "cell_type": "code",
     "collapsed": false,
     "input": [
      "hcps=pd.read_csv('visitors.csv', low_memory=False)"
     ],
     "language": "python",
     "metadata": {},
     "outputs": [],
     "prompt_number": 12
    },
    {
     "cell_type": "code",
     "collapsed": false,
     "input": [
      "hcps.count()"
     ],
     "language": "python",
     "metadata": {},
     "outputs": [
      {
       "metadata": {},
       "output_type": "pyout",
       "prompt_number": 14,
       "text": [
        "\ufeffdg_id                        5964661\n",
        " identity_type                5964661\n",
        " professional_designation     5964661\n",
        " npi_number                   1384153\n",
        " primary_specialty            1823235\n",
        " primary_specialty_group      1823235\n",
        " secondary_specialty          1217428\n",
        " secondary_specialty_group    1217428\n",
        " first_name                   5565930\n",
        " last_name                    5450686\n",
        " formatted_name               1927499\n",
        " city                         1888352\n",
        " state                        2137900\n",
        " zipcode                      1998929\n",
        " birth_year                   5964661\n",
        " grad_year                    5964661\n",
        " grad_school                  1433138\n",
        " gender                       1872486\n",
        "dtype: int64"
       ]
      }
     ],
     "prompt_number": 14
    },
    {
     "cell_type": "code",
     "collapsed": false,
     "input": [
      "###Column headers###\n",
      "list(hcps.columns.values)"
     ],
     "language": "python",
     "metadata": {},
     "outputs": [
      {
       "metadata": {},
       "output_type": "pyout",
       "prompt_number": 15,
       "text": [
        "['\\xef\\xbb\\xbfdg_id',\n",
        " ' identity_type',\n",
        " ' professional_designation',\n",
        " ' npi_number',\n",
        " ' primary_specialty',\n",
        " ' primary_specialty_group',\n",
        " ' secondary_specialty',\n",
        " ' secondary_specialty_group',\n",
        " ' first_name',\n",
        " ' last_name',\n",
        " ' formatted_name',\n",
        " ' city',\n",
        " ' state',\n",
        " ' zipcode',\n",
        " ' birth_year',\n",
        " ' grad_year',\n",
        " ' grad_school',\n",
        " ' gender']"
       ]
      }
     ],
     "prompt_number": 15
    },
    {
     "cell_type": "code",
     "collapsed": false,
     "input": [
      "###Unique dg_ids in hcps\n",
      "len(pd.unique(hcps['\\xef\\xbb\\xbfdg_id'].ravel()))"
     ],
     "language": "python",
     "metadata": {},
     "outputs": [
      {
       "metadata": {},
       "output_type": "pyout",
       "prompt_number": 16,
       "text": [
        "5964661"
       ]
      }
     ],
     "prompt_number": 16
    },
    {
     "cell_type": "code",
     "collapsed": false,
     "input": [
      "###Unique npi in hcps\n",
      "len(pd.unique(hcps[' npi_number'].ravel()))"
     ],
     "language": "python",
     "metadata": {},
     "outputs": [
      {
       "metadata": {},
       "output_type": "pyout",
       "prompt_number": 17,
       "text": [
        "1373288"
       ]
      }
     ],
     "prompt_number": 17
    },
    {
     "cell_type": "code",
     "collapsed": false,
     "input": [
      "###Null values\n",
      "hcps.isnull().sum()"
     ],
     "language": "python",
     "metadata": {},
     "outputs": [
      {
       "metadata": {},
       "output_type": "pyout",
       "prompt_number": 18,
       "text": [
        "\ufeffdg_id                              0\n",
        " identity_type                      0\n",
        " professional_designation           0\n",
        " npi_number                   4580508\n",
        " primary_specialty            4141426\n",
        " primary_specialty_group      4141426\n",
        " secondary_specialty          4747233\n",
        " secondary_specialty_group    4747233\n",
        " first_name                    398731\n",
        " last_name                     513975\n",
        " formatted_name               4037162\n",
        " city                         4076309\n",
        " state                        3826761\n",
        " zipcode                      3965732\n",
        " birth_year                         0\n",
        " grad_year                          0\n",
        " grad_school                  4531523\n",
        " gender                       4092175\n",
        "dtype: int64"
       ]
      }
     ],
     "prompt_number": 18
    },
    {
     "cell_type": "markdown",
     "metadata": {},
     "source": [
      "Merge q2 web events with visitors data"
     ]
    },
    {
     "cell_type": "code",
     "collapsed": false,
     "input": [
      "combo2=webeventsq2.merge(hcps, how='left')"
     ],
     "language": "python",
     "metadata": {},
     "outputs": [],
     "prompt_number": 19
    },
    {
     "cell_type": "code",
     "collapsed": false,
     "input": [
      "combo2.isnull().sum()"
     ],
     "language": "python",
     "metadata": {},
     "outputs": [
      {
       "metadata": {},
       "output_type": "pyout",
       "prompt_number": 20,
       "text": [
        "\ufeffdg_id                              0\n",
        "machine_fingerprint             96208\n",
        "session_id                          0\n",
        "host                                0\n",
        "url                                 0\n",
        "title                               0\n",
        "timestamp                           0\n",
        "js_page_cnt                         0\n",
        "referrer                          167\n",
        "scheme                              0\n",
        "path                                0\n",
        "query                         1000399\n",
        "fragment                      1311596\n",
        " identity_type                      0\n",
        " professional_designation           0\n",
        " npi_number                    812867\n",
        " primary_specialty             709964\n",
        " primary_specialty_group       709964\n",
        " secondary_specialty           874311\n",
        " secondary_specialty_group     874311\n",
        " first_name                    119091\n",
        " last_name                     139006\n",
        " formatted_name                692298\n",
        " city                          703373\n",
        " state                         677958\n",
        " zipcode                       687200\n",
        " birth_year                         0\n",
        " grad_year                          0\n",
        " grad_school                   827291\n",
        " gender                        707560\n",
        "dtype: int64"
       ]
      }
     ],
     "prompt_number": 20
    },
    {
     "cell_type": "code",
     "collapsed": false,
     "input": [
      "combo2.columns.values"
     ],
     "language": "python",
     "metadata": {},
     "outputs": [
      {
       "metadata": {},
       "output_type": "pyout",
       "prompt_number": 22,
       "text": [
        "array(['\\xef\\xbb\\xbfdg_id', 'machine_fingerprint', 'session_id', 'host',\n",
        "       'url', 'title', 'timestamp', 'js_page_cnt', 'referrer', 'scheme',\n",
        "       'path', 'query', 'fragment', ' identity_type',\n",
        "       ' professional_designation', ' npi_number', ' primary_specialty',\n",
        "       ' primary_specialty_group', ' secondary_specialty',\n",
        "       ' secondary_specialty_group', ' first_name', ' last_name',\n",
        "       ' formatted_name', ' city', ' state', ' zipcode', ' birth_year',\n",
        "       ' grad_year', ' grad_school', ' gender'], dtype=object)"
       ]
      }
     ],
     "prompt_number": 22
    },
    {
     "cell_type": "markdown",
     "metadata": {},
     "source": [
      "Merge q1 web events with visitors data"
     ]
    },
    {
     "cell_type": "code",
     "collapsed": false,
     "input": [
      "combo1=webeventsq1.merge(hcps, how='left')"
     ],
     "language": "python",
     "metadata": {},
     "outputs": [],
     "prompt_number": 23
    },
    {
     "cell_type": "code",
     "collapsed": false,
     "input": [
      "combo1.isnull().sum()"
     ],
     "language": "python",
     "metadata": {},
     "outputs": [
      {
       "metadata": {},
       "output_type": "pyout",
       "prompt_number": 24,
       "text": [
        "\ufeffdg_id                              0\n",
        "machine_fingerprint             44747\n",
        "session_id                          0\n",
        "host                                0\n",
        "url                                 0\n",
        "title                            1866\n",
        "timestamp                           0\n",
        "js_page_cnt                         0\n",
        "referrer                          274\n",
        "scheme                              0\n",
        "path                                0\n",
        "query                         1758551\n",
        "fragment                      2109320\n",
        " identity_type                      0\n",
        " professional_designation           0\n",
        " npi_number                   1538525\n",
        " primary_specialty            1365487\n",
        " primary_specialty_group      1365487\n",
        " secondary_specialty          1612391\n",
        " secondary_specialty_group    1612391\n",
        " first_name                    237941\n",
        " last_name                     266562\n",
        " formatted_name               1320729\n",
        " city                         1346403\n",
        " state                        1298079\n",
        " zipcode                      1310990\n",
        " birth_year                         0\n",
        " grad_year                          0\n",
        " grad_school                  1519946\n",
        " gender                       1350266\n",
        "dtype: int64"
       ]
      }
     ],
     "prompt_number": 24
    },
    {
     "cell_type": "code",
     "collapsed": false,
     "input": [
      "len(combo1)"
     ],
     "language": "python",
     "metadata": {},
     "outputs": [
      {
       "metadata": {},
       "output_type": "pyout",
       "prompt_number": 25,
       "text": [
        "2312789"
       ]
      }
     ],
     "prompt_number": 25
    },
    {
     "cell_type": "markdown",
     "metadata": {},
     "source": [
      "Import Disease mapping--edit: need to clean URLs and match based on higher-order subpages"
     ]
    },
    {
     "cell_type": "code",
     "collapsed": false,
     "input": [
      "diseaseurl=pd.read_excel('domain_disease_map.xlsx')"
     ],
     "language": "python",
     "metadata": {},
     "outputs": [],
     "prompt_number": 31
    },
    {
     "cell_type": "code",
     "collapsed": false,
     "input": [
      "diseaseurl.head()"
     ],
     "language": "python",
     "metadata": {},
     "outputs": [
      {
       "html": [
        "<div style=\"max-width:1500px;overflow:auto;\">\n",
        "<table border=\"1\" class=\"dataframe\">\n",
        "  <thead>\n",
        "    <tr style=\"text-align: right;\">\n",
        "      <th></th>\n",
        "      <th>Site</th>\n",
        "      <th>Site Category</th>\n",
        "      <th>Site Sub Category</th>\n",
        "      <th>Disease Category</th>\n",
        "      <th>Disease</th>\n",
        "    </tr>\n",
        "  </thead>\n",
        "  <tbody>\n",
        "    <tr>\n",
        "      <th>0</th>\n",
        "      <td>http://www.paradigmspine.com/content/are-you-a...</td>\n",
        "      <td>Med Device</td>\n",
        "      <td>Branded Consumer</td>\n",
        "      <td>Surgery</td>\n",
        "      <td>NaN</td>\n",
        "    </tr>\n",
        "    <tr>\n",
        "      <th>1</th>\n",
        "      <td>http://www.paradigmspine.com/content/back-spin...</td>\n",
        "      <td>Med Device</td>\n",
        "      <td>Branded Consumer</td>\n",
        "      <td>Surgery</td>\n",
        "      <td>NaN</td>\n",
        "    </tr>\n",
        "    <tr>\n",
        "      <th>2</th>\n",
        "      <td>http://www.paradigmspine.com/content/coflex-study</td>\n",
        "      <td>Med Device</td>\n",
        "      <td>Branded Consumer</td>\n",
        "      <td>Surgery</td>\n",
        "      <td>NaN</td>\n",
        "    </tr>\n",
        "    <tr>\n",
        "      <th>3</th>\n",
        "      <td>http://www.paradigmspine.com/content/degenerat...</td>\n",
        "      <td>Med Device</td>\n",
        "      <td>Branded Consumer</td>\n",
        "      <td>Surgery</td>\n",
        "      <td>NaN</td>\n",
        "    </tr>\n",
        "    <tr>\n",
        "      <th>4</th>\n",
        "      <td>http://www.paradigmspine.com/content/degenerat...</td>\n",
        "      <td>Med Device</td>\n",
        "      <td>Branded Consumer</td>\n",
        "      <td>Surgery</td>\n",
        "      <td>NaN</td>\n",
        "    </tr>\n",
        "  </tbody>\n",
        "</table>\n",
        "</div>"
       ],
       "metadata": {},
       "output_type": "pyout",
       "prompt_number": 29,
       "text": [
        "                                                Site Site Category  \\\n",
        "0  http://www.paradigmspine.com/content/are-you-a...    Med Device   \n",
        "1  http://www.paradigmspine.com/content/back-spin...    Med Device   \n",
        "2  http://www.paradigmspine.com/content/coflex-study    Med Device   \n",
        "3  http://www.paradigmspine.com/content/degenerat...    Med Device   \n",
        "4  http://www.paradigmspine.com/content/degenerat...    Med Device   \n",
        "\n",
        "  Site Sub Category Disease Category  Disease  \n",
        "0  Branded Consumer           Surgery     NaN  \n",
        "1  Branded Consumer           Surgery     NaN  \n",
        "2  Branded Consumer           Surgery     NaN  \n",
        "3  Branded Consumer           Surgery     NaN  \n",
        "4  Branded Consumer           Surgery     NaN  "
       ]
      }
     ],
     "prompt_number": 29
    },
    {
     "cell_type": "code",
     "collapsed": false,
     "input": [
      "combo1disease=combo1.merge(diseaseurl, how='left')"
     ],
     "language": "python",
     "metadata": {},
     "outputs": [],
     "prompt_number": 34
    },
    {
     "cell_type": "code",
     "collapsed": false,
     "input": [
      "combo1disease.count()"
     ],
     "language": "python",
     "metadata": {},
     "outputs": [
      {
       "metadata": {},
       "output_type": "pyout",
       "prompt_number": 35,
       "text": [
        "\ufeffdg_id                        2312789\n",
        "machine_fingerprint           2268042\n",
        "session_id                    2312789\n",
        "host                          2312789\n",
        "url                           2312789\n",
        "title                         2310923\n",
        "timestamp                     2312789\n",
        "js_page_cnt                   2312789\n",
        "referrer                      2312515\n",
        "scheme                        2312789\n",
        "path                          2312789\n",
        "query                          554238\n",
        "fragment                       203469\n",
        " identity_type                2312789\n",
        " professional_designation     2312789\n",
        " npi_number                    774264\n",
        " primary_specialty             947302\n",
        " primary_specialty_group       947302\n",
        " secondary_specialty           700398\n",
        " secondary_specialty_group     700398\n",
        " first_name                   2074848\n",
        " last_name                    2046227\n",
        " formatted_name                992060\n",
        " city                          966386\n",
        " state                        1014710\n",
        " zipcode                      1001799\n",
        " birth_year                   2312789\n",
        " grad_year                    2312789\n",
        " grad_school                   792843\n",
        " gender                        962523\n",
        "Site Category                       0\n",
        "Site Sub Category                   0\n",
        "Disease Category                    0\n",
        "Disease                             0\n",
        "dtype: int64"
       ]
      }
     ],
     "prompt_number": 35
    },
    {
     "cell_type": "code",
     "collapsed": false,
     "input": [],
     "language": "python",
     "metadata": {},
     "outputs": []
    }
   ],
   "metadata": {}
  }
 ]
}